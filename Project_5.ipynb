{
 "cells": [
  {
   "cell_type": "markdown",
   "metadata": {},
   "source": [
    "# Introduction\n",
    "Our project paper explores the possibility of changing the speed of light (c) with the technique of <b>Coherent Population Oscillations (CPO)</b>. There has been lot of exploration in this area recently due to its practical applications. It allows for the production of \"Slow light\" (v << c) where speed has been reduced very drastically, \"Fast light\" (v > c) light made to travel even faster than it's speed in vacuum and even stopped/traped light. Controlling the speed of light has many applications including controllable optical data lines, optical data storage, optical memories, and devices for quantum information. Also when we talk about changing speed of light we are talking about about the group velocity of light which can drastically differ from it's phase velocity in vacuum. Traditionally to avoid high absorption at the region of rapid change in refractive index <b>Electromagnetically Induced Transparency (EIT)</b> was used but this technique has several limitations like material medium requirement to be a low-density atomic vapor or an impurity-doped solid maintained at low temperature. CPO technique has been able to solve this problem, it can work with solids at room temperature. CPO works by making the solid interact with a strong pump beam and a probe beam with a slightly different frequency that makes the population of ground state oscillate at the beat frequency of the two waves, and mathematical analysis shows that this population oscillation leads to rapid frequency variation in the refractive index which leads to very large overall refractive index.\n",
    "\n",
    "Experimental setup described in the paper is shown below\n"
   ]
  },
  {
   "cell_type": "markdown",
   "metadata": {},
   "source": [
    "<img src=\"files/setup.png\">"
   ]
  },
  {
   "cell_type": "markdown",
   "metadata": {},
   "source": [
    "Argon Ion Laser is fist passed through an attenuator and Electro-optic Modulator as a preprocessing step after that a glass slide is used to split the beam into two parts one with 5% of the total intensity goes straight to the digital oscilloscope and other get's focused on a ruby rod of length 7.25 cm long with a lens of focal length 40 cm. After that final two beams were compared for the delay and attenuation."
   ]
  },
  {
   "cell_type": "markdown",
   "metadata": {},
   "source": [
    "# Mathematical Analysis\n",
    "Consider $^{4}F_{2}$ absorption band as b, ground state as a and intermediate states $2\\bar{A}$ and $\\bar{E}$ as c. Due to a very short decay time of level b we can approximate this three level system as a two level system.\n",
    "\n",
    "Below figure explains the approximation\n",
    "<img src=\"files/states.png\" width=\"400\">\n",
    "\n",
    "where $T_{1}^{'}$ is the lifetime of c, $T_{2}$ dipole dephasing time, and $T_{1}$ is the total ground state recovery time with the relation $T_{1}$ = $2T_{1}^{'}$. For this two level system density matrix equations are given by:\n",
    "\n",
    "$\\dot{\\rho} = -(i\\omega + 1/T_{2})\\rho_{ba} + (i/\\hbar)V_{ba}w$\n",
    "\n",
    "$\\dot{w} = -(w - w^{(eq)})/T_{1} - (2i/\\hbar)(V_{ba}\\rho_{ba} - V_{ab}\\rho_{ab})$\n",
    "\n",
    "where w and $w^{(eq)}$ are the population and population inversion at thermal equilibrium and\n",
    "\n",
    "$V_{ba} = -\\mu_{ba}(E_{1}e^{-i\\omega_{1}t} + E_{3}e^{-i\\omega_{3}t})$ and\n",
    "\n",
    "$\\omega_{3} = \\omega_{1} + \\delta$ \n",
    "\n",
    "and w(t) approximation is given by\n",
    "\n",
    "$w(t) = w^{0} + w^{-\\delta}e^{i\\delta}t + w^{\\delta}e^{-i\\delta}t$ \n",
    "\n",
    "With following approximations, $\\omega_{1} = \\omega_{ab}$, $T_{2}^{-1} >> 2|\\mu_{ab}||E_{1}|/\\hbar$,  $T_{2}^{-1} >> \\delta, w^{(eq)} = -1 $\n",
    "\n",
    "solution of the above system different equation turns out to be \n",
    "\n",
    "<img src=\"files/p.png\" width=\"380\">\n",
    "\n",
    "where \n",
    "\n",
    "<img src=\"files/beta.png\" width=\"380\">\n",
    "\n",
    "By using the equation\n",
    "$\\chi^{(\\delta)} = N\\mu_{ab}\\rho_{ba}(\\omega_{3})/E_{3}$\n",
    "\n",
    "This gives refractive index and absorption coefficient as \n",
    "\n",
    "<img src=\"files/ri.png\" width=\"380\">\n",
    "\n",
    "<img src=\"files/alpha.png\" width=\"380\">\n",
    "\n",
    "\n",
    "where $I_{0} = I_{1}/I_{sat} = \\Omega^{3}T_{1}T_{2}$ and $\\alpha_{0}$ is unsaturated absorption cofficient.\n",
    "\n",
    "finally using $n_{mod} = n_{1} + \\omega_{1}[n(\\delta) - n(-\\delta)]/2\\delta$\n",
    "\n",
    "we get refractive index for the group velocity\n",
    "\n",
    "<img src=\"files/n_mod.png\" width=\"380\">\n",
    "\n",
    "Similarly, the relative attenuation is given \n",
    "\n",
    "<img src=\"files/a.png\" width=\"320\">\n",
    "\n",
    "with $I_{0}$ following the differential equation\n",
    "\n",
    "<img src=\"files/diff.png\" width=\"200\">\n"
   ]
  },
  {
   "cell_type": "markdown",
   "metadata": {},
   "source": [
    "# Code & Simulations"
   ]
  },
  {
   "cell_type": "code",
   "execution_count": 4,
   "metadata": {},
   "outputs": [],
   "source": [
    "#importing necessary dependencies\n",
    "import math\n",
    "from scipy import integrate\n",
    "import numpy as np\n",
    "import matplotlib.pyplot as plt"
   ]
  },
  {
   "cell_type": "code",
   "execution_count": 7,
   "metadata": {},
   "outputs": [],
   "source": [
    "#solution of modulated refractive index\n",
    "def n_mod(n1, alpha, c, T1, I, delta):\n",
    "    n_m = n1 + ((alpha*c*T1)/2)*(I/(1 + I))*(1/((1 + I)**2 + (T1*delta)**2)) \n",
    "    return n_m"
   ]
  },
  {
   "cell_type": "code",
   "execution_count": 30,
   "metadata": {},
   "outputs": [],
   "source": [
    "#modulation attenuation\n",
    "#Difference between attenuation of modulation intensity and pump intensity\n",
    "def mod_att(L, T1, I, delta):\n",
    "    att = 0.5*math.log(((1 + integral(L))**2 + (T1*delta)**2)/((1 + integral(0))**2 + (T1*delta)**2))\n",
    "    return att"
   ]
  },
  {
   "cell_type": "code",
   "execution_count": 15,
   "metadata": {},
   "outputs": [],
   "source": [
    "#defining various constants value given in the paper\n",
    "alpha = 1.17 #cm-1\n",
    "T1 = 4.45 #ms\n",
    "I0 = 1.5*1e3 #W/cm^2\n",
    "L0 = 514.5*1e-9 #nm\n",
    "L = 7.25 #nm\n",
    "n1 = 1\n",
    "c = 3*1e10 #cm^2/s"
   ]
  },
  {
   "cell_type": "code",
   "execution_count": 10,
   "metadata": {},
   "outputs": [],
   "source": [
    "#differential equation of I with respect to L\n",
    "def diff_I(I, L, alpha):\n",
    "    dIdZ = -alpha*I/(1 + I)\n",
    "    return dIdZ"
   ]
  },
  {
   "cell_type": "code",
   "execution_count": 11,
   "metadata": {},
   "outputs": [],
   "source": [
    "#function for numeric solution of the above equation\n",
    "def integral(L):\n",
    "    l = np.linspace(L0, L, 2)\n",
    "    i = integrate.odeint(diff_I, I0, l, args=(alpha, ))\n",
    "    return i[1][0]"
   ]
  },
  {
   "cell_type": "markdown",
   "metadata": {},
   "source": [
    "# Plots"
   ]
  },
  {
   "cell_type": "code",
   "execution_count": 22,
   "metadata": {},
   "outputs": [
    {
     "data": {
      "text/plain": [
       "(100,)"
      ]
     },
     "execution_count": 22,
     "metadata": {},
     "output_type": "execute_result"
    }
   ],
   "source": [
    "#delta variations\n",
    "delta = np.linspace(0, 1000, 100)"
   ]
  },
  {
   "cell_type": "code",
   "execution_count": 23,
   "metadata": {},
   "outputs": [],
   "source": [
    "y = []\n",
    "for e in delta:\n",
    "    y.append(n_mod(n1, alpha, c, T1, integral(L), e))\n",
    "y = np.array(y)"
   ]
  },
  {
   "cell_type": "code",
   "execution_count": 25,
   "metadata": {},
   "outputs": [
    {
     "data": {
      "text/plain": [
       "[<matplotlib.lines.Line2D at 0x1c4649eefd0>]"
      ]
     },
     "execution_count": 25,
     "metadata": {},
     "output_type": "execute_result"
    },
    {
     "data": {
      "image/png": "[encoded data removed]",
      "text/plain": [
       "<Figure size 432x288 with 1 Axes>"
      ]
     },
     "metadata": {
      "needs_background": "light"
     },
     "output_type": "display_data"
    }
   ],
   "source": [
    "plt.plot(delta, y) # refractive index vs delta"
   ]
  },
  {
   "cell_type": "code",
   "execution_count": 31,
   "metadata": {},
   "outputs": [],
   "source": [
    "a = []\n",
    "for e in delta:\n",
    "    a.append(mod_att(L, T1, integral(L), e))\n",
    "a = np.array(a)"
   ]
  },
  {
   "cell_type": "code",
   "execution_count": 33,
   "metadata": {},
   "outputs": [
    {
     "data": {
      "text/plain": [
       "[<matplotlib.lines.Line2D at 0x1c464b40790>]"
      ]
     },
     "execution_count": 33,
     "metadata": {},
     "output_type": "execute_result"
    },
    {
     "data": {
      "image/png": "[encoded data removed]",
      "text/plain": [
       "<Figure size 432x288 with 1 Axes>"
      ]
     },
     "metadata": {
      "needs_background": "light"
     },
     "output_type": "display_data"
    }
   ],
   "source": [
    "plt.plot(delta, a) # attenuation vs delta"
   ]
  }
 ],
 "metadata": {
  "kernelspec": {
   "display_name": "Python 3",
   "language": "python",
   "name": "python3"
  },
  "language_info": {
   "codemirror_mode": {
    "name": "ipython",
    "version": 3
   },
   "file_extension": ".py",
   "mimetype": "text/x-python",
   "name": "python",
   "nbconvert_exporter": "python",
   "pygments_lexer": "ipython3",
   "version": "3.8.3"
  }
 },
 "nbformat": 4,
 "nbformat_minor": 4
}
