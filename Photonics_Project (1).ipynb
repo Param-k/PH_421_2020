{
  "nbformat": 4,
  "nbformat_minor": 0,
  "metadata": {
    "colab": {
      "name": "Photonics Project ",
      "provenance": [],
      "collapsed_sections": []
    },
    "kernelspec": {
      "name": "python3",
      "display_name": "Python 3"
    }
  },
  "cells": [
    {
      "cell_type": "markdown",
      "metadata": {
        "id": "-MGbjigPKw7x"
      },
      "source": [
        "\n",
        "#Cavity enhanced nonlinear optics for few\n",
        "#photon optical bistability\n",
        "*Taylor K. Fryett, Christopher M. Dodson, and Arka Majumdar*\n",
        "\n",
        "#Optical Bistability\n",
        "\n",
        "\n",
        "The term *optical bistability* refers to the situation in which\n",
        "two different output optical intensities are possible for a given input optical intensity .\n",
        "\n",
        "It is of  primary interest for its potential  usage as a switch  in *Optical Computing* \n",
        "\n",
        "First step in realization of optical logic would be constructing an optical analogue of an electronic transistor.\n",
        "\n",
        "\n",
        "Different approaches to optical\n",
        "transistors have been proposed.Optical bistability is one . Other methods include laser gain, quantum dots , certain atomic sytems etc.\n",
        "\n",
        "\n",
        "\n",
        "---\n",
        "\n",
        "\n",
        "\n",
        "**Criteria for Optical logic**$^1$\n",
        "\n",
        "The silicon-based  transistor and the logic\n",
        "gates based on it have qualitative\n",
        "features that are crucial for systems of\n",
        "any complexity, but very few optical\n",
        "transistors or logic devices possess them\n",
        ".In addition to basic complete logic\n",
        "functionality such as NOR or NAND\n",
        "gates, the first four requirements below are\n",
        "essential for any logic device-\n",
        "\n",
        "**Cascadability** -The output of one stage\n",
        "must be in the right  form to function as the \n",
        "the input of the next stage. In optics,\n",
        "the output and input wavelengths,\n",
        "beam shapes and pulse shapes should\n",
        "be compatible.\n",
        "\n",
        "**Fan-out**- The output of one stage must have enough energy\n",
        " to drive the inputs of at least two\n",
        "subsequent stages . Stimulated emission gain\n",
        "is not required, however — it is enough  that small input power changes result in\n",
        "larger output power changes\n",
        "\n",
        " **Logic-Level Restoration**-The quality\n",
        "of the logic signal is restored so that\n",
        "degradations in signal quality do not\n",
        "propagate through the system; that is,\n",
        "the signal is ‘cleaned up’ at each stage\n",
        " For optics, one  must consider\n",
        "restoring beam quality and/or pulse\n",
        "quality as well as signal-level ranges\n",
        "\n",
        "**Input/output isolation**-It should be possible to isolate input and output signals .\n",
        "\n",
        "\n",
        "**Absence of critical biasing**-There should be a considerable range of conditions under which that the device can operate\n",
        "\n",
        "**Logic level Independent of loss**- The logic\n",
        "level represented in a signal should not\n",
        "depend on transmission loss, as this loss\n",
        "can vary for different paths in a system.\n",
        "For voltage logic levels in electrical \n",
        "\n",
        "\n",
        "\n",
        "\n",
        "---\n",
        "\n",
        "\n",
        "The are various ways through  which optical bistability can be achieved. A few of them are -\n",
        "\n",
        "Thermo-optic effects\n",
        "\n",
        "Carrier injection \n",
        "\n",
        "a combination of both\n",
        "\n",
        "Opto-electronic feedback\n",
        "\n",
        "All the above methods are inherently slow since they rely on  carrier generation .\n",
        "\n",
        "In this paper , second-order non-linearity is used to achieve optical bistability .\n",
        "\n",
        "However,nonlinear optical effects in bulk materials are often very weak, requiring large optical powers (∼ mW) to observe the necessary bistability.\n",
        "This increases the power consumption of such devices and thus, limits the technological practicality.\n",
        "\n",
        "One way to overcome this would be to use materials with  higher  nonlinear susceptibilities or increase the strength of light matter interaction  by using cavities .\n",
        "\n",
        "\n",
        "\n",
        "\n",
        "\n",
        "\n",
        "\n",
        "\n",
        "\n",
        "\n",
        "\n",
        "\n",
        "\n",
        "\n",
        "\n",
        "\n",
        "\n",
        "\n",
        "\n",
        "\n",
        "\n",
        "\n",
        "\n",
        "\n",
        "\n",
        "\n"
      ]
    },
    {
      "cell_type": "markdown",
      "metadata": {
        "id": "VDioLsZf6nZA"
      },
      "source": [
        "# Theory \n",
        "\n"
      ]
    },
    {
      "cell_type": "markdown",
      "metadata": {
        "id": "i3KALKGVQ-Z2"
      },
      "source": [
        "The sytem considered here is a \"Doubly-Resonant Cavity \"-A cavity with only two resonant modes with frequencies $\\omega_a$ and $\\omega_b$.\n",
        "\n",
        "(The cavity considered has more than just two modes  , but here as we will see later but if the laser is not too much detuned in frequency from some of the modes, then one  can reduce to a smaller subspace of these modes.)\n",
        "  \n",
        "Only second order nonlinear effects are being considered.In the interaction two photons at the fundamental frequency are converted to one photon at the second harmonic frequency .\n",
        "\n",
        "We know we have to ensure phase matching  between the two modes.In the case of cavities it corresponds to non-zero spatial  overlap between the two mode profiles .\n",
        "\n",
        "In the bistable device being considered , the input and output light are at the fundamental mode frequency and the second harmonic is just mediating the interaction .\n",
        "\n",
        "The first step is to arrive at the expression for the hamiltonian of the system.\n",
        "But that requires some knowledge of second quantization formalism.\n",
        " "
      ]
    },
    {
      "cell_type": "markdown",
      "metadata": {
        "id": "_G9_xEwXguKq"
      },
      "source": [
        "##Second Quantization Formalism$^2$\n",
        "\n",
        "\n",
        "\n",
        "\n",
        "\n",
        "It's an approach to deal with multiparticle states.(Where all the paritcles are identical .)\n",
        "\n",
        "\n",
        "Firstly we define a multiparitcle state-vector\n",
        "\n",
        "$|n_1,n_2,n_3...,n_i...\\rangle.$Here $n_i$ specifies the number of particles i the eigenvalue $k_i$ for some operator .The vector space in which the above is defined is called  \"Fock space\".\n",
        "\n",
        "Two special cases of states in Fock Space-\n",
        "\n",
        "The Vacuum State - $|0,0,0,0....\\rangle$.This state has no particles in any of the states.\n",
        "\n",
        "Single Particle State-$|0,0,0,....,n_i=1,0,0...\\rangle$.This is a normal state-ket in single particle quantum mechanics.\n",
        "\n",
        "Now , we define operators $a_i^\\dagger , a_i$ for the state with eigenvalue $k_i$.\n",
        "\n",
        "$a_i^\\dagger$ is the particle creation operator -\n",
        "$a_i^\\dagger|n_1,n_2,....,n_i,...\\rangle \\varpropto |n_1,n_2,....,n_i+1,...\\rangle $ \n",
        "\n",
        "$a_i$ is the annihilation operator -\n",
        "$a_i|n_1,n_2,....,n_i,...\\rangle \\varpropto |n_1,n_2,....,n_i-1,...\\rangle $ \n",
        "\n",
        "Now , we have to incorporate  permutation symmetry in the fock space -\n",
        "\n",
        "For fermions-\n",
        "$a_i^\\dagger a_j^\\dagger |\\mathbf{0}\\rangle=-a_i^\\dagger a_j^\\dagger |\\mathbf{0}\\rangle$\n",
        "\n",
        "For Bosons-\n",
        "$a_i^\\dagger a_j^\\dagger |\\mathbf{0}\\rangle=a_i^\\dagger a_j^\\dagger |\\mathbf{0}\\rangle$\n",
        "\n",
        "From the above conditions it is possible to derive the following relations-\n",
        "\n",
        "\n",
        "$[a_i^\\dagger, a_j^\\dagger] = 0$(For Bosons)\n",
        "\n",
        "$\\{a_i^\\dagger, a_j^\\dagger\\} = 0$(For Fermions)\n",
        "\n",
        "\n",
        "\n",
        "Taking the adjoint -\n",
        "\n",
        "$[a_i, a_j ] = 0$(For Bosons)\n",
        "\n",
        "$\\{a_i, a_j\\} = 0$(For Fermions)\n",
        "\n",
        "\n",
        "We would also like to define the a number operator $N_i=a_i^\\dagger a_i$ which gives the number of particles in the the state i.\n",
        "\n",
        "By ,analogy with simple harmonic oscillators it is possible to do so if-\n",
        "\n",
        "[$a_i^\\dagger,a_i$] =1 (For Bosons)\n",
        "\n",
        "{$a_i^\\dagger,a_i$} =1 (For Fermions)\n",
        "\n",
        "\n",
        "\n",
        "\n",
        "\n",
        "\n",
        "\n",
        "\n",
        "\n",
        "\n",
        "\n",
        "\n",
        "\n",
        "\n",
        "\n",
        "\n"
      ]
    },
    {
      "cell_type": "markdown",
      "metadata": {
        "id": "ScYnOruNs_gg"
      },
      "source": [
        "###Dynamical Variables\n",
        "\n",
        "The operator of an additive  dynamic variable (like momentum or kinetic energy)\n",
        "is defined as -\n",
        "\n",
        "Consider a multiparitcle state-$|\\Psi\\rangle = |n_1,n_2,n_3...,n_i...\\rangle$\n",
        "\n",
        "We expect the eigen value of the multiparticle operator $\\mathscr{K}  $ to be $\\sum\\mathbf{n_i}k_i$\n",
        "\n",
        "This is easy to accomplish if we define $\\mathscr{K}= \\sum a_i a_i^\\dagger k_i $\n",
        "\n",
        "\n"
      ]
    },
    {
      "cell_type": "markdown",
      "metadata": {
        "id": "vHof7qIOv998"
      },
      "source": [
        "### Quantization of the Electromagnetic Field- \n",
        "\n",
        "Maxwell's equations in Free Space-\n",
        "\n",
        "$\\nabla .\\mathbf{E} = 0$\n",
        "\n",
        "$\\nabla .\\mathbf{B} = 0$\n",
        "\n",
        "$\\nabla \\times \\mathbf{E} + \\frac{1}{c} \\frac{\\partial\\mathbf{B}}{\\partial t} = 0$\n",
        "\n",
        "$\\nabla \\times \\mathbf{B} - \\frac{1}{c} \\frac{\\partial\\mathbf{E}}{\\partial t} = 0$ \n",
        "\n",
        "The Vector potential is postulated  as-\n",
        "\n",
        "$\\mathbf{B} =\\nabla\\times\\mathbf{A}$\n",
        "\n",
        "Then , we impose the condition -\n",
        "\n",
        "$\\nabla.\\mathbf{A}=0$\n",
        "\n",
        "$\\mathbf{E} = \\frac{-1}{c} \\frac{\\partial \\mathbf{A}}{\\partial t}$\n",
        "\n",
        "\n",
        "$\\nabla^2\\mathbf{A} - \\frac{1}{c^2}\\frac{\\partial^2\\mathbf{A}}{\\partial t^2}=0$\n",
        "\n",
        "\n",
        "The solutions can be written as -\n",
        "\n",
        "$\\mathbf{A}(\\mathbf{x},t )= \\mathbf{A}(\\mathbf{k})e^{\\pm i\\mathbf{k.x}}e^{\\pm i\\omega t}$\n",
        "\n",
        "$\\mathbf{A}(\\mathbf{x},t) = \\sum_{\\mathbf{k}\\lambda}{\\hat{\\mathbf{e}}_{\\mathbf{k}\\lambda}}\\mathbf{A}_{\\mathbf{k}\\lambda}(\\mathbf{x},t) $\n",
        "\n",
        "The overall energy in the electromagnetic field is given by\n",
        "$\\mathcal{E} = \\frac{1}{8\\pi}\\int_V[|\\mathbf{E}(\\mathbf{x},t)|^2+|\\mathbf{B}(\\mathbf{x},t)|^2|]\\,d^3\\mathbf{x}$\n",
        "\n",
        "$\\mathbf{E} = \\frac{i}{c}\\sum_{\\mathbf{k}\\lambda}\\omega_k[\\mathbf{A}_{\\mathbf{k}\\lambda}e^{-i(\\omega_k t- \\mathbf{k}.\\mathbf{x})}+\\mathbf{A}^*_{\\mathbf{k}\\lambda}e^{+i(\\omega_k t- \\mathbf{k}.\\mathbf{x})}]$\n",
        "\n",
        "The above integral can then be evaluated using -\n",
        "\n",
        "$\\int_V e^{(\\mathbf{k}\\pm\\mathbf{k'}).\\mathbf{x}}\\,d^3\\mathbf{x}=V\\delta_{\\mathbf{k},\\pm \\mathbf{k'}}$\n",
        "\n",
        "The final expression we get is \n",
        "\n",
        "$\\mathcal{E}= \\frac{1}{4\\pi}\\sum_{\\mathbf{k}\\lambda}\\frac{\\omega_k^2}{c^2}[\\mathbf{A}_{\\mathbf{k}\\lambda}^*\\mathbf{A}_{\\mathbf{k}\\lambda}+\\mathbf{A}_{\\mathbf{k}\\lambda}\\mathbf{A}_{\\mathbf{k}\\lambda}^*]$\n",
        "\n",
        "Now , we hypothesize that the electromagnetic field is quantized -it is made up of a collection of identical particles called photons.\n",
        "\n",
        "An operator $a_\\lambda^\\dagger(\\mathbf{k})$ creates a photon  with polarization $\\lambda $\n",
        "and momentum $\\hbar\\mathbf{k}$ and the operator $a_{\\lambda}(\\mathbf{k})$ annihilates it.\n",
        "\n",
        "The energy of this photon is $\\hbar\\omega_k$\n",
        "\n",
        "$\\mathcal{H} = \\sum_{\\mathbf{k},\\lambda}\\hbar \\omega_k a_\\lambda^\\dagger(\\mathbf{k})a_\\lambda(\\mathbf{k})$\n",
        "\n",
        "It can be seen that photon is a boson .\n",
        "\n",
        "$\\mathcal{H} = \\frac{1}{2}\\sum_{\\mathbf{k},\\lambda}[\\hbar \\omega_k a_\\lambda(\\mathbf{k})a_\\lambda^\\dagger(\\mathbf{k})+a_\\lambda^\\dagger(\\mathbf{k})a_\\lambda(\\mathbf{k})+1]$\n",
        "\n",
        "Thus , we can see from the classical expression of energy that the operator(ignoring the constant term as it can be set to zero since energy differences , and not the absolute energy are important $\\mathbf{A}_{\\mathbf{k},\\lambda} = (4\\pi\\hbar c^2)^\\frac{1}{2}\\frac{1}{\\sqrt{V}}\\frac{1}{\\sqrt{2\\omega_k}}a_\\lambda(\\mathbf{k})$\n",
        "\n",
        "\n",
        "Thus , we see that we have arrived at the expression of the electric field operator\n",
        "\n",
        "Now ,we can go on to understand  the actual system\n",
        "\n",
        "\n",
        "\n",
        "\n",
        "\n",
        "\n",
        "\n",
        "\n",
        "\n",
        "\n",
        "\n"
      ]
    },
    {
      "cell_type": "markdown",
      "metadata": {
        "id": "pk4CHRnwA3Sa"
      },
      "source": [
        "###The Actual System$^3$\n",
        "\n",
        "$D_i(\\mathbf r ,t)= \\epsilon_0\\epsilon_{ij}(\\mathbf r)E_j(\\mathbf r,t) +\n",
        "\\epsilon_0[\\chi_{ijk}^{(2)}E_i(\\mathbf r,t)E_j(\\mathbf r,t   ) + O(\\chi^{(3)})]$\n",
        "\n",
        "This is the equation describing the $\\chi^{(2)}$ response of the system.\n",
        "We are assuming dielectric inhomogeneity but isotropic response for simplicity.That is ,$\\epsilon(\\mathbf{r})$ and $\\chi(\\mathbf{r}) $ are scalar quantities\n",
        "\n",
        "The electric field operator as defined as -\n",
        "\n",
        "$\\hat {E}(\\mathbf r,t) =\\sum_{i=a,b}{}i\\sqrt{\\frac{\\hbar \\omega_i}{2\\epsilon_0}}[\\hat{A_i}\\frac{\\vec\\alpha_i(\\mathbf r)}{\\sqrt{\\epsilon(\\mathbf r)}} e^{-\\iota \\omega_i t} - \\hat{A_i}^\\dagger \\frac{\\vec\\alpha_i^*(\\mathbf r)}{\\sqrt{\\epsilon(\\mathbf r)}} e^{\\iota \\omega_i t}]\n",
        "  $\n",
        "\n",
        "$\\hat{\\mathbf{B}}(\\mathbf{r})= \\frac{-i}{\\omega}\\nabla\\times\\hat{\\mathbf{E}}(\\mathbf{r})$\n",
        "\n",
        "Here , as we have seen above that $\\hat{A}_i^\\dagger (\\hat{A}_i)$ are the creation( annihilation operators )for $i^{th}$  mode.\n",
        "\n",
        "$\\vec{\\alpha}_i(\\mathbf{r})$ is the field profile for the $i^{th}$ mode and both of them are normalized.\n",
        "\n",
        "In this general form the complete spatial variation of the dielectric environment is taken into account .\n",
        "\n",
        "\n",
        "Following the lines of the above derivation -\n",
        "\n",
        "$\\mathcal{H_{em}}= \\frac{1}{2}\\int [ \\mathbf E(\\mathbf r).\\mathbf D(\\mathbf r)+\n",
        "\\mathbf H(\\mathbf r).\\mathbf B(\\mathbf r)]\\,d^3 \\mathbf  r$ \n",
        "\n",
        "After substituting the forms for the electic and magnetic fields-\n",
        "\n",
        "\n",
        "$\\hat{H_s}=\\hbar\\omega_aa^\\dagger a+\\hbar\\omega_{b}b^\\dagger b +\\hbar g_{nl}[ b (a^\\dagger)^2+b^\\dagger a^2]$\n",
        "\n",
        "where \n",
        "$g_{nl}= D\\epsilon_0(\\frac{\\omega_a}{2\\epsilon_0})\\sqrt{\\frac{\\hbar\\omega_b}{2\\epsilon_0}}\\int \\frac{\\chi(\\mathbf r)}{[\\epsilon\\mathbf(r)]^{\\frac{3}{2}}}\\alpha_a^2(\\mathbf r)\\alpha_b(\\mathbf r)\\,d^3 \\mathbf r$\n",
        "\n",
        "The volume integration in the expression of $g_{nl}$, however, should be performed only over the\n",
        "space where there is a nonlinear material present.This distinction is essential especially when composite materials are used to make the cavities.\n",
        "\n",
        "In the expression , the term containing the $g_{nl}$ terms represents the interaction term .The interaction between the two modes that interact through optical non-linearities.\n",
        "\n",
        "Now , we know to ensure phase matching there has to be non-zero overlap between the two modes .For the sake of simplicity , we are assuming perfect overlap $\\alpha_a(\\mathbf{r}) =\\alpha_b(\\mathbf{r}) = \\alpha(\\mathbf{r}) $\n",
        "\n",
        "Assuming D=2 and $2\\omega_a=\\omega_b$ we get \n",
        "\n",
        "$\\hbar g_{nl }=\\epsilon_0(\\frac{\\hbar\\omega_a}{\\epsilon_r \\epsilon_0})^{\\frac{3}{2}}\\frac{\\chi^{(2)}}{\\sqrt{V_m}} $\n",
        "\n",
        "where $V_m = \\int_{NL}\\alpha^3(\\mathbf{r})\\,d\\mathbf{r}$\n",
        "\n",
        "The input light can be modeled as driving\n",
        "the fundamental mode, a, by adding the term \n",
        "$\\sqrt{2\\kappa_{ra}}E(e^{-i\\omega_l t}a+e^{i\\omega_l t}a^\\dagger)$\n",
        " where $\\omega_l$ is the laser frequency ,$\\kappa_{ra}$ is the incoupling rate of the cavity mode a associated with the reflectance from the cavity.\n",
        "\n",
        " Now ,we can transform to a rotating frame $\\hat{U}(t) =e^{\\{i(\\omega_Lt\\hat{a}^\\dagger\\hat{ a} +2\\omega_L t\\hat{ b}^\\dagger \\hat{b})\\}}$\n",
        "\n",
        " Thus the new hamiltonian can be expressed as :\n",
        " $\\hat{H}_{eff}=UHU^{-1}+i\\hbar\\frac{\\partial\n",
        " U}{\\partial t}U^{-1}$ \n",
        "\n",
        " (Derivation$^4$:\n",
        "\n",
        " Take the rotated ket to be $|\\phi\\rangle = \\hat{U}|\\psi\\rangle$.\n",
        "\n",
        " $i\\hbar\\frac{d|\\psi\\rangle}{dt} =\\hat{ H}|\\psi\\rangle $\n",
        "\n",
        " Taking $\\frac{\\partial (U|\\psi\\rangle)}{\\partial t}=U\\frac{\\partial (|\\psi\\rangle)}{\\partial t}+\\frac{\\partial U}{\\partial t} |\\psi\\rangle)$\n",
        "\n",
        " Multiply on both the sides by $i\\hbar$\n",
        "\n",
        "\n",
        " $i\\hbar \\frac{\\partial|\\phi\\rangle}{\\partial t}=U HU^{-1}|\\phi\\rangle+i\\hbar\\frac{\\partial U}{\\partial t} U^{-1}|\\phi\\rangle)$\n",
        " \n",
        " )\n",
        "\n",
        "\n",
        " The transformed hamiltonian is written as \n",
        "\n",
        " $\\hat{H}_{rot} = \\hbar\\Delta_a a^{\\dagger}a + \\hbar\\Delta_b b^{\\dagger}b+\\hbar g _{nl}[b(a^\\dagger)^2+b^\\dagger a^2] + \\sqrt {2\\kappa_{ra}}E(a^\\dagger +a)$\n",
        "\n",
        " The derivation follows easily once we know the following relation-\n",
        "\n",
        " $e^{-X}Ae^{X}=A+[X,A]+\\frac{1}{2!}[X,[X,A]]+....$(known as the Baker-Hausdorff Formula )\n",
        "\n",
        " $\\Delta_a=\\omega_{a}-\\omega_{L}$,$\\Delta_b=\\omega_{b}-2\\omega_{L}$ represent the detunings of the cavity modes from the laser frequency.\n",
        "\n",
        " The above assumes that the system is lossless , so to deal with realistic lossy systems , we can use the master equation -\n",
        "\n",
        " $\\hbar\\frac {d\\tilde{\\rho}}{dt} = \\iota [H_{rot},\\tilde\\rho]+\\sum_{i=a,b}{\\kappa_i[2A_i\\rho A^\\dagger -\\rho A_iA_i^\\dagger -\\rho A_i^\\dagger A_i]} $\n",
        "\n",
        " The extra terms added are called Lindblad terms.\n",
        "\n",
        "\n",
        "\n",
        "\n",
        " where $\\tilde\\rho = U\\rho U^{-1}$ where U is the rotation operator{Proof \n",
        " \n",
        " $ \\rho = \\sum_{i} w_i|\\alpha_i\\rangle \\langle\\alpha_i| $ ,where $\\alpha_i$ are the pure states.Now , apply the rotation oprator on each of the kets and use the fact that U is unitary . }\n",
        "\n",
        "\n",
        "\n",
        "In the above equation , $A_i$ represents the annihilation operators for either mode, a or b. Note that, for each of\n",
        "these cavity modes, we have assumed there are three loss channels: reflection, transmission and\n",
        "absorption, with field decay rates denoted as $\\kappa_{ra,rb}$, $\\kappa_{ta,tb}$ and $\\kappa_{la,lb}$, respectively . The\n",
        "total photon-loss rate for each cavity mode is then given by $\\kappa_{a,b} = \\kappa_{ta,tb}+\\kappa_{ra,rb}+\\kappa_{la,lb}$\n",
        "\n",
        " Now , using the equation$ \\frac{d\\langle A_i\\rangle}{dt} = Tr[A_i\\frac{d\\rho}{dt}]$\n",
        "\n",
        " $ \\frac{d\\langle a \\rangle}{dt}= \\iota \\Delta_a \\langle a \\rangle -(\\kappa_{ra}+\\kappa_{ta}+\\kappa_{la})\\langle a \\rangle -2\\iota g_{nl}\\langle ba^{\\dagger}\\rangle +\\iota \\sqrt{2\\kappa_{ra }}E $\n",
        "\n",
        "$  \\frac{d\\langle b \\rangle}{dt}= \\iota \\Delta_b \\langle b \\rangle -(\\kappa_{rb}+\\kappa_{tb}+\\kappa_{lb})\\langle b \\rangle - \\iota g_{nl}\\langle a^2 \\rangle$\n",
        "\n",
        "\n",
        "Now , we will be looking at the steady state behaviour .\n",
        " \n",
        " Set$\\frac{d\\langle a \\rangle }{dt}=\\frac{d\\langle b \\rangle }{dt}=0$\n",
        "\n",
        "From the above two equations ,after substituting $\\Delta_b=2\\Delta_a$ and $\\kappa_b=2\\kappa_a$,\n",
        "$\\kappa_i=\\kappa_{ri}+\\kappa_{ti}+\\kappa_{li}$\n",
        "\n",
        "\n",
        "\n",
        " The assumption  that $\\Delta_b -i\\kappa_b = 2(\\Delta_a -i\\kappa_a)$, which is based on the\n",
        "assumptions that the mode near second harmonic frequency is exactly twice the fundamental\n",
        "frequency and the Q-factor of both cavities are exactly same. We will take a look at the general case later.)\n",
        "\n",
        "(While deriving the above two equations , the expectation values can be  treated as multiplicative i.e\n",
        "\n",
        "$\\langle ab\\rangle=\\langle a\\rangle\\langle b \\rangle$\n",
        "\n",
        "$\\langle a a^\\dagger\\rangle=\\langle a \\rangle\\langle a^\\dagger \\rangle$\n",
        "\n",
        "and similarly others.)\n",
        "\n",
        "\n",
        "$\\eta^2P_{trans}^3 - 2\\eta(\\kappa_{a}^2-\\Delta_{a}^2)P_{trans}^2+(\\Delta_{a}^2+\\kappa_{a}^2)^2P_{trans} = 4\\kappa_{ta}\\kappa_{ra}(\\Delta_{a}^2+\\kappa_{a}^2)P_{in}  \n",
        " $\n",
        "\n",
        " \n",
        "where $\\eta = \\frac{g_{nl}^2}{2\\kappa_{ta}}$ and $P_{trans}=2\\kappa_{ta}\\langle a^\\dagger a\\rangle$ is the transmitted power. Note that $P_{trans}$, as mentioned so far, does not have units of power, but rather photons per second.\n",
        "To obtain the actual power, we need to multiply $P_{trans}$ and $P_{in}$ by the corresponding photon energy\n",
        "$\\hbar\\omega_a$\n",
        "\n",
        "In a realistic dielectric cavity, the cavity loss primarily arises from loss in the transmission\n",
        "and reflection ports and one can neglect the absorptive loss. Moreover, the transmission and\n",
        "reflection ports are generally equivalent, thus \n",
        "\n",
        " $\\kappa_{ra}=\\kappa_{ta}=\\kappa_a/2$\n",
        "\n",
        "\n",
        "The Equation which we will be using for all the following  calculations is-\n",
        "$\\eta^2P_{trans}^3 - 2\\eta(\\kappa_{a}^2-\\Delta_{a}^2)P_{trans}^2+(\\Delta_{a}^2+\\kappa_{a}^2)^2P_{trans} = \\kappa_{a}^2(\\Delta_{a}^2+\\kappa_{a}^2)P_{in} $  \n",
        "\n",
        "\n",
        "\n",
        "\n",
        "\n",
        " \n",
        "\n",
        "\n",
        "\n",
        "\n",
        "\n"
      ]
    },
    {
      "cell_type": "markdown",
      "metadata": {
        "id": "HgHL7dXYQaiu"
      },
      "source": [
        "###A short note  on Master equation $^{5,6,7,8}$\n",
        "A master equation is a phenomenological set of first-order differential equations describing the time evolution of (usually) the probability of a system to occupy each one of a discrete set of states with regard to a continuous time variable t.\n",
        "\n",
        "Master equation of a general system can be wriiten as-\n",
        "$\\frac{d\\vec{P}}{dt}=A\\vec{P}$\n",
        "\n",
        "$\\vec{P}$ is the state vector of the system and $A$ is  called a connection matrix.\n",
        "\n",
        "When the connection matrix is time indepenent rate constants , the  process is called Markovian.\n",
        "\n",
        "A quantum master equation is a generalization of the idea of a master equation. Rather than just a system of differential equations for a set of probabilities (which only constitutes the diagonal elements of a density matrix), quantum master equations are differential equations for the entire density matrix, including off-diagonal elements.\n",
        "\n",
        "\n",
        "In real-life \n",
        "problems, the interaction of the system of interest with the environment cannot be avoided, and  an approach is required \n",
        "in which the environment can be effectively removed from the equations of motion.\n",
        "Lindbladian(which is conidered here ) is the most general type of Markovian and time-homogeneous master equation which decribes  the  evolution of the density matrix ρ that preserves the laws of quantum mechanics (i.e., is trace-preserving and completely positive for any initial condition)\n",
        "\n",
        "\n",
        "In the most general case , it has the form -\n",
        "\n",
        "$\\dot\\rho=\\frac{i}{\\hbar}[H,\\rho]+\\sum_{n,m=1}^{N^2-1}h_{nm}(A_n\\rho A_m^\\dagger -\\frac{1}{2} \\{A_n^\\dagger A_m,\\rho\\})$\n",
        "\n",
        "H is the system Hamiltonian,the coefficient matrix h, together with the Hamiltonian, determines the system dynamics.\n",
        "Operators $A_i(A_i^\\dagger)$ are the annihilation(creation) operators of a particle in state i.\n"
      ]
    },
    {
      "cell_type": "markdown",
      "metadata": {
        "id": "skteTiLaJy-G"
      },
      "source": [
        "###The Condition of Bistability   -\n",
        "The critical points of the bistable system, where we observe sudden changes in output\n",
        "power from slight changes in the input power\n",
        " are given by $\\frac{dP_{in}}{dP_{trans}}=3\\eta^2P_{trans}^2+4\\eta(\\kappa_a^2-\\Delta_a^2)P_{trans}+(\\kappa_a^2+\\Delta_a^2)^2=0 $\n",
        "\n",
        "The system is bistable as long as the discriminant of the above equation is greater than zero. \n",
        "\n",
        "The above  statement gives - $|\\Delta_a|\\geq(2+\\sqrt{3})\\kappa_a$\n",
        "\n",
        "Also , from the above equation after making the assumption $\\Delta_a>>\\kappa_a$(basically assuming that the losses are really small).We can get the critical points as -$P_{trans}=\\Delta_a^2/\\eta $ and $\\Delta_a^2/3\\eta $ corresponding to the input powers $P_{in}=0$ and $4\\Delta_a^4/27\\eta\\kappa_a^2$\n",
        "\n",
        "This indicates that the output signal swing ( $P_{trans}/P_{in}$) varies as $\\kappa_a^2/\\Delta^2_a$ \n",
        "\n",
        "From the expression of $P_{in}$, one can observe that with increasing $\\eta $ the required power to obtain bistability decreases.The critical input power also scales with the detuning and cavity loss as  ~$\\Delta_a^4/\\kappa_a^2$\n",
        "\n",
        "From the relation $|\\Delta_a|\\geq(2+\\sqrt{3})\\kappa_a$ ,the input optical power where bistability can be observed scales as ~$\\kappa_a^3/g_{nl}^2$ ~$V_m/Q^3$\n",
        "\n",
        "Such scaling\n",
        "is more favorable for lowering the optical power by using a high-Q cavity, compared to other\n",
        "cavity-based bistable devices employing photo-refractive or thermo-optic effects, where the\n",
        "input power typically scales as ~$V_m/Q.$\n",
        "\n",
        "\n",
        "\n",
        "\n"
      ]
    },
    {
      "cell_type": "markdown",
      "metadata": {
        "id": "-flAWDsUMRS6"
      },
      "source": [
        "###Analysing the equation\n",
        "The input signal consists of a fixed bias power $P_{bias}$ and a modulated optical signal $P_{amp}$.\n",
        "\n",
        "The basic idea is small changes in $P_{in}$ results in large changes in $P_{trans}$\n",
        "\n",
        "$Gain = \\frac{\\Delta P_{trans}}{P_{amp}}$\n",
        "\n",
        "\n"
      ]
    },
    {
      "cell_type": "code",
      "metadata": {
        "id": "0a4h8WpsOnIT"
      },
      "source": [
        "import numpy as np\n",
        "import matplotlib.pyplot as plt \n",
        "import math\n",
        "from sympy import plot_implicit, cos, sin, symbols, Eq, And"
      ],
      "execution_count": 1,
      "outputs": []
    },
    {
      "cell_type": "markdown",
      "metadata": {
        "id": "x5LRTIH6u6gk"
      },
      "source": [
        "The values used for the following graphs are-\n",
        "\n",
        "$g_{nl}=20 GHz\\times 2\\pi$\n",
        "\n",
        "$\\kappa_{ra} = 3GHz\\times 2\\pi=\\kappa_{ta}$\n",
        "\n",
        "$\\eta=g_{nl}^2/2\\kappa_{ta}$\n",
        "\n",
        "$\\Delta_a=8\\kappa_a$\n",
        "\n",
        "$\\kappa_{ta}=\\kappa_a/2=\\kappa_{ra}$\n",
        "\n",
        "It is the steady state bistability plot , which is used to identify the bias-points, around which one can modulate the input\n",
        "power to observe the change in the output power.\n",
        "\n",
        "Also , the modulation angular  frequency is 500MHz.\n",
        "\n",
        "\n"
      ]
    },
    {
      "cell_type": "code",
      "metadata": {
        "id": "g6_O6fmtOzDm",
        "outputId": "2ed2959c-e096-45b4-d293-44f809b27669",
        "colab": {
          "base_uri": "https://localhost:8080/",
          "height": 316
        }
      },
      "source": [
        "#graph1a\n",
        "#Data\n",
        "modfrequency=500*(10**6)\n",
        "mW=10**(-3)\n",
        "nW=10**(-9)\n",
        "quanta=1.054571817*(10**(-34))*modfrequency\n",
        "GHz = 10**9\n",
        "gnl = 20*GHz*2*math.pi\n",
        "kra = 3*GHz*2*math.pi\n",
        "kta = kra\n",
        "n =(gnl)**2/(2*kta)\n",
        "da = 16*kta\n",
        "ka = da/8\n",
        "#Plotting Begins\n",
        "#Two Approaches since the equation is a cubic polynomial,there will be three Ptrans(real or complex ) values for each Pin\n",
        "#So , we used the reverse approach i.e took Ptrans and found the corresponding Pin values\n",
        "Pin=np.linspace(-1*10**(-7)/quanta,2.7*10**(-7)/quanta,50000)\n",
        "Ptrans=np.zeros(50000)\n",
        "for i in range(50000):\n",
        "  #coeff=[n**2,2*n*(ka*ka-da*da),(ka*ka+da*da)**2,-(ka*ka)*(ka*ka+da*da)*Pin[i]]\n",
        "  coeff=[n**2,2*n*(ka*ka-da*da),(ka*ka+da*da)**2,0]\n",
        "  val=np.polyval(coeff,Pin[i])/((ka*ka)*(ka*ka+da*da))\n",
        "  #roots=np.roots(coeff)\n",
        "  #rreal=0\n",
        "  #for j in range(3):\n",
        "    #if(np.imag(roots[j])==0):\n",
        "      #rreal=roots[j]\n",
        "      #Ptrans[i]=rreal\n",
        "      #break\n",
        "  Ptrans[i]=val\n",
        "\n",
        "fig =plt.figure()\n",
        "\n",
        "axes1 = fig.add_axes([0, 0, 0.8, 0.8],xlabel=\"Input power \",ylabel=\"Output power \",xticklabels=[],yticklabels=[],title=\"$P_{trans}~ vs ~ P_{in}$\") # main axes\n",
        "axes2 = fig.add_axes([0.55, 0.45, 0.2, 0.15],xticklabels=[],yticklabels=[]) # inset axes\n",
        "axes3 = fig.add_axes([0.05, 0.1, 0.05, 0.1],xticklabels=[],yticklabels=[]) # inset axes\n",
        "#axes1.plot(Pin,Ptrans)\n",
        "axes1.plot(Ptrans,Pin)\n",
        "axes1.axvspan(0.0/(quanta/nW),0.3/quanta/nW,alpha=0.3)\n",
        "axes2.plot(np.linspace(0,10,100),np.sin(np.linspace(0,10,100)),color='green')\n",
        "axes3.plot(np.sin(np.linspace(0,10,100)),np.linspace(0,10,100),color='red')\n",
        "\n",
        "\n",
        "\n",
        "\n",
        "\n",
        "\n",
        "\n",
        "\n"
      ],
      "execution_count": 27,
      "outputs": [
        {
          "output_type": "execute_result",
          "data": {
            "text/plain": [
              "[<matplotlib.lines.Line2D at 0x7f938fee71d0>]"
            ]
          },
          "metadata": {
            "tags": []
          },
          "execution_count": 27
        },
        {
          "output_type": "display_data",
          "data": {
            "image/png": "[encoded data removed]",
            "text/plain": [
              "<Figure size 432x288 with 3 Axes>"
            ]
          },
          "metadata": {
            "tags": [],
            "needs_background": "light"
          }
        }
      ]
    },
    {
      "cell_type": "markdown",
      "metadata": {
        "id": "sJAncbT2PQCh"
      },
      "source": [
        "From the above graph one can see that obeserve the region of bistability (the steep portion ) .This is the region in which the input signal shoul be .The input signal is in red , and the output signal is in green.Please note that the input and output signals are not calculated precisely and are only for illustrative purposes."
      ]
    },
    {
      "cell_type": "markdown",
      "metadata": {
        "id": "eP3ZoaKqxRHT"
      },
      "source": [
        "Gain is plotted as a function of $P_{amp}$"
      ]
    },
    {
      "cell_type": "code",
      "metadata": {
        "id": "cZBRd-ABMvAC",
        "outputId": "c847dc9a-156c-4427-f5ce-a98e3ce4ed29",
        "colab": {
          "base_uri": "https://localhost:8080/",
          "height": 413
        }
      },
      "source": [
        "def gain(pamp,pbias):\n",
        "   coeff1=[n**2,2*n*(ka*ka-da*da),(ka*ka+da*da)**2,-(ka*ka)*(ka*ka+da*da)*(pamp+pbias)/quanta]\n",
        "   coeff2=[n**2,2*n*(ka*ka-da*da),(ka*ka+da*da)**2,-(ka*ka)*(ka*ka+da*da)*(-pamp+pbias)/quanta]\n",
        "   roots1=np.roots(coeff1)\n",
        "   roots2=np.roots(coeff2)\n",
        "   \n",
        "   rreal1=0\n",
        "   rreal2=0\n",
        "   for j in range(3):\n",
        "     if(np.imag(roots1[j])==0):\n",
        "       rreal1=roots1[j]\n",
        "       break\n",
        "   for j in range(3):\n",
        "     if(np.imag(roots2[j])==0):\n",
        "       rreal2=roots2[j]\n",
        "       break\n",
        "\n",
        "   return (rreal1-rreal2)/pamp\n",
        "\n",
        "\n",
        "\n",
        "\n",
        "PAMP=np.linspace(1*10**(-6),2*10**(-6),30) \n",
        "fig =plt.figure()\n",
        "axes=fig.add_axes([0.1,0.1,1,1],xlabel=\"$P_{amp}$\",ylabel=\"$Gain$\",title=\"Gain vs $P_{amp}$\",xticklabels=[],yticklabels=[])\n",
        "\n",
        "G1=[gain(pamp,200*nW) for pamp in PAMP]\n",
        "axes.plot(PAMP,G1)\n",
        "axes"
      ],
      "execution_count": 50,
      "outputs": [
        {
          "output_type": "stream",
          "text": [
            "/usr/local/lib/python3.6/dist-packages/numpy/core/_asarray.py:85: ComplexWarning: Casting complex values to real discards the imaginary part\n",
            "  return array(a, dtype, copy=False, order=order)\n"
          ],
          "name": "stderr"
        },
        {
          "output_type": "execute_result",
          "data": {
            "text/plain": [
              "<matplotlib.axes._axes.Axes at 0x7f938f243e80>"
            ]
          },
          "metadata": {
            "tags": []
          },
          "execution_count": 50
        },
        {
          "output_type": "display_data",
          "data": {
            "image/png": "[encoded data removed]",
            "text/plain": [
              "<Figure size 432x288 with 1 Axes>"
            ]
          },
          "metadata": {
            "tags": [],
            "needs_background": "light"
          }
        }
      ]
    },
    {
      "cell_type": "markdown",
      "metadata": {
        "id": "ifJ0C_dsnkzU"
      },
      "source": [
        "The following graph is between the bias point $P_{bias}$ as a function of the total linewidth $2\\kappa_a$ and nonlinear interaction strength $g_{nl}$\n"
      ]
    },
    {
      "cell_type": "code",
      "metadata": {
        "id": "I1TcFGMxS9c8",
        "outputId": "f0065502-e4e2-4f39-df1a-24a6401a35cf",
        "colab": {
          "base_uri": "https://localhost:8080/",
          "height": 300
        }
      },
      "source": [
        "KA= np.linspace(1*GHz,20*GHz,1000)\n",
        "Gnl=np.linspace(1*GHz,30*GHz,1000)\n",
        "KA1=KA/(2*math.pi)\n",
        "Gnl1=Gnl/(2*math.pi)\n",
        "\n",
        "Z=np.zeros((1000,1000))\n",
        "for i in range(1000):\n",
        "  for j in range(1000):\n",
        "    Z[i][j]= (2**14)/(3**3)*KA[i]**3/Gnl[j]**2\n",
        "\n",
        "#Z= (2**15)/(3**3)*X**3/Y**2\n",
        "\n",
        "fig =plt.figure()\n",
        "ax=fig.add_axes([0.1,0.1,1.25,0.75],xticklabels=[],yticklabels=[3,6,9,12,15,18,21])\n",
        "cp = ax.contourf(KA,Gnl,Z)\n",
        "ax.set_xlabel('$g_{nl}/2\\pi(GHz) $')\n",
        "ax.set_ylabel('$ \\kappa_a/2\\pi$')\n",
        "fig.colorbar(cp) # Add a colorbar to a plot\n"
      ],
      "execution_count": 93,
      "outputs": [
        {
          "output_type": "execute_result",
          "data": {
            "text/plain": [
              "<matplotlib.colorbar.Colorbar at 0x7f938e14fb70>"
            ]
          },
          "metadata": {
            "tags": []
          },
          "execution_count": 93
        },
        {
          "output_type": "display_data",
          "data": {
            "image/png": "[encoded data removed]",
            "text/plain": [
              "<Figure size 432x288 with 2 Axes>"
            ]
          },
          "metadata": {
            "tags": [],
            "needs_background": "light"
          }
        }
      ]
    },
    {
      "cell_type": "markdown",
      "metadata": {
        "id": "mVhCOFBAqPay"
      },
      "source": [
        "Plot of $log_{10}N$ as a function of$ \\kappa_a$ and $g_{nl}$"
      ]
    },
    {
      "cell_type": "code",
      "metadata": {
        "id": "F8ht7UIvZmc5",
        "outputId": "3254fc26-b493-4231-a0b2-4447052f9190",
        "colab": {
          "base_uri": "https://localhost:8080/",
          "height": 338
        }
      },
      "source": [
        "KA= np.linspace(1*GHz,20*GHz,1000)\n",
        "Gnl=np.linspace(1*GHz,30*GHz,1000)\n",
        "KA1=KA/(2*math.pi)\n",
        "Gnl1=Gnl/(2*math.pi)\n",
        "\n",
        "Z=np.zeros((1000,1000))\n",
        "for i in range(1000):\n",
        "  for j in range(1000):\n",
        "    Z[i][j]= (2**14)/(3**3)*KA[i]**2/Gnl[j]**2\n",
        "\n",
        "#Z= (2**14)/(3**3)*X**3/Y**2\n",
        "fig =plt.figure()\n",
        "ax=fig.add_axes([0.1,0.1,1.25,0.75])\n",
        "cp = ax.contourf(KA,Gnl,np.log10(Z),levels=np.linspace(-1,7,70),linestyles=('-',),linewidths=(5,))\n",
        "fig.colorbar(cp)\n",
        "\n"
      ],
      "execution_count": 100,
      "outputs": [
        {
          "output_type": "stream",
          "text": [
            "/usr/local/lib/python3.6/dist-packages/ipykernel_launcher.py:14: UserWarning: linewidths is ignored by contourf\n",
            "  \n"
          ],
          "name": "stderr"
        },
        {
          "output_type": "execute_result",
          "data": {
            "text/plain": [
              "<matplotlib.colorbar.Colorbar at 0x7f938d9c4dd8>"
            ]
          },
          "metadata": {
            "tags": []
          },
          "execution_count": 100
        },
        {
          "output_type": "display_data",
          "data": {
            "image/png": "[encoded data removed]",
            "text/plain": [
              "<Figure size 432x288 with 2 Axes>"
            ]
          },
          "metadata": {
            "tags": [],
            "needs_background": "light"
          }
        }
      ]
    },
    {
      "cell_type": "markdown",
      "metadata": {
        "id": "yzrf9qe97zUZ"
      },
      "source": [
        "##Effect of different quality factors in $\\chi^{(2)}$ nonlinear cavities:\n",
        "\n",
        "\n",
        " The assumption  that $\\Delta_b -i\\kappa_b = 2(\\Delta_a -i\\kappa_a)$, which is based on the\n",
        "assumptions that the mode near second harmonic frequency is exactly twice the fundamental\n",
        "frequency and the Q-factor of both cavities are exactly same\n",
        "\n",
        "In the general case , the equation look like-\n",
        "$4\\eta^2P_{trans}^3+4\\eta(\\kappa_a\\kappa_b-\\Delta_a\\Delta_b)P_{trans}^2 + (\\kappa_a^2+\\Delta_a^2)(\\kappa_b^2+\\Delta_b^2)P_{trans}=4\\kappa_{ta}\\kappa_{ra}(\\kappa_b^2+\\Delta_b^2)P_{in}$\n",
        "\n",
        "After obtaining the points , the condition for bistability is derived as -\n",
        "\n",
        "$|\\frac{\\Delta_a}{\\kappa_a}\\frac{\\Delta_b}{\\kappa_b}-1|>\\sqrt{3}|\\frac{\\Delta_a}{\\kappa_a}+\\frac{\\Delta_b}{\\kappa_b}|$\n",
        "\n",
        "Note that, even if a condition $\\Delta_b-i\\kappa_b = 2(\\Delta_b-i\\kappa_b)$ is difficult to satisfy one can easily achieve\n",
        "$\\Delta_a/\n",
        "\\kappa_a \\approx\n",
        "\\Delta_b/\n",
        "\\kappa_b$\n",
        ". This means, the bistability condition becomes\n",
        "\n",
        "$\\Delta_a/\n",
        "\\kappa_a \\approx\n",
        "\\Delta_b/\n",
        "\\kappa_b>2+\\sqrt{3}$\n",
        "\n",
        "which is the same as in the previous case.\n"
      ]
    },
    {
      "cell_type": "markdown",
      "metadata": {
        "id": "WvF5FNam6yHb"
      },
      "source": [
        "###Conclusion\n",
        "In this paper  performance of an optically bistable system based on second-order nonlinearity has been analyzed .\n",
        "in terms of the power and the speed of operation via a simple dynamic classical model.\n",
        "We found that with high quality-factor and low mode volume Vm, one can push the energy required\n",
        "to observe bistability to the few photon level. The energy scales as$ V_m/Q^3$"
      ]
    },
    {
      "cell_type": "markdown",
      "metadata": {
        "id": "g1hYZlHqsIzs"
      },
      "source": [
        "###Endsem Problem\n",
        "Derive the critical values for the case of Optical bistability in a cavity with third order nonlinear material.\n",
        "\n",
        "The Hamiltonian of the system which is driven by an external laser  is given by -\n",
        "$\\mathcal{H}=\\Delta_a a+\\chi a^\\dagger a a a^\\dagger +\\sqrt{2\\kappa_r}E(a+a^\\dagger)$\n",
        "\n",
        "Note:Add the lindblad terms while writing the master equation.In the summation consider only the fundamental mode.Also,all the expectation values involved are multiplicative.\n",
        "\n",
        "Solution:\n",
        "Master equation-\n",
        "\n",
        "$\\hbar\\frac {d{\\rho}}{dt} = \\iota [\\mathcal{H},\\rho]+{\\kappa_a[2a\\rho a^\\dagger -\\rho aa^\\dagger -\\rho a^\\dagger a]} $\n",
        "\n",
        "Now , using the relation \n",
        "\n",
        "$\\frac{d\\langle a \\rangle}{dt}=Tr[a\\frac{d\\rho}{dt}]=i\\Delta_a \\langle a\\rangle-(\\kappa_r+\\kappa_t+\\kappa_l)a+2\\chi\\langle a^\\dagger\\rangle\n",
        "\\langle a\\rangle \\langle a\\rangle +i\\sqrt{2\\kappa_r}E$\n",
        "\n",
        "\n",
        "One gets the equation ,in steady state\n",
        "\n",
        "$i\\Delta_a \\langle a\\rangle-(\\kappa_r+\\kappa_t+\\kappa_l)a+2\\chi\\langle a^\\dagger\\rangle\n",
        "\\langle a\\rangle \\langle a\\rangle +i\\sqrt{2\\kappa_r}E=0$\n",
        "\n",
        "(The above derivation is easy if one knows that traces are cyclic i.e\n",
        "$Tr[ABC]=Tr[BCA]=Tr[CAB]$\n",
        "Example: Consider the terms \n",
        "\n",
        "\n",
        "$\\sqrt{2\\kappa_r}E(a+a^\\dagger)$ in the Hamiltonian.\n",
        "\n",
        "$Tr[a\\frac{i}{\\hbar}\\sqrt{2\\kappa_r}E(a+a^\\dagger)]=\\frac{i}{\\hbar}\\sqrt{2\\kappa_r}E[Tr[(aa+aa^\\dagger )\\rho-Tr[a\\rho a+a\\rho a^\\dagger )]]\n",
        "=\\frac{i}{\\hbar}Tr[p]\\sqrt{2\\kappa_r}E $\n",
        "\n",
        "$Tr[\\rho]=1\\implies  $ the above term =$\\frac{i}{\\hbar}\\sqrt{2\\kappa_r}E$\n",
        "\n",
        ")\n",
        "\n",
        "The different output powers are given by $P_{trans} = 2\\kappa_ta^\\dagger a; P_{loss }= 2\\kappa_la^\\dagger a ;P_{refl} = 2\\kappa_ra^\\dagger a.$\n",
        " \n",
        "On simpification \n",
        "$\\langle a \\rangle = -\\frac{i\\sqrt{2\\kappa_r}E}{i(\\Delta+\\frac{\\chi P_{trans}}{\\kappa_t})-(\\kappa_r+\\kappa_t+\\kappa_l)}$\n",
        "\n",
        "Take the above equations complex conjugate , and multiply the two to get \n",
        "\n",
        "$P_{trans}=-\\frac{4\\kappa_r\\kappa_t|E|^2}{(\\Delta+\\frac{\\chi P_{trans}}{\\kappa_t})^2+(\\kappa_r+\\kappa_t+\\kappa_l)^2}$\n",
        "\n",
        "Denote $\\eta=\\chi/\\kappa_t$\n",
        "\n",
        "The equation we get is \n",
        "$\\eta^2P_{trans}^3+2\\Delta_a\\eta P_{trans}^2+P_{trans}(\\Delta^2+(\\kappa_r+\\kappa_t+\\kappa_l)^2)-4\\kappa_r\\kappa_t P_{in}=0$\n",
        "\n",
        "The critical points are obtained through ;\n",
        "$\\frac{dP_{in}}{dP_{trans}}=3\\eta^2P_{trans}^2+4\\Delta_a\\eta P_{trans}+\\Delta^2+(\\kappa_r+\\kappa_t+\\kappa_l)^2=0$ \n",
        "\n",
        "\n",
        "\n",
        "\n",
        "\n",
        "\n",
        "\n",
        "\n",
        "\n",
        "\n",
        "\n"
      ]
    },
    {
      "cell_type": "markdown",
      "metadata": {
        "id": "q0dy-LAsNkQ3"
      },
      "source": [
        "###References-\n",
        "1 .D. A. B. Miller, “Are optical transistors the logical next step?” Nature Photonics 4, 3–5 (2010).\n",
        "\n",
        "2 .Modern Quantum\n",
        "Mechanics,\n",
        "Second Edition,\n",
        "J. J. Sakurai,\n",
        "Jim Napolitano,Cambridge University Press\n",
        "\n",
        "\n",
        "\n",
        "3 .A. Majumdar and D. Gerace, “Single-photon blockade in doubly resonant nanocavities with second-order nonlinearity.”\n",
        "Physical Review B 87 235319 (2013).\n",
        "\n",
        "4 .A. Majumdar, M. Bajcsy, D. Englund, and J. Vuckovic, “All optical switching with a single quantum dot strongly\n",
        "coupled to a photonic crystal cavity,” Selected Topics in Quantum Electronics, IEEE Journal of 18, 1812–1817\n",
        "(2012).\n",
        "\n",
        "5 .Manzano, Daniel (2020). \"A short introduction to the Lindblad master equation\". AIP Advances. 10: 025106. arXiv:1906.04478. doi:10.1063/1.5115323.\n",
        "\n",
        "\n",
        "6 .Lindbaldian,Wikipedia the free Encyclopedia ,[Link](https://en.wikipedia.org/wiki/Lindbladian)\n",
        "\n",
        "\n",
        "7 .Quantum Master Equation,Wikipedia the free Encyclopedia,[Link](https://en.wikipedia.org/wiki/Quantum_master_equation)\n",
        "\n",
        "\n",
        "8 . Master Equation,Wikipedia the free Encyclopedia,[Link](https://en.wikipedia.org/wiki/Master_equation)\n",
        "\n",
        "\n"
      ]
    },
    {
      "cell_type": "markdown",
      "metadata": {
        "id": "YVznWfUL1oei"
      },
      "source": [
        "###Individual Contributions\n",
        "1.Aryan-Working on the entire theory part,specifically upto the cell just before the plotted graphs ,Making the endsem problem and its solution and the part about effect of different quality factors in$\\chi^{(2)}$ non-linear cavities.\n",
        "\n",
        "2.Deevanshu-All the simulations"
      ]
    }
  ]
}