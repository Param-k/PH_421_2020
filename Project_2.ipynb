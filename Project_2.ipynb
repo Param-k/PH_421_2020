{
 "cells": [
  {
   "cell_type": "markdown",
   "metadata": {
    "id": "anM4uFPdKSMY"
   },
   "source": [
    "# **Maxwell Garnett approximation scheme and nonlinear composites: Analysis and Verification**\n",
    "Mytraya Gattu, Shashank Deshpande, Shreyas Chandgothia, Saanika Chaudhary\n",
    "\n",
    "*We present the Maxwell Garnett approximation scheme and an extension of it in cases where nonlinearities appear in the Host and/or inclusion material. With well established ansatz in the community, we provide a general treatment which finds applicability in colloidal optics, a special case of which is also analysed. The results predict that the composite properties deviate significantly from what one expects as a spatial average over the volume. For instance, we find that the composite can possess larger susceptibility than each of the constituents. We particularly analyse the colloid of Gold nanoparticles in HITCI, which demonstrates saturable absorption rather non-trivially, as against the induced absorptive properties of each of the constituents.*\n"
   ]
  },
  {
   "cell_type": "code",
   "execution_count": null,
   "metadata": {
    "id": "e0QfM2cRUITm"
   },
   "outputs": [],
   "source": [
    "import numpy as np\n",
    "import matplotlib.pyplot as plt\n",
    "import pandas as pd\n",
    "import math\n",
    "import sympy as sy"
   ]
  },
  {
   "cell_type": "markdown",
   "metadata": {
    "id": "HnilzpWKMeim"
   },
   "source": [
    "# 1. Understanding the Maxwell Garnett Model\n"
   ]
  },
  {
   "cell_type": "markdown",
   "metadata": {
    "id": "s5Kms83CUCdu"
   },
   "source": [
    "(This part is based on -- Boyd, R. W., & Sipe, J. E. (1992). Nonlinear susceptibility of composite optical materials in the Maxwell Garnett model. Physical Review A, 46(3), 1614–1629.)\n",
    "Maxwell equations in a dieletric medium take the form:\n",
    "$$\\tag{1}\\label{1}\n",
    "    \\mathbf{\\nabla} \\cdot \\epsilon_{0} \\mathbf{e}(r,t)=-\\mathbf{\\nabla} \\cdot \\mathbf{p}(r,t)$$\n",
    "$$\\tag{2}\\label{2}\n",
    "    \\mathbf{\\nabla} \\cdot \\mathbf{b}(r,t)=0$$ $$\\tag{3}\\label{3}\n",
    "    \\mathbf{\\nabla} \\times \\mathbf{e}(r,t) +\\frac{\\partial}{\\partial t}\\mathbf{b}(r,t)=0$$\n",
    "$$\\tag{4}\\label{4}\n",
    "    \\frac{1}{\\mu_{0}}\\mathbf{\\nabla} \\times \\mathbf{b}(r,t) - \\frac{\\partial}{\\partial t}\\epsilon_{0} \\mathbf{e}(r,t)=\\frac{\\partial}{\\partial t}\\mathbf{p}(r,t)$$\n",
    "At the site of an inclusion, $$\\tag{5}\\label{5}\n",
    "    \\mathbf{p}(r,t) = \\epsilon_{0}\\chi^{i}\\mathbf{e}(r,t)+\\mathbf{p}^{\\text{NL}}(r,t)$$\n",
    "In the host, $$\\tag{6}\\label{6}\n",
    "    \\mathbf{p}(r,t)=\\epsilon_{0}\\chi^{h}\\mathbf{e}(r,t)+\\mathbf{p}^{\\text{NL}}(r,t)$$\n",
    "Here, $p^{\\text{NL}}$ is the non-linear polarization. Combining\n",
    "<a href=\"#5\" data-reference-type=\"eqref\" data-reference=\"5\">[5]</a>,<a href=\"#6\" data-reference-type=\"eqref\" data-reference=\"6\">[6]</a>\n",
    "let us introduce $$\\tag{7}\\label{7}\n",
    "    \\mathbf{p}(r,t)=\\epsilon_{0}\\chi^{h}\\mathbf{e}(r,t)+\\mathbf{p}^{s}(r,t)$$\n",
    "and $$\\tag{8}\\label{8}\n",
    "    \\epsilon^{h}=\\epsilon_{0}(1+\\chi^{h})$$ And subtituting,\n",
    "$$\\tag{9}\\label{9}\n",
    "    e(r,t)=e(r)e^{-\\imath \\omega t}$$ in\n",
    "<a href=\"#1\" data-reference-type=\"eqref\" data-reference=\"1\">[1]</a>,<a href=\"#2\" data-reference-type=\"eqref\" data-reference=\"2\">[2]</a>,<a href=\"#3\" data-reference-type=\"eqref\" data-reference=\"3\">[3]</a>\n",
    "and <a href=\"#4\" data-reference-type=\"eqref\" data-reference=\"4\">[4]</a>\n",
    "$$\\begin{aligned}\n",
    "    \\imath \\omega \\mathbf{b}(r)&=-\\mathbf{\\nabla}\\times \\mathbf{e}(r) \\\\\n",
    "    \\mathbf{\\nabla}\\times \\mathbf{b}(r) & = \\frac{\\imath}{ \\omega} \\left(\\mathbf{\\nabla}(\\mathbf{\\nabla}\\cdot e(r))-\\mathbf{\\nabla}^{2}e(r)\\right) \\\\\n",
    "    \\frac{\\imath}{\\omega \\mu_{0}}\\left(\\mathbf{\\nabla}(\\mathbf{\\nabla}\\cdot \\mathbf{e}(r))-\\mathbf{\\nabla}^{2}\\mathbf{e}(r)\\right)-\\imath \\omega \\epsilon^{h}\\mathbf{e}(r)&=\\imath \\omega \\mathbf{p}^{s}(r) \\\\\n",
    "    \\frac{\\epsilon_{0}}{k^{2}}\\left(-\\frac{1}{\\epsilon^{h}}\\mathbf{\\nabla}(\\mathbf{\\nabla}\\cdot \\mathbf{p}^{s}(r))-\\mathbf{\\nabla}^{2}\\mathbf{e}(r)\\right)-\\epsilon^{h}\\mathbf{e}(r) & = \\mathbf{p}^{s}(r)\\end{aligned}$$\n",
    "That is: $$\\tag{10}\\label{10}\n",
    "    \\mathbf{\\nabla}^{2}\\mathbf{e}(r)+\\frac{\\epsilon^{h}}{\\epsilon_{0}}k^{2}\\mathbf{e}(r)=-\\frac{k^{2}}{\\epsilon_{0}}\\mathbf{p}^{s}(r)-\\frac{1}{\\epsilon^{h}}\\mathbf{\\nabla}(\\mathbf{\\nabla}\\cdot \\mathbf{p}^{s}(r))$$\n",
    "Employing the Green’s function approach, the solution to\n",
    "<a href=\"#10\" data-reference-type=\"eqref\" data-reference=\"10\">[10]</a>\n",
    "is and setting $k^{\\prime}=\\sqrt{1+\\chi^{h}}k$: $$\\tag{11}\\label{11}\n",
    "    \\mathbf{e}(r) = \\lim_{\\eta \\rightarrow 0}\\int_{\\eta<|\\mathbf{r}-\\mathbf{r}^{\\prime}|}\\frac{e^{\\imath k^{\\prime}|\\mathbf{r}-\\mathbf{r}^{\\prime}|}}{4\\pi|\\mathbf{r}-\\mathbf{r}^{\\prime}|}\\left(\\frac{k^{2}}{\\epsilon_{0}}\\mathbf{p}^{s}(\\mathbf{r^{\\prime}})+\\frac{1}{\\epsilon^{h}}\\mathbf{\\nabla}(\\mathbf{\\nabla}\\cdot \\mathbf{p}^{s}(\\mathbf{r^{\\prime}}))\\right)d\\mathbf{r}^{\\prime}$$\n",
    "\n",
    "Macroscopic Fields\n",
    "==================\n",
    "\n",
    "Let $\\Delta$ be the weight function employed. We have if $\\mathbf{a}$ is\n",
    "a microscopic field and $\\mathbf{A}$ is a Macroscopic field then,\n",
    "$$\\tag{12}\\label{12}\n",
    "    \\mathbf{A}(\\mathbf{r}) = \\int \\Delta(\\mathbf{r}-\\mathbf{r}^{\\prime})\\mathbf{a}(r^{\\prime})d\\mathbf{r}^{\\prime}$$\n",
    "From\n",
    "<a href=\"#12\" data-reference-type=\"eqref\" data-reference=\"12\">[12]</a>,\n",
    "$$\\begin{aligned}\n",
    "    \\frac{\\partial \\mathbf{A}(\\mathbf{r})}{\\partial x^{i}} & = \\int \\frac{\\partial \\Delta(r-r^{\\prime})}{\\partial x^{i}}\\mathbf{a}(\\mathbf{r^{\\prime}})d\\mathbf{r}^{\\prime} \\\\\n",
    "    &=-\\int \\frac{\\partial \\Delta(r-r^{\\prime})}{\\partial x^{i}{}^{\\prime}}\\mathbf{a}(\\mathbf{r^{\\prime}})d\\mathbf{r}^{\\prime} \\\\\n",
    "    & = \\int \\Delta(\\mathbf{r}-\\mathbf{r}^{\\prime})\\frac{\\partial \\mathbf{a}(r^{\\prime})}{\\partial x^{i}{}^{\\prime}}d\\mathbf{r}^{\\prime}\\end{aligned}$$\n",
    "Therefore, the Macroscopic fields also satisfy the analogous Maxwell’s\n",
    "equations.\n",
    "\n",
    "Different Length Scales Involved\n",
    "--------------------------------\n",
    "\n",
    "Inclusion are located at an average distance of $b$, the weighting\n",
    "function decays at a characterisitc length $R$ and the wavelength of the\n",
    "em wave is $\\lambda$. We require, $$b<<R<<\\lambda$$\n",
    "\n",
    "Constitutive Relations for the Macroscopic Fields\n",
    "=================================================\n",
    "\n",
    "Consider a sphere of radius $R$ centred at $\\mathbf{r}$. Three\n",
    "distinctions can be made. The contribution to the\n",
    "microscopic/macroscopic electric field from the microscopic/macroscopic\n",
    "polarization from within the sphere and outside the sphere and the\n",
    "homogenous solution that exists independent of the polarization.\n",
    "\n",
    "Homogeneous Solution\n",
    "--------------------\n",
    "\n",
    "Since, $R << \\lambda$, and the solution varies appreciable in orders of\n",
    "$\\lambda$ both the microscopic and the macroscopic fields are\n",
    "approximately equal.\n",
    "\n",
    "Outside the sphere\n",
    "------------------\n",
    "\n",
    "The weighting function decays at a characterisitc length $R$. So outside\n",
    "the sphere, it is insensitive to changes in $p^{s}$ and hence, both the\n",
    "microscopic and the macroscopic fields are approximately equal. So we\n",
    "have: $$\\tag{13}\\label{13}\n",
    "    \\mathbf{e}(\\mathbf{r})-\\mathbf{E}(\\mathbf{r}) = \\mathbf{e}^{\\text{in}}(\\mathbf{r})-\\mathbf{E}^{\\text{in}}(\\mathbf{r})$$\n",
    "Within the sphere, since $\\lambda >> R$, we have from\n",
    "<a href=\"#11\" data-reference-type=\"eqref\" data-reference=\"11\">[11]</a>:\n",
    "$$\\tag{14}\\label{14}\n",
    "    \\mathbf{e}^{\\text{in}}(r) = \\lim_{\\eta \\rightarrow 0}\\int_{\\eta<|\\mathbf{r}-\\mathbf{r^{\\prime}}|<R}\\frac{1}{4\\pi|\\mathbf{r}-\\mathbf{r}^{\\prime}|}\\left(\\frac{1}{\\epsilon^{h}}\\mathbf{\\nabla}(\\mathbf{\\nabla}\\cdot \\mathbf{p}^{s}(\\mathbf{r^{\\prime}}))\\right)d\\mathbf{r}^{\\prime}$$\n",
    "The above equation can be simplified to obtain:\n",
    "(For the complete derivation take a look at chapter 4--Van Kranendonk, J., & Sipe, J. E. (1977). Foundations of the macroscopic electromagnetic theory of dielectric media. Progress in Optics. https://doi.org/10.1016/S0079-6638(08)70480-3) $$\\tag{15}\\label{15}\n",
    "    \\mathbf{e}^{\\text{in}}(r)=-\\frac{1}{3\\epsilon^{h}}\\mathbf{p}^{s}+\\lim_{\\eta \\rightarrow 0}\\int_{\\eta<|\\mathbf{r}-\\mathbf{r^{\\prime}}|<R}\\frac{1}{4\\pi}\\bar{T}(\\mathbf{r}-\\mathbf{r^{\\prime}})\\cdot \\mathbf{p^{s}}({\\mathbf{r^{\\prime}}})d\\mathbf{r}^{\\prime}$$\n",
    "Here, $$\\tag{16}\\label{16}\n",
    "    \\bar{T}(\\mathbf{r})=\\frac{3\\mathbf{\\hat{r}}\\mathbf{\\hat{r}}-\\bar{\\mathbf{U}}}{\\epsilon^{h}r^{3}}$$ and\n",
    "$$U=\\mathbf{\\hat{x}}\\mathbf{\\hat{x}}+\\mathbf{\\hat{y}}\\mathbf{\\hat{y}}+\\mathbf{\\hat{z}}\\mathbf{\\hat{z}}$$\n",
    "Within the sphere, we expect the macroscopic polarization to be roughly\n",
    "uniform and therefore, $$\\tag{17}\\label{17}\n",
    "    \\mathbf{E^{\\text{in}}}(\\mathbf{r})=-\\frac{1}{3\\epsilon^{h}}\\mathbf{P^{s}}(\\mathbf{r})$$\n",
    "And therefore, from\n",
    "<a href=\"#13\" data-reference-type=\"eqref\" data-reference=\"13\">[13]</a>,<a href=\"#16\" data-reference-type=\"eqref\" data-reference=\"16\">[16]</a>\n",
    "and\n",
    "<a href=\"#17\" data-reference-type=\"eqref\" data-reference=\"17\">[17]</a>:\n",
    "$$\\tag{18}\\label{18}\n",
    "    \\mathbf{e}(r)=\\mathbf{E}(\\mathbf(r))+\\frac{1}{3\\epsilon^{h}}\\mathbf{P^{s}}-\\frac{1}{3\\epsilon^{h}}\\mathbf{p}^{s}+\\lim_{\\eta \\rightarrow 0}\\int_{\\eta<|\\mathbf{r}-\\mathbf{r^{\\prime}}|<R}\\frac{1}{4\\pi}\\bar{T}(\\mathbf{r}-\\mathbf{r^{\\prime}})\\cdot \\mathbf{p^{s}}({\\mathbf{r^{\\prime}}})d\\mathbf{r}^{\\prime}(\\mathbf{r})$$\n",
    "In Gaussian units\n",
    "<a href=\"#18\" data-reference-type=\"eqref\" data-reference=\"18\">[18]</a>\n",
    "is: $$\\tag{19}\\label{19}\n",
    "    \\mathbf{e}(r)=\\mathbf{E}(\\mathbf(r))+\\frac{4\\pi}{3\\epsilon^{h}}\\mathbf{P^{s}}-\\frac{4\\pi}{3\\epsilon^{h}}\\mathbf{p}^{s}+\\lim_{\\eta \\rightarrow 0}\\int_{\\eta<|\\mathbf{r}-\\mathbf{r^{\\prime}}|<R}\\bar{T}(\\mathbf{r}-\\mathbf{r^{\\prime}})\\cdot \\mathbf{p^{s}}({\\mathbf{r^{\\prime}}})d\\mathbf{r}^{\\prime}(\\mathbf{r})$$"
   ]
  },
  {
   "cell_type": "markdown",
   "metadata": {
    "id": "3Cvi9wu1iTKE"
   },
   "source": [
    "Section 2 (Shashank) (This cell is only for reference, delete it later)"
   ]
  },
  {
   "cell_type": "markdown",
   "metadata": {
    "id": "KF7ihI6BNoR_"
   },
   "source": [
    "\n",
    "\n",
    "\n",
    "\n",
    "##**The Maxwell-Garnett Equations**\n",
    "We have established a relationship between the mesoscopic field $\\textbf{e(r)}$ and the macroscopic $\\textbf{E(r)}$ for a $\\Delta (r)$ characterised by any range $R<<\\lambda$:\n",
    "\\begin{equation}\\tag{20}\\label{20}\n",
    "    \\mathbf{e(r)}=\\mathbf{E^c(r)-\\frac{4\\pi}{3\\epsilon^h}p^s(r)+\\int \\overline{T}^c(r-r').p^s(r')dr'}\n",
    "\\end{equation}\n",
    "where \n",
    "$$\\mathbf{E^c(r)=E(r)+\\frac{4\\pi}{3\\epsilon^h}P^s(r)}$$\n",
    "is the `cavity field' and\n",
    "$$\\mathbf{\\overline{T}^c(r)=\\overline{T}^0(r)c(r)}$$\n",
    "and $c(r)$ is a cutoff function of range $R$ satisfying $c(0)=1, c(r)\\to 0$ as $r\\to\\infty$.\n",
    "Consider the sphere $B$ centred at $r_0$ and radius $a$.The static dipole tensor satisfies,\n",
    "\\begin{equation}\\tag{21}\\label{21}\n",
    "\\mathbf{\n",
    "    \\int \\overline{T}^c(r-r')dr'=0\n",
    "}  \n",
    "\\end{equation}\n",
    "\\begin{equation}\\tag{22}\\label{22}\n",
    "\\mathbf{\n",
    "    \\int_{r',r \\in B}\\overline{T}^0(r-r')dr'=0\n",
    "    }\n",
    "\\end{equation}\n",
    "\\begin{equation}\\tag{23}\\label{23}\n",
    "\\mathbf{\n",
    "    \\int_{r \\in B, r'\\notin B}\\overline{T}^0(r-r')dr=\\frac{4\\pi}{3}a^3\\overline{T}^0(r_0-r')\n",
    "    }\n",
    "\\end{equation}\n",
    "In equation (21), the integration is over all space, and $c(r)$ is spherically symmetric (depends only on $r=|r|$) and for a fixed r, the integral of $\\mathbf{{T}^0(r)}$ vanishes over solid angle.\n",
    "Equations (22) and (23) are derivable using the Gauss's theorem on $\\mathbf{\\overline{T}(r)=\\epsilon_h^{-1}\\nabla \\nabla r^{-1})}$\n",
    "\n",
    "\\noindent On the other hand, the polarisation was shown to satisfy \n",
    "\\begin{equation}\\tag{24}\\label{24}\n",
    "    \\mathbf{4\\pi p'(r'')=(\\epsilon^i-\\epsilon^h)\\Theta^i(r'')e(r'')}\n",
    "\\end{equation}\n",
    "for $\\Theta^i(r)=1$ if $\\mathbf{r}$ is a point in inclusion and $0$ otherwise. Neglecting nonlinearity in the polarisation, equations (20) and (24) yield\n",
    "\n",
    "\\begin{equation}\\tag{25}\\label{25}\n",
    "  \\mathbf{\n",
    "         4\\pi p'(r'')=3(\\epsilon^i-\\epsilon^h)\\Theta^i(r'')\\left(\n",
    "        \\mathbf{E^c(r'')-\\frac{4\\pi}{3\\epsilon^h}p^s(r'')+\\int \\overline{T}^c(r''-r').p^s(r')dr'}\\right)\n",
    "        } \n",
    "\\end{equation}\n",
    "\n",
    "\\begin{equation}\\tag{26}\\label{26}\n",
    "  \\mathbf{\n",
    "         4\\pi p'(r'')=3\\epsilon^h\\beta\\Theta^i(r'')\\left(\n",
    "        \\mathbf{E^c(r'')+\\int \\overline{T}^c(r''-r').p^s(r')dr'}\\right)\n",
    "        } \n",
    "\\end{equation}\n",
    "where \n",
    "\\begin{equation}\\tag{27}\\label{27}\n",
    "\\beta=\\frac{\\epsilon^i-\\epsilon^h}{\\epsilon^i+2\\epsilon^h}\n",
    "\\end{equation}\n",
    "The next step is to integrate equation (26) with $\\Delta$ to obtain the macroscopic polarisation term,\n",
    "\\begin{equation}\\tag{28}\\label{28}\n",
    "    \\mathbf{\n",
    "      P'(r)=\\int\\Delta(r-r'')p'(r'')dr''\n",
    "    }\n",
    "\\end{equation}\n",
    "\n",
    "This invites another standard ansatz of the Maxwell Garnett scheme that at points $\\mathbf{r''}$ within the range $R$ of $\\mathbf{r}$, $\\mathbf{p(r'')}$ can be approximated by a uniform value $\\mathbf{\\mathcal{R}(r)}$ inside the inclusions so that\n",
    "\\begin{equation}\\tag{29}\\label{29}\n",
    "    \\mathbf{p(r'')=\\Theta^i(r'')\\mathcal{R}(r)}\n",
    "\\end{equation}\n",
    "\\begin{equation}\\tag{30}\\label{30}\n",
    "\\mathbf{P'(r)=\\mathcal{R}(r)\\cdot\\int\\Delta(r-r'')\\Theta^i(r'')dr''=\\mathit{f}\\cdot \\mathbf{\\mathcal{R}(r)}}\n",
    "\\end{equation}\n",
    "where $\\mathit{f}$ is the fill fraction of inclusions. What remains is the evaluation of $\\mathbf{\\mathcal{R}(r)}$ for which, now look at equation (26) again.\n",
    "\n",
    "For a point $\\mathbf{r''}$ in a given inclusion, the integral involving $\\mathbf{\\overline{T}^c}$ is zero over points $\\mathbf{r'}$ in the same inclusion, as inferred from equation (22), (29) and the uniformity of the cutoff function $\\mathbf{c(r''-r')}$ over this range. Also, other inclusions in the $R$ neighbourhood are expected to contribute nothing, given their random distribution and again, the mesoscopic uniformity (29), together in equation (22). $\\mathbf{E^c(r)}$ is already macroscopic with a little variation over the distances of scale $R$ so we infer\n",
    "\\begin{equation}\\tag{31}\\label{31}\n",
    "    4\\pi\\mathbf{\\mathcal{R}(r)}=3\\epsilon^h\\beta\\mathbf{E^c(r)}\n",
    "\\end{equation}\n",
    "Plugging this into (30) and recalling $\\mathbf{E^c(r)=E(r)+\\frac{4\\pi}{3\\epsilon^h}P'(r)}$,\n",
    "we retrieve\n",
    "\n",
    "\\begin{equation}\\tag{32}\\label{32}\n",
    "    \\mathbf{\n",
    "    4\\pi P'(r)=\\frac{3\\epsilon^h\\beta\\mathit{f}}{(1-\\beta\\mathit{f})} E(r)\n",
    "    }\n",
    "\\end{equation}\n",
    "So we have\n",
    "\\begin{equation}\\tag{33}\\label{33}\n",
    "    \\mathbf{p(r)=\\chi^h e(r)+ p'(r)}\n",
    "\\end{equation}\n",
    "when spatially averaged,\n",
    "\\begin{equation}\\tag{34}\\label{34}\n",
    "    \\mathbf{P(r)=\\chi^h E(r)+ P'(r)}\n",
    "\\end{equation}\n",
    "The total displacement, $\\mathbf{D(r)}$ is then,\n",
    "\\begin{equation}\\tag{35}\\label{35}\n",
    "    \\mathbf{D(r)=E(r)+4\\pi P(r)=\\epsilon^hE(r)+4\\pi P'(r)=\\epsilon E(r)}\n",
    "\\end{equation}\n",
    "(32) and (35) allow us to conclude this section with the so defined effective-medium dielectric constant $\\epsilon$ satisfying \n",
    "\\begin{equation}\\tag{36}\\label{36}\n",
    "    \\frac{\\epsilon-\\epsilon^h}{\\epsilon+2\\epsilon^h}=\\beta\\mathit{f}\n",
    "\\end{equation}\n",
    "The following three results are useful in subsequent sections. \\\\\n",
    "(32) and (35) imply\n",
    "\\begin{equation}\\tag{37}\\label{37}\n",
    "    \\mathbf{E^c(r)}=\\frac{\\epsilon+2\\epsilon^h}{3\\epsilon^h}\\mathbf{E(r)}\n",
    "\\end{equation}\n",
    "The mesoscopic electric field $\\mathbf{e(r)}$ inside an inclusion is determined by combining (24), (30) and (36)\n",
    "\\begin{equation}\\tag{38}\\label{38}\n",
    "    \\mathbf{e(r)}=\\frac{\\epsilon+2\\epsilon^h}{\\epsilon^i+2\\epsilon^h}\\mathbf{E(r)}\n",
    "\\end{equation}\n",
    "Finally, the dipole moment of an inclusion given the polarisation in (29)\n",
    "\\begin{equation}\\tag{39}\\label{39}\n",
    "    \\mathbf{\\mu}=a^3\\epsilon^h\\beta\\mathbf{E^c(r)}\n",
    "\\end{equation}\n",
    "\n",
    "##**Nonlinear Inclusions**\n",
    "We now present a parallel analysis that furthers the above development in cases where the inclusion material is nonlinear. Analogous to equations (33), (34) and (35), we write,\n",
    "\\begin{equation}\\tag{40}\\label{40}\n",
    "    \\mathbf{p(r)=\\chi^h e(r)+ p'(r)+p^{NL}(r)}\n",
    "\\end{equation}\n",
    "spatially averaging,\n",
    "\\begin{equation}\\tag{41}\\label{41}\n",
    "    \\mathbf{P(r)=\\chi^h E(r)+ P'(r)+P^{NL}(r)}\n",
    "\\end{equation}\n",
    " $\\mathbf{D(r)}$ is then defined as,\n",
    "\\begin{equation}\\tag{42}\\label{42}\n",
    "    \\mathbf{D(r)=E(r)+4\\pi P(r)\\\\\n",
    "    =\\epsilon^h E(r)+4\\pi P'(r)+4\\pi P^{NL}(r)\\\\\n",
    "    =\\epsilon E(r)+4\\pi P^{NL}(r)}\n",
    "\\end{equation}\n",
    "Our interest lies in the nonlinear modification at the incident frequency and processes such as third order generation are neglected. For this section, only the inclusions being nonlinear, we can write the mesoscopic polarisation as,\n",
    "\\begin{equation}\\tag{43}\\label{43}\n",
    "{\n",
    "    \\mathbf{\n",
    "      p^{NL}(r)=\\Theta^i(r)p^{NL, i}(r)\n",
    "    }\n",
    "    }\n",
    "\\end{equation}\n",
    "The inclusion material in the treatment is itself isotropic and uniform, and we expect that the nonlinear polarisation is written to third order in electric field strength. So as to precise the form of $\\mathbf{p^{NL}(r)}$ and $\\mathbf{P^{NL}(r)}$, recall the defining steps to nonlinear susceptibilities.\n",
    "With the incident electric field of the form,\n",
    "\\begin{equation}\\tag{44}\\label{44}\n",
    "    \\mathbf{E(r,t)=\\sum_{\\{\\omega_n\\}}E}(\\omega_n) e^{-i\\omega_n t}\n",
    "\\end{equation}\n",
    "(recall the notation $E^*(\\omega)=E(-\\omega)$) the nonlinear response of the material at third order in electric field strength is characterised by the third order susceptibilities $\\chi^{(3)}_{ijkl}()$ as\n",
    "\\begin{equation}\\tag{45}\\label{45}\n",
    "    P_i(\\omega_o+\\omega_n+\\omega_m)=\\epsilon_0 D\\sum_{jkl}\\sum_{mno}\\chi^{(3)}_{ijkl}(\\omega_o+\\omega_n+\\omega_m, \\omega_o, \\omega_n, \\omega_m)\\times E_j(\\omega_o)E_k(\\omega_n)E_l(\\omega_m)\n",
    "\\end{equation}\n",
    "where the degeneracy factor $D$ represents the number of permutations of the frequencies.\\\\\n",
    "This tensor nature is accounted for, in our special case of macroscopic isotropy and the incident field  $\\{\\omega_i\\}=\\{\\omega, -\\omega\\}$ by taking\n",
    "\\begin{equation}\\tag{46}\\label{46}\n",
    "    \\mathbf{\n",
    "      p^{NL, i}(r)}=A^i\\mathbf{[e(r)\\cdot e^*(r)]e(r})+\\frac{1}{2}B^i\\mathbf{[e(r).e(r)]e^*(r)\n",
    "    }\n",
    "\\end{equation}\n",
    "Since we look into the nonlinearity of least order, equation (38) is used in (46), and we have,  \n",
    "\\begin{equation}\\tag{47}\\label{47}\n",
    "    \\mathbf{\n",
    "       p^{NL,i}(r)=\\left|\\frac{\\epsilon+2\\epsilon^h}{\\epsilon^i+2\\epsilon^h}\\right|^2\\left[\\frac{\\epsilon+2\\epsilon^h}{\\epsilon^i+2\\epsilon^h}\\right]\\times \\left(=A^i\\mathbf{[E(r)\\cdot E^*(r)]E(r})+\\frac{1}{2}B^i\\mathbf{[E(r).E(r)]E^*(r)}\\right)\n",
    "    }\n",
    "\\end{equation}\n",
    "which can be immediately averaged on the range $R$ to find that\n",
    "\\begin{equation}\\tag{48}\\label{48}\n",
    "    \\mathbf{\n",
    "       P^{NL,i}(r)=\\mathit{f}\\left|\\frac{\\epsilon+2\\epsilon^h}{\\epsilon^i+2\\epsilon^h}\\right|^2\\left[\\frac{\\epsilon+2\\epsilon^h}{\\epsilon^i+2\\epsilon^h}\\right]\\times \\left(=A^i\\mathbf{[E(r)\\cdot E^*(r)]E(r})+\\frac{1}{2}B^i\\mathbf{[E(r).E(r)]E^*(r)}\\right)\n",
    "    }\n",
    "\\end{equation}\n",
    "From (25,26, and 27) the nonlinear mesoscopic polarisation can be now expressed with full set of equations for polarisation,\n",
    "\\begin{equation}\\tag{49}\\label{49}\n",
    "  \\mathbf{\n",
    "         4\\pi p'(r'')=3(\\epsilon^i-\\epsilon^h)\\Theta^i(r'')\\left(\n",
    "        \\mathbf{E^c(r'')-\\frac{4\\pi}{3\\epsilon^h}p^s(r'')+\\int \\overline{T}^c(r''-r').p^s(r')dr'}\\right)\n",
    "        } \n",
    "\\end{equation}\n",
    "\n",
    "\\begin{equation}\\tag{50}\\label{50}\n",
    "  \\mathbf{\n",
    "         4\\pi p'(r'')=3\\epsilon^h\\beta\\Theta^i(r'')\\left(\n",
    "        \\mathbf{E^c(r'')-\\frac{4\\pi}{3\\epsilon^h}p^{NL}(r'')+\\int \\overline{T}^c(r''-r').p'(r')+p^{NL}(r')dr'}\\right)\n",
    "        } \n",
    "\\end{equation}\n",
    "where\n",
    "\n",
    "\\begin{equation}\\tag{51}\\label{51}\n",
    "    \\mathbf{E^c(r)=E(r)+\\frac{4\\pi}{3\\epsilon^h}P'(r)+\\frac{4\\pi}{3\\epsilon^h}P^{NL}(r)}\n",
    "\\end{equation}\n",
    "Tangential arguments to the linear case still hold, so that the contributions from the integral term can be neglected, and that the mesoscopic polarisation is uniform within the range $R$ so that\n",
    "\\begin{equation}\\tag{52}\\label{52}\n",
    "    \\mathbf{P'(r)=\\mathit{f}\\mathcal{R}(r)}\n",
    "\\end{equation}\n",
    "\\begin{equation}\\tag{53}\\label{53}\n",
    "    \\mathbf{4\\pi \\mathcal{R}(r)=3\\epsilon^h\\beta\\left[E^c(r)-\\frac{4\\pi}{3\\epsilon^h}\\mathcal{R}^{NL}(r)\\right]}\n",
    "\\end{equation}\n",
    "Equations (47, 48, 51, 52, 53) are enough to solve for $\\mathbf{P'(r)}$ and as required we evaluate\n",
    "\\begin{equation}\\tag{54}\\label{54}\n",
    "    \\mathbf{\n",
    "    P'(r)+P^{NL}(r)=\\frac{\\epsilon-\\epsilon^h}{4\\pi}E(r)+\\left[\\frac{\\epsilon+2\\epsilon^h}{\\epsilon^i+2\\epsilon^h}\\right]P^{NL}(r)\n",
    "    }\n",
    "\\end{equation}\n",
    "with $\\mathbf{P^{NL}(r)}$ as in (48).\n",
    "Of course, the nonlinear coefficients of the composite material $A$ and $B$ are defined by\n",
    "\\begin{equation}\\tag{55}\\label{55}\n",
    "   \\mathbf{P^{NL}(r)} =A\\mathbf{[E(r)\\cdot E^*(r)]E(r})+\\frac{1}{2}B\\mathbf{[E(r).E(r)]E^*(r)}\n",
    "\\end{equation}\n",
    "with which we compare (54) and arrive at our first result, the nonlinear coefficients of the composite with respect to those of the inclusion,\n",
    "\\begin{equation}\\tag{56}\\label{56}\n",
    "    \\frac{A}{A^i}=\\frac{B}{B^i}=\\mathit{f}\\left|\\frac{\\epsilon+2\\epsilon^h}{\\epsilon^i+2\\epsilon^h}\\right|^2\\left[\\frac{\\epsilon+2\\epsilon^h}{\\epsilon^i+2\\epsilon^h}\\right]^2\n",
    "\\end{equation}\n",
    "\n",
    "##**Nonlinear Host**\n",
    "Now with the nonlinearity in the host, a rather complicated situation, the following defining equations still stand.\n",
    "\\begin{equation}\\tag{57}\\label{57}\n",
    "    \\mathbf{p(r)=\\chi^h e(r)+ p'(r)+p^{NL}(r)}\n",
    "\\end{equation}\n",
    "\n",
    "\\begin{equation}\\tag{58}\\label{58}\n",
    "    \\mathbf{P(r)=\\chi^h E(r)+ P'(r)+P^{NL}(r)}\n",
    "\\end{equation}\n",
    "\n",
    "\\begin{equation}\\tag{59}\\label{59}\n",
    "    \\mathbf{D(r)=E(r)+4\\pi P(r)\\\\\n",
    "    =\\epsilon^h E(r)+4\\pi P'(r)+4\\pi P^{NL}(r)\\\\\n",
    "    =\\epsilon E(r)+4\\pi P^{NL}(r)}\n",
    "\\end{equation}\n",
    "\\begin{equation}\\tag{60}\\label{60}\n",
    "   \\mathbf{P^{NL}(r)} =A\\mathbf{[E(r)\\cdot E^*(r)]E(r})+\\frac{1}{2}B\\mathbf{[E(r).E(r)]E^*(r)}\n",
    "\\end{equation}\n",
    "The changes are in\n",
    "\\begin{equation}\\tag{61}\\label{61}\n",
    "{\n",
    "    \\mathbf{\n",
    "      p^{NL}(r)=\\Theta^h(r)p^{NL, h}(r)\n",
    "    }\n",
    "    }\n",
    "\\end{equation}\n",
    "\\begin{equation}\\tag{62}\\label{62}\n",
    "    \\mathbf{\n",
    "      p^{NL, h}(r)}=A^h\\mathbf{[e(r)\\cdot e^*(r)]e(r})+\\frac{1}{2}B^i\\mathbf{[e(r).e(r)]e^*(r)\n",
    "    }\n",
    "\\end{equation}\n",
    "As in the former calculation, $\\mathbf{e(r)}$ estimated in the linear limit can be used in the above equation. In this limit, $\\mathbf{p^s(r)}$ vanishes withing the host and the field can be estimated with\n",
    "\\begin{equation}\\tag{63}\\label{63}\n",
    "   \\mathbf{ e(r)=E^c(r)+\\int \\overline{T}^c(r-r')\\cdot p'(r) dr'}\n",
    "\\end{equation}\n",
    "Following symmetry and property arguments on the dipole-dipole coupling tensor, the contributions from all inclusions can be neglected except the one at the origin. Outside this particular inclusion, we have from the dipole moment of the inclusion in (39) and the property(23), \n",
    "\\begin{equation}\\tag{64}\\label{64}\n",
    "    \\mathbf{e(r)=[\\overline{U}+a^3\\beta\\epsilon^h \\overline{T}(r)]\\cdot E^c}\n",
    "\\end{equation}\n",
    "These equations find us\n",
    "\\begin{equation}\\tag{65}\\label{65}\n",
    "    \\mathbf{p^{NL}=p^{NLu}+p^{NLD}}\n",
    "\\end{equation}\n",
    "where\n",
    "\\begin{equation}\\tag{66}\\label{66}\n",
    "    \\mathbf{p^{NLu}}=A^h(E^c.{E^c}^*)E^c +\\frac{B^h}{2}(E^c\\cdot E^c){E^c}^*\n",
    "\\end{equation}\n",
    "is induced uniformly around the inclusion in picture, and\n",
    "\\begin{equation}\\tag{67}\\label{67}\n",
    "    {p_m^{NLd}}=A^hD_1(E_l^c{E_j^c}^*)E_k^c +D_2\\frac{B^h}{2}(E_j^c\\cdot E_k^c){E_l^c}^*\n",
    "\\end{equation}\n",
    "where $D_1$ and $D_2$ are outcomes of appendix B in the original paper[1].\n",
    "Averaging the above equation, we directly quote the result of this section, i.e. the macroscopic nonlinear coefficients of the composite in relation to those of the host\n",
    "\\begin{align}\\tag{68}\\label{68}\n",
    "    A=\\left|\\frac{\\epsilon+2 \\epsilon^{h}}{3 \\epsilon^{h}}\\right|^{2}\\left[\\frac{\\epsilon+2 \\epsilon^{h}}{3 \\epsilon^{h}}\\right]^{2}\\left[(1-f) A^{h}+f\\left(\\frac{7}{5} \\beta^{2}|\\beta|^{2}+\\frac{3}{10} \\beta|\\beta|^{2}+\\frac{1}{10} \\beta^{3}+\\frac{12}{5}|\\beta|^{2}+\\frac{12}{5} \\beta^{2}\\right) A^{h}\\\\\n",
    "    +f\\left(\\frac{2}{5} \\beta^{2}|\\beta|^{2}+\\frac{9}{5} \\beta|\\beta|^{2}+\\frac{3}{5} \\beta^{3}+\\frac{12}{5}|\\beta|^{2}+\\frac{12}{5} \\beta^{2}\\right) \\frac{1}{2} B^{h}\\right] \n",
    "    \\nonumber\n",
    "\\end{align}\n",
    "\\begin{align}\\tag{69}\\label{69}\n",
    "    B=\\left|\\frac{\\epsilon+2 \\epsilon^{h}}{3 \\epsilon^{h}}\\right|^{2}\\left|\\frac{\\epsilon+2 \\epsilon^{h}}{3 \\epsilon^{h}}\\right|^{2}\\left[(1-f) B^{h}+f\\left(\\frac{6}{5} \\beta^{2}|\\beta|^{2}-\\frac{3}{5} \\beta|\\beta|^{2}-\\frac{1}{5} \\beta^{3}+\\frac{6}{5}|\\beta|^{2}+\\frac{6}{5} \\beta^{2}\\right) B^{h}\\\\\n",
    "    \\right.\\left.+f\\left(\\frac{1}{5} \\beta^{2}|\\beta|^{2}+\\frac{9}{10} \\beta|\\beta|^{2}+\\frac{3}{10} \\beta^{3}+\\frac{6}{5}|\\beta|^{2}+\\frac{6}{5} \\beta^{2}\\right) 2 A^{h}\\right]\\nonumber\n",
    "\\end{align}\n",
    "\n",
    "\n",
    "\n",
    "\n",
    "\n",
    "# **Discussion of the Results**\n",
    " **Nonlinear Inclusions**\n",
    "\n",
    " For illustrative purposes, we plot the figures in the range 0$<\\mathit{f}<$1 although our assumptions are expected to hold only around $\\mathit{f}=0$. For nonlinearity in the inclusion particles, figure 1 shows the behaviour of macroscopic nonlinear coefficients with respect to those of the inclusion material. For equal linear dielectric constants of the inclusion and host material, the coefficients resemble to those of inclusion multiplied by the fill fraction $\\mathit{f}$, which we also in some sense is 'spatially averaging'. Importantly, it is observed that the nonlinearity is enhanced for cases where $\\epsilon^i<\\epsilon^h$ with respect to this spatial averaging, and $\\frac{A}{A_i}$ rises rapidly.\n",
    "\n",
    " This is particularly important in nonlinear optics as strongly nonlinear effects are a scarcity.\n",
    "\n",
    " **Nonlinear Host**\n",
    "\n",
    " The results here, which are only slightly complicated can be best illustrated by plotting the relative enhancement of $A+\\frac{B}{2}$ to $A^h+\\frac{B^h}{2}$ as in Fig 2. Here, when the linear dielectric constants of both are equal, we again get a linear declining graph that falls to zero, directly proportional to the fraction of host material. Interesting behaviour is observed for larger $\\frac{\\epsilon^i}{\\epsilon^h}$. This is intuitively apparent through the calculations of this section where the 'dressing' field as mentioned pays a significant contribution. The reason is that the presence of inclusions strongly modifies the electric field in their neighbourhood, thus pulling a stronger nonlinear response. Of course, this trend does not continue right upto $\\mathit{f}=1$ for the absence of inclusion-inclusion correlations in our treatment.\n",
    "\n",
    "\n",
    "In cases where complex permittivities are present, richer aspects in qualitative behaviour are observed, although very hard to instructively analyse. In the following sections, an experiment with such a demonstration is presented. \n",
    "\n",
    " \n",
    "\n",
    "> \n",
    "\n"
   ]
  },
  {
   "cell_type": "code",
   "execution_count": null,
   "metadata": {
    "id": "4wt-il-yr3Wu"
   },
   "outputs": [],
   "source": [
    "h0=4\n",
    "h1=2\n",
    "h2=1\n",
    "h3=0.5\n",
    "h4=0.25\n",
    "A0=[]\n",
    "A1=[]\n",
    "A2=[]\n",
    "A3=[]\n",
    "A4=[]\n",
    "#A_Ai=A/Ai\n",
    "def A_Ai(h,f):\n",
    "    b=(1-h)/(1+2*h)\n",
    "    eps=(2*b*f+1)*h/(1-b*f)\n",
    "    A_Ai = f*np.abs((eps+2*h)/(1+2*h))**2*((eps+2*h)/(1+2*h))**2\n",
    "    return A_Ai\n",
    "f_vec=np.linspace(0.0, 1.0, 50)\n",
    "for f in f_vec:\n",
    "    A0.append(A_Ai(h0,f))\n",
    "    A1.append(A_Ai(h1,f))\n",
    "    A2.append(A_Ai(h2,f))\n",
    "    A3.append(A_Ai(h3,f))\n",
    "    A4.append(A_Ai(h4,f))"
   ]
  },
  {
   "cell_type": "code",
   "execution_count": null,
   "metadata": {
    "colab": {
     "base_uri": "https://localhost:8080/",
     "height": 365
    },
    "id": "3tsCZVIbVI5o",
    "outputId": "2c5cc4c4-958c-46a2-a723-e5263fd4bc7c"
   },
   "outputs": [
    {
     "data": {
      "image/png": "[encoded data removed]",
      "text/plain": [
       "<Figure size 576x360 with 1 Axes>"
      ]
     },
     "metadata": {
      "needs_background": "light",
      "tags": []
     },
     "output_type": "display_data"
    }
   ],
   "source": [
    "plt.figure(figsize=(8,5))\n",
    "plt.title('Figure 1: Variation of the nonlinear coefficients A and B of a composite optical material with the fill fraction f for several different values of the ratios of linear permeabilities.\\n', fontdict=None,  loc= 'center')\n",
    "plt.ylabel(r'$A/A^i$  or  $B/B^i$')\n",
    "plt.xlabel('fill fraction f')\n",
    "plt.plot(f_vec,A0, 'b' ,label=r'$\\varepsilon^i/\\varepsilon^h = 0.25$')\n",
    "plt.plot(f_vec,A1, 'k' ,label=r'$\\varepsilon^i/\\varepsilon^h = 0.5$')\n",
    "plt.plot(f_vec,A2, 'g' ,label=r'$\\varepsilon^i/\\varepsilon^h = 1$')\n",
    "plt.plot(f_vec,A3, 'r' ,label=r'$\\varepsilon^i/\\varepsilon^h = 2$')\n",
    "plt.plot(f_vec,A4, 'y' ,label=r'$\\varepsilon^i/\\varepsilon^h = 4$')\n",
    "plt.legend()\n",
    "plt.show()"
   ]
  },
  {
   "cell_type": "code",
   "execution_count": null,
   "metadata": {
    "id": "1PsQJ-6-VP4o"
   },
   "outputs": [],
   "source": [
    "h_0=0.25\n",
    "h_1=1/3\n",
    "h_2=0.4\n",
    "h_3=0.5\n",
    "h_4=4\n",
    "h_5=1\n",
    "A_h= 1\n",
    "B_h= 1\n",
    "# If we add A+(B/2), we will get a factor of A_h+(B_h/2) which can be taken out. So, we can take arbitrary values of A_h and B_h\n",
    "#A+1/2*B=Y\n",
    "Y0=[]\n",
    "Y1=[]\n",
    "Y2=[]\n",
    "Y3=[]\n",
    "Y4=[]\n",
    "Y5=[]\n",
    "def A(h,f):\n",
    "    b=(1-h)/(1+2*h)\n",
    "    eps=(2*b*f+1)*h/(1-b*f)\n",
    "    A= np.abs((eps+2*h)/(3*h))**2*((eps+2*h)/(3*h))**2*((1-f)*A_h+f*((7/5)*b**2*np.abs(b)**2+(3/10)*b*np.abs(b)**2+(1/10)*b**3+(12/5)*np.abs(b)**2+(12/5)*b**2)*A_h+f*((2/5)*b**2*np.abs(b)**2+(9/5)*b*np.abs(b)**2+(3/5)*b**3+(12/5)*np.abs(b)**2+(12/5)*b**2)*(1/2)*B_h)\n",
    "    return A\n",
    "def B(h,f):\n",
    "    b=(1-h)/(1+2*h)\n",
    "    eps=(2*b*f+1)*h/(1-b*f)\n",
    "    B= np.abs((eps+2*h)/(3*h))**2*((eps+2*h)/(3*h))**2*((1-f)*B_h+f*((6/5)*b**2*np.abs(b)**2-(3/5)*b*np.abs(b)**2-(1/5)*b**3+(6/5)*np.abs(b)**2+(6/5)*b**2)*B_h+f*((1/5)*b**2*np.abs(b)**2+(9/10)*b*np.abs(b)**2+(3/10)*b**3+(6/5)*np.abs(b)**2+(6/5)*b**2)*(1/2)*2*A_h)\n",
    "    return B\n",
    "def Y(h,f):\n",
    "    b=(1-h)/(1+2*h)\n",
    "    eps=(2*b*f+1)*h/(1-b*f)\n",
    "    Y=(A(h,f)+(1/2)*B(h,f))/(A_h+(1/2)*B_h)\n",
    "    return Y\n",
    "f_graph=np.linspace(0.0, 1.0, 100)\n",
    "for f in f_graph:\n",
    "    Y0.append(Y(h_0,f))\n",
    "    Y1.append(Y(h_1,f))\n",
    "    Y2.append(Y(h_2,f))\n",
    "    Y3.append(Y(h_3,f))\n",
    "    Y4.append(Y(h_4,f))\n",
    "    Y5.append(Y(h_5,f))"
   ]
  },
  {
   "cell_type": "code",
   "execution_count": null,
   "metadata": {
    "colab": {
     "base_uri": "https://localhost:8080/",
     "height": 386
    },
    "id": "Xr6DM0_7VUpy",
    "outputId": "33eb63dd-b33a-4634-c726-cf2d045000dc"
   },
   "outputs": [
    {
     "data": {
      "image/png": "[encoded data removed]",
      "text/plain": [
       "<Figure size 576x360 with 1 Axes>"
      ]
     },
     "metadata": {
      "needs_background": "light",
      "tags": []
     },
     "output_type": "display_data"
    }
   ],
   "source": [
    "plt.figure(figsize=(8,5))\n",
    "plt.title('Figure 2: Enhancement in A + 1/2 B vs the fill fraction f of inclusion material for several values of the ratio $e^i/e^h$ of linear susceptibilities, \\n for the case in which the host material responds nonlinearly and the inclusion material responds linearly. \\n', fontdict=None,  loc= 'center')\n",
    "plt.ylabel(r'enhancement in $A+ \\frac{1}{2}B$')\n",
    "plt.xlabel('fill fraction f')\n",
    "plt.ylim(0.0, 12.0)\n",
    "plt.plot(f_graph,Y0, 'b' ,label=r'$\\varepsilon^i/\\varepsilon^h = 4$')\n",
    "plt.plot(f_graph,Y1, 'y' ,label=r'$\\varepsilon^i/\\varepsilon^h = 3$')\n",
    "plt.plot(f_graph,Y2, 'g' ,label=r'$\\varepsilon^i/\\varepsilon^h = 2.5$')\n",
    "plt.plot(f_graph,Y3, 'c' ,label=r'$\\varepsilon^i/\\varepsilon^h = 2$')\n",
    "plt.plot(f_graph,Y5, 'r' ,label=r'$\\varepsilon^i/\\varepsilon^h = 1$')\n",
    "plt.plot(f_graph,Y4, 'k' ,label=r'$\\varepsilon^i/\\varepsilon^h = 0.25$')\n",
    "plt.legend()\n",
    "plt.show()"
   ]
  },
  {
   "cell_type": "code",
   "execution_count": null,
   "metadata": {
    "id": "TDuyfMdDVZ1A"
   },
   "outputs": [],
   "source": [
    "#A/Ai + Y = X\n",
    "X0=[]\n",
    "X1=[]\n",
    "X2=[]\n",
    "X3=[]\n",
    "X4=[]\n",
    "def X(h,f):\n",
    "    b=(1-h)/(1+2*h)\n",
    "    eps=(2*b*f+1)*h/(1-b*f)\n",
    "    X= A_Ai(h,f)+ Y(h,f)\n",
    "    return X\n",
    "f_vec= np.linspace(0.0, 1.0, 100)\n",
    "for f in f_vec:\n",
    "    X0.append(X(h0,f))\n",
    "    X1.append(X(h1,f))\n",
    "    X2.append(X(h2,f))\n",
    "    X3.append(X(h3,f))\n",
    "    X4.append(X(h4,f))"
   ]
  },
  {
   "cell_type": "code",
   "execution_count": null,
   "metadata": {
    "colab": {
     "base_uri": "https://localhost:8080/",
     "height": 365
    },
    "id": "aj5ypM4xVd_5",
    "outputId": "d476e08a-b349-428b-9171-e2216f54e181"
   },
   "outputs": [
    {
     "data": {
      "image/png": "[encoded data removed]",
      "text/plain": [
       "<Figure size 576x360 with 1 Axes>"
      ]
     },
     "metadata": {
      "needs_background": "light",
      "tags": []
     },
     "output_type": "display_data"
    }
   ],
   "source": [
    "plt.figure(figsize=(8,5))\n",
    "plt.title('Figure 3\\n', fontdict=None,  loc= 'center')\n",
    "plt.ylabel('net enhancement (normalised)')\n",
    "plt.xlabel('fill fraction f')\n",
    "plt.ylim(0.0, 6.0)\n",
    "plt.plot(f_vec,X0, 'b' ,label=r'$\\varepsilon^i/\\varepsilon^h = 0.25$')\n",
    "plt.plot(f_vec,X1, 'k' ,label=r'$\\varepsilon^i/\\varepsilon^h = 0.5$')\n",
    "plt.plot(f_vec,X2, 'g' ,label=r'$\\varepsilon^i/\\varepsilon^h = 1$')\n",
    "plt.plot(f_vec,X3, 'r' ,label=r'$\\varepsilon^i/\\varepsilon^h = 2$')\n",
    "plt.plot(f_vec,X4, 'y' ,label=r'$\\varepsilon^i/\\varepsilon^h = 4$')\n",
    "plt.legend()\n",
    "plt.show()"
   ]
  },
  {
   "cell_type": "markdown",
   "metadata": {
    "id": "c1g-bfnmOprp"
   },
   "source": [
    "# 3. Cancellation of photoinduced absorption in metal nanoparticle composites"
   ]
  },
  {
   "cell_type": "markdown",
   "metadata": {
    "id": "9qjTCTuzDYDu"
   },
   "source": [
    "This part of the project is based on the experimental paper published in the Journal of the Optical Society of America B (https://doi.org/10.1364/JOSAB.14.001625)"
   ]
  },
  {
   "cell_type": "markdown",
   "metadata": {
    "id": "ghGSD62oljgW"
   },
   "source": [
    "### Introduction"
   ]
  },
  {
   "cell_type": "markdown",
   "metadata": {
    "id": "YUMWmZObUeDw"
   },
   "source": [
    "The paper aims to find a way to avoid induced absorption which occurs in materials with large cubic nonlinearities due to resonant enhancement of a single-photon or a multi-photon nature (for eg, due to Two photon absorption or Reverse saturable absorption). The proposed approach is based on the observation that the nonlinear absorption in a material can be cancelled by the addition\n",
    "of small metal particles.\n",
    "\n",
    "It was found for gold nanoparticles in glass, the colloid as a whole demonstrates saturable absorption (i.e. $Im(\\chi^{(3)}) < 0$), whereas each component itself (pure gold and pure glass) demonstrates induced absorption (i.e. $Im(\\chi^{(3)}) > 0$). The implication is that there is a concentration somewhere between pure gold and the colloidal gold glass at which the imaginary part of the cubic susceptibility goes to zero. In fact, since the sign of $Im(\\chi^{(3)})$ for each component is the same, there will actually be two concentrations at which $Im(\\chi^{(3)}) = 0$. In this paper, we focus on the smaller concentration crossing point.\n",
    "\n",
    "<br>\n",
    "\n",
    "Using the Maxwell Garnett model, which assumes small concentrations of spherical inclusions embedded in a continuous host medium, we say that this system is optically equivalent to a medium with effective dielectric constant $\\epsilon$ given by:\n",
    "\n",
    "$$\n",
    "\\epsilon=\\epsilon_{h} \\frac{1+2 \\eta f}{1-\\eta f}\n",
    "\\tag{68}\n",
    "$$\n",
    "\n",
    "where:\n",
    "\n",
    "$$\n",
    "\\eta \\equiv \\frac{\\epsilon_{i}-\\epsilon_{h}}{\\epsilon_{i}+2 \\epsilon_{h}}\n",
    "\\tag{69}\n",
    "$$\n",
    "\n",
    "The subscripts $i$ and $h$ denote inclusion and host values respectively, and $f$ represents the (metal) volume concentration or fill fraction."
   ]
  },
  {
   "cell_type": "markdown",
   "metadata": {
    "id": "84TYwxH0ZFUY"
   },
   "source": [
    "<br>\n",
    "\n",
    "For linearly polarized light, if both the host and inclusions are assumed to be nonlinear, the third-order susceptibility of a composite material is related to that of its constituents by the relation:\n",
    "\n",
    "$$\n",
    "\\chi^{(3)}=f q_{i}^{2}\\left|q_{i}\\right|^{2} \\chi_{i}^{(3)}+q_{h}^{2}\\left|q_{h}\\right|^{2}[(1-f)+x f] \\chi_{h}^{(3)}\n",
    "\\tag{70}\n",
    "$$\n",
    "\n",
    "where:\n",
    "\n",
    "$$\n",
    "x \\equiv \\frac{8}{5} \\eta^{2}|\\eta|^{2}+\\frac{6}{5} \\eta|\\eta|^{2}+\\frac{2}{5} \\eta^{3}+\\frac{18}{5}\\left(|\\eta|^{2}+\\eta^{2}\\right)\n",
    "\\tag{71}\n",
    "$$\n",
    "\n",
    "The quantities $q_i$ and $q_h$ refer to the local field factors in the inclusions and the host respectively, given by:\n",
    "\n",
    "$$\n",
    "q_{i} =\\frac{\\epsilon+2 \\epsilon_{h}}{\\epsilon_{i}+2 \\epsilon_{h}}\n",
    "\\tag{72}\n",
    "$$\n",
    "\n",
    "$$\n",
    "q_{h} =\\frac{\\epsilon+2 \\epsilon_{h}}{3 \\epsilon_{h}}\n",
    "\\tag{73}\n",
    "$$"
   ]
  },
  {
   "cell_type": "markdown",
   "metadata": {
    "id": "7NiYE-wGchJZ"
   },
   "source": [
    "<br>\n",
    "\n",
    "For small fill fractions (i.e. $f \\approx 0$), we have $\\epsilon \\approx \\epsilon_h$ and $q_h \\approx 1$, so that, from equation (70), we can say:\n",
    "\n",
    "$$\n",
    "\\chi^{(3)}=f q_{i}^{2}\\left|q_{i}\\right|^{2} \\chi_{i}^{(3)}+\\chi_{h}^{(3)}\n",
    "\\tag{74}\n",
    "$$\n",
    "\n",
    "Equation (74) is linear in $f$, with a slope determined by \n",
    "$q_{i}^{2}\\left|q_{i}\\right|^{2} \\chi_{i}^{(3)}$ \n",
    "and an intercept determined by \n",
    "$\\chi_{h}^{(3)}$.\n",
    "\n",
    "<br>\n",
    "\n",
    "At the surface plasmon resonance, we have the condition that:\n",
    "\n",
    "$$\n",
    "\\epsilon_{i}^{\\prime}\\left(\\omega_{s}\\right)=-2 \\epsilon_{h}^{\\prime}\n",
    "\\tag{75}\n",
    "$$\n",
    "\n",
    "where $\\omega_{s}$ is the surface plasmon resonance frequency,\n",
    "(Note that primed quantities are real, and double-primed quantities\n",
    "are imaginary). Using equation (75) in equation (72), the local field factor then becomes \n",
    "$ q_{i} \\approx \\frac{3\\epsilon_{h}^{\\prime}}{\\iota \\epsilon_{i}^{\\prime\\prime}} $ \n",
    "for hosts without significant linear absorption \n",
    "(i.e. $ \\epsilon_{h}^{\\prime \\prime} \\approx 0 $).\n",
    "Hence, at the surface plasmon resonance, the local field\n",
    "factor becomes mainly imaginary (thus $q_i^2 < 0$) so that if $\\chi_{h}^{(3)}$ and $\\chi_{i}^{(3)}$ have the same sign there will be a sign reversal in $\\chi^{(3)}$ at some fill fraction.\n",
    "\n",
    "<br>\n",
    "\n",
    "Note that the local field factor $q_i$ represents the ratio of the field\n",
    "inside an inclusion **e** to the externally applied field **E**. Thus, at the surface plasmon resonance, an imaginary and negative value for the local field factor (for host materials without significant linear loss) denotes that **e** is out of phase with **E**, lagging behind by $\\frac{-\\pi}{2}$."
   ]
  },
  {
   "cell_type": "markdown",
   "metadata": {
    "id": "1Yn1EFwmGEr-"
   },
   "source": [
    "The general expression for the phase shift $\\phi$ between **e**\n",
    "and **E** for small fill fractions, as obtained from equation (72) is:\n",
    "\n",
    "$$\n",
    "\\tan \\phi=\\frac{\\epsilon_{i}^{\\prime} \\epsilon_{h}^{\\prime \\prime}-\\epsilon_{i}^{\\prime \\prime} \\epsilon_{h}^{\\prime}}{\\epsilon_{i}^{\\prime} \\epsilon_{h}^{\\prime}+\\epsilon_{i}^{\\prime \\prime} \\epsilon_{h}^{\\prime \\prime}+2\\left(\\epsilon_{h}^{\\prime 2}+\\epsilon_{h}^{\\prime \\prime 2}\\right)} \\tag{76}\n",
    "$$\n",
    "\n",
    "At the surface plasmon frequency $\\omega_s$ , the relation simplifies to:\n",
    "\n",
    "$$\n",
    "\\tan \\phi=-\\left(\\epsilon_{h}^{\\prime} / \\epsilon_{h}^{\\prime \\prime}\\right) \\tag{77}\n",
    "$$\n",
    "\n",
    "Hence if the host is lossless (so that $\\epsilon_{h}^{\\prime \\prime} =  0$) then $\\phi = \\frac{-\\pi}{2}$. As the linear absorption of the host increases, the phase shift decreases towards $\\phi = -\\pi$.\n",
    "\n",
    "<br>\n",
    "\n",
    "For a lossless host at an arbitrary applied frequency the relation becomes:\n",
    "\n",
    "$$\n",
    "\\tan \\phi=-\\frac{\\epsilon_{i}^{\\prime \\prime}}{\\epsilon_{i}^{\\prime}+2 \\epsilon_{h}^{\\prime}} \\tag{78}\n",
    "$$\n",
    "\n",
    "At $\\omega_s$ we again obtain $\\phi = \\frac{-\\pi}{2}$. For applied frequencies $\\omega < \\omega_s$ the phase shift increases toward $\\phi = 0$, whereas for frequencies $\\omega >> \\omega_s$ the phase shift approaches $\\phi = -\\pi$. Thus moving away from the surface\n",
    "resonance has an influence on the sign reversal in $\\chi^{(3)}$\n",
    "similar to that of absorption in the host medium."
   ]
  },
  {
   "cell_type": "markdown",
   "metadata": {
    "id": "UMdm8hBtlfCs"
   },
   "source": [
    "### Experimental Procedure"
   ]
  },
  {
   "cell_type": "markdown",
   "metadata": {
    "id": "o4VF29-7ZbWU"
   },
   "source": [
    "We now describe an experimental procedure, known as a **Z Scan**, that allows us to measure the complex third-order susceptibilities of a material sample. The technique involves the measurement of the transmittance through an aperture placed in the far field as the sample is translated through the focus of a Gaussian beam, as shown below.\n",
    "\n",
    "<br>\n",
    "\n",
    "<img src='https://drive.google.com/uc?id=1lyXNPXEn1cutSrD9X1lUWFxahy30w6ek' width='500' height='300' class='center'>\n",
    "\n",
    "<br>\n",
    "\n",
    "At the focus the irradiance is greatest and thus will produce the greatest effect. If $Im(\\chi^{(3)}) > 0$, then\n",
    "the Z scan will result in a valley, indicative of induced absorption\n",
    "(due to multiphoton absorption or reverse saturable\n",
    "absorption, for instance). If $Im(\\chi^{(3)}) < 0$, then the Z\n",
    "scan will produce a peak, indicating induced transparency\n",
    "(due to saturable absorption, for example).\n",
    "\n"
   ]
  },
  {
   "cell_type": "markdown",
   "metadata": {
    "id": "hMadIY9nFdbo"
   },
   "source": [
    "### Transmittance"
   ]
  },
  {
   "cell_type": "markdown",
   "metadata": {
    "id": "aOJYcLmaFkh4"
   },
   "source": [
    "The normalized transmittance can be expressed as:\n",
    "\n",
    "$$\n",
    "T(z)=\\sum_{m=0}^{\\infty} \\frac{1}{(m+1)^{\\frac{3}{2}}}\\left(\\frac{-\\beta I_{0} L_{\\mathrm{eff}}}{1+z^{2} / z_{0}^{2}}\\right)^{m}\n",
    "\\tag{79}\n",
    "$$\n",
    "\n",
    "where $\\beta$ is the nonlinear absorption coefficient, $I_0$ is the\n",
    "on-axis peak intensity at the focus, $L_{\\mathrm{eff}}$ is the effective interaction length, and $z_0$ is the Rayleigh diffraction length.\n",
    "\n",
    "Typically, if the series converges, only the first few terms\n",
    "are needed for numerical evaluation. Hence the coefficient $\\beta$ can be determined from a fit of this expression to\n",
    "the empirical data."
   ]
  },
  {
   "cell_type": "markdown",
   "metadata": {
    "id": "iII3DhcROwKy"
   },
   "source": [
    "# 4. Results"
   ]
  },
  {
   "cell_type": "markdown",
   "metadata": {
    "id": "qphndPaBjMyo"
   },
   "source": [
    "We present the result in two sections. \n",
    "\n",
    "The first part consists of the results of open-aperture Z scans of gold in water, with the goal to deduce a value for the nonlinear absorption of pure gold (i.e. $Im(\\chi_i^{(3)})$). \n",
    "\n",
    "In the second section, Z scans of gold colloid in a laser dye solution are presented, with the intention to prove that\n",
    "the nonlinear absorption changes sign for a certain concentration,\n",
    "as predicted by the model."
   ]
  },
  {
   "cell_type": "markdown",
   "metadata": {
    "id": "nOrv20Bik4Eo"
   },
   "source": [
    "### Open-Aperture Z Scans of Gold Colloid in Water\n",
    "We describe the open-aperture Z scans of various concentrations of gold in water here. \\\\\n",
    "\n",
    "In this experiment, the focal length of the lens used is 33cm with the FWHM beam diameter being 2.5 mm. The beam waist is $w_0 = 70 \\mu m$ and the frequency of the lazer is 532 nm. \n",
    "Using the relation:\n",
    "$$z_0 = \\frac{\\pi w_0^2}{\\lambda}$$\n",
    "We get, $z_0 = 2.9 cm$.\n",
    "\n",
    "The incident peak power is $P_i = 0.51 MW$, corresponding to $I_0 = 5.9 GW/cm^2$ as $I_0 = 2 P_i / A$ where A is the area of the laser beam.\n",
    "\n",
    "\n",
    "Experimentally, it is obtained that the absorbance is 0.91 for the gold stock solution at 532 nm which corresponds to an absorption coefficient of $\\alpha_0 = 2.1 cm^{-1}$ and an effective interaction length of $L_{eff} = 0.42 cm$ \n",
    "\n",
    "( $\\alpha_0=\\frac{A_{abs}}{d} ln(10)$ where $A_{abs}$ is the absorbance and d is the length of the cuvette = 1cm;\n",
    "  \n",
    "  $L_{eff} = \\frac{1-exp(-\\alpha_0 L)}{\\alpha_0}$ where L= length of sample = 1 cm).\n"
   ]
  },
  {
   "cell_type": "markdown",
   "metadata": {
    "id": "Is2nLbW6xZLU"
   },
   "source": [
    "Using the experimental data described in the paper, we plot normalised transmittence versus z.\n",
    "\n",
    "The experimental plot is:\n",
    "\n",
    "<img src='https://drive.google.com/uc?id=1sklL2E2Xzhkgw02LYEX5QDDfJzJ9afPm' width='600' height='400' class='center'>\n",
    "\n",
    "The experimental data obtained from this plot is:\n",
    "\n",
    "<img src='https://drive.google.com/uc?id=1rjQxx9_5JLXkINqwOCZ01wjs7aJ5zQcb' width='500' height='300' class='center'>\n",
    "\n",
    "Inputting the values into equation (3.9), we get the theoretical graph as:"
   ]
  },
  {
   "cell_type": "code",
   "execution_count": null,
   "metadata": {
    "id": "p1b5y6EzUOzA"
   },
   "outputs": [],
   "source": [
    "I0= 5.9E9\n",
    "Leff=0.42\n",
    "beta0=-4.5E-10\n",
    "beta1=-2.0E-10\n",
    "beta2=-9.0E-11\n",
    "beta3=-2.6E-11\n",
    "z0= 2.9\n",
    "T0=[]\n",
    "T1=[]\n",
    "T2=[]\n",
    "T3=[]\n",
    "def Tz(z,beta):\n",
    "    Tz = 0\n",
    "    for m in range(10):\n",
    "        Tz=Tz+((-beta*I0*Leff)/(1+z**2/z0**2))**m/(m+1)**(3/2)\n",
    "    return Tz\n",
    "z_vec = np.linspace(-20, 20, 1000)\n",
    "\n",
    "for z in z_vec:\n",
    "    T0.append(Tz(z,beta0))\n",
    "    T1.append(Tz(z,beta1))\n",
    "    T2.append(Tz(z,beta2))\n",
    "    T3.append(Tz(z,beta3))"
   ]
  },
  {
   "cell_type": "code",
   "execution_count": null,
   "metadata": {
    "colab": {
     "base_uri": "https://localhost:8080/",
     "height": 369
    },
    "id": "ubklfcrdUdHK",
    "outputId": "4f8195b8-aabc-4257-b83e-5cf9a59e65e1"
   },
   "outputs": [
    {
     "data": {
      "image/png": "[encoded data removed]",
      "text/plain": [
       "<Figure size 576x360 with 1 Axes>"
      ]
     },
     "metadata": {
      "needs_background": "light",
      "tags": []
     },
     "output_type": "display_data"
    }
   ],
   "source": [
    "plt.figure(figsize=(8,5))\n",
    "plt.title('Figure 4: Open-aperture Z scans at 532 nm and $P_i = 0.46 MW$ for a gold colloid stock solution and for solutions fractionally diluted by 1/2, 1/4, and 1/16 from the stock.\\n', fontdict=None,  loc= 'center')\n",
    "plt.ylabel('Normalized Transmittance')\n",
    "plt.xlabel('Z(cm)')\n",
    "plt.plot(z_vec,T0, label='conc.= 1')\n",
    "plt.plot(z_vec,T1, label='conc.= 1/2')\n",
    "plt.plot(z_vec,T2, label='conc.= 1/4')\n",
    "plt.plot(z_vec,T3, label='conc.= 1/16')\n",
    "plt.legend()\n",
    "plt.show()"
   ]
  },
  {
   "cell_type": "markdown",
   "metadata": {
    "id": "14bjLCaMCT3j"
   },
   "source": [
    "For plotting the graph, we have taken the first 10 iterations of equation (79) and plotted the curves for 4 different concentrations of gold in water. \n",
    "\n",
    "As the focus is approached, the transmittance increases in each case, demonstrating that the colloid is a saturable absorber. \n",
    "\n",
    "The curve corresponding to concentration = 1 is not accurate as $\\mid \\beta I_0 L_{eff}\\mid > 1 $ which implies that the series diverges. When the concentration is decreased to 0.5 though, the series again converges and the value of $\\beta$ is valid. "
   ]
  },
  {
   "cell_type": "markdown",
   "metadata": {
    "id": "o_COIN9gE2yZ"
   },
   "source": [
    "The weak non-linearity of water at 532 nm makes it difficult to determine whether the non-linear absorption switches sign. Due to the negligible linear absorption of water at 266 nm, the two-photon transition probability won't be resonantly enhanced. \n",
    "\n",
    "To determine the value of Im $\\chi_i^{(3)}$, we plot the relation between the change in Im $\\chi^{(3)}$ and fill fraction. \n",
    "\n",
    "To obtain the volume fill fraction, we can use the equation:\n",
    "\n",
    "$$ \\alpha_0 = \\frac{\\omega}{n_0c}\\epsilon'' = \\frac{\\omega}{n_0c} f \\mid q_i^2\\mid\\epsilon_i'' \\tag{80}$$\n",
    "\n",
    "Here, e = 2.4, local field factor $q_i = -2.21i$ and the refractive index of water is $n_0 = 1.33$\n",
    "\n",
    "Plotting Im $\\chi^{(3)}$ vs fill fraction, we get: "
   ]
  },
  {
   "cell_type": "code",
   "execution_count": null,
   "metadata": {
    "colab": {
     "base_uri": "https://localhost:8080/",
     "height": 394
    },
    "id": "n1T9slzvUjTj",
    "outputId": "2142e07b-1626-4b9f-f2b1-d1c900a45724"
   },
   "outputs": [
    {
     "data": {
      "image/png": "[encoded data removed]",
      "text/plain": [
       "<Figure size 576x360 with 1 Axes>"
      ]
     },
     "metadata": {
      "needs_background": "light",
      "tags": []
     },
     "output_type": "display_data"
    },
    {
     "name": "stdout",
     "output_type": "stream",
     "text": [
      "slope= -2.8521017944857223e-06\n"
     ]
    }
   ],
   "source": [
    "plt.figure(figsize=(8,5))\n",
    "plt.title('Figure 5: Nonlinear absorption of the gold colloid. The solid curve is a fit from the Maxwell Garnett theory, where Im $\\chi_i^{(3)}$ is a fitting parameter. \\n', fontdict=None,  loc= 'center')\n",
    "plt.ylabel(r'Im $\\chi^{(3)}$  (x$10^{-12}$ esu)')\n",
    "plt.xlabel('fill fraction f (x$10^{-6}$)')\n",
    "fill_fraction = np.array([2.2E-6, 1.1E-6, 5.5E-7, 2.75E-7, 1.375E-7, 6.875E-8, 3.4375E-8])\n",
    "Ki3 = np.array([-6.4E-12, -2.9E-12, -1.3E-12, -9.4E-13, -3.8E-13, -2.1E-13, -1.8E-13])\n",
    "m, b = np.polyfit(fill_fraction, Ki3, 1)\n",
    "plt.ylim(-8E-12, 1E-12)\n",
    "plt.plot(fill_fraction, Ki3, 'o')\n",
    "plt.plot(fill_fraction, m*fill_fraction + b)\n",
    "plt.show()\n",
    "print(\"slope=\",m)"
   ]
  },
  {
   "cell_type": "markdown",
   "metadata": {
    "id": "9PLoVnAxHNdT"
   },
   "source": [
    "from Figure 5 and Table 1, the relationship between $\\beta$ and Im $\\chi^{(3)}$ is:\n",
    "\n",
    "\n",
    "$$Im \\chi^{(3)} = \\frac{\\lambda c n_0^2\\beta}{640 \\pi^3}$$\n",
    "\n",
    "Using equation (74), we have slope of the relation between Im $\\chi^{(3)}$ and fill fraction f as Im($q_{i}^{2}\\left|q_{i}\\right|^{2} \\chi_{i}^{(3)}$) which, from the above graph is equal to -2.852102E-6. Taking $q_i$ as -2.21i, we get Im$\\chi_{i}^{(3)}$ as (1.1 $\\pm$ 0.1)x $10^{-7}$ esu. "
   ]
  },
  {
   "cell_type": "markdown",
   "metadata": {
    "id": "VFJjCXrxlEH6"
   },
   "source": [
    "### Open-Aperture Z Scans of Gold Colloid in HITCl\n",
    "\n",
    "To show the the surface plasmon modification of the local field factor more conclusively, we need to use a more complex system. We describe the open-aperture Z scans of various concentrations of gold in a system consisting of 1, 1', 3, 3, 3', 3'- hexamethylindotricarbocyanine iodine (HITCI), in methanol and water.\n",
    "\n",
    "This system was taken because it has strong positive nonlinear absorption and low nonlinear refraction and is water soluble and semicompatible with the colloid. The nonlinear mechanism of this system is reverse saturable absorption.\n",
    "\n",
    "The proportions of dye, methanol, and water are held fixed. The proportions of various components are given below:\n",
    "\n",
    "<img src='https://drive.google.com/uc?id=1pTB08oo1FzE3Et7KSzpqzjxQinXIWdDn' width='500' height='300' class='center'>\n",
    "\n",
    "The Z-scan for various concentrations of gold are:\n",
    "\n",
    "<img src='https://drive.google.com/uc?id=16zbNOD6RNJwGU0x7hH33DwLoEPN9gRHe' width='600' height='400' class='center'>\n",
    "\n",
    "####**Observations**:\n",
    "\n",
    "It is observed that the peak power for each Z-scan is $P_i= 0.16 MW$ and the on-axis peak irradiance at focus is $I_0 = 2.1 GW/cm^2$ . Also, the non-linear absorption changes sign near curve 6.\n",
    "\n",
    "Curves 1–5 display a valley, which is indicative of reverse saturable absorption. At the focus, however, a small secondary peak is observed. This peak corresponds to a saturation of the nonlinear absorption."
   ]
  },
  {
   "cell_type": "markdown",
   "metadata": {
    "id": "nMLH4SmilQ-z"
   },
   "source": [
    "### Summary and Conclusions"
   ]
  },
  {
   "cell_type": "markdown",
   "metadata": {
    "id": "9FGCxgHIIZpz"
   },
   "source": [
    "\n",
    "The Maxwell Garnett model when extended to the nonlinear regime, points out the true power of composite materials. Remarkably different qualitative and quantitative properties emerge as the behaviour of the composite material, heuristically uncorrelated to the to constituent properties. This emergent behaviour is much richer with the varying fill fraction in cases where the characteristic coefficients $\\epsilon, A_i, B^h$ etc are complex, as a direct application of which we have analysed the Gold Colloid and successfully demonstrated a method for eliminating\n",
    "unwanted nonlinear absorption, such as two-photon\n",
    "absorption and reverse saturable absorption, through a materials architecture approach. This is done by including metal nanoparticles in the host material and modelling it as a new effective optical material. As a result of the modification of the local field factor at the surface plasmon resonance, the sign of $\\chi^{(3)}$ changes.\n",
    "\n",
    "<br>\n",
    "\n",
    "The converse is also true. The inferencing power of the Maxwell Garnett scheme is demonstrated by this experiment, and the formulas derived by a rather difficult scheme are analytically simple to  pave the way for exotic optical properties of colloidal composites."
   ]
  },
  {
   "cell_type": "markdown",
   "metadata": {
    "id": "T28g029D8Jg9"
   },
   "source": [
    "## **Author Contributions**\n",
    "\n",
    "Gattu Mytraya: Setting up the Maxwell Garnett scheme. Introduction to the mesoscopic and macroscopic scales. Motivation to the meso-macro constitutive relation. Utilizing the Maxwell Garnett scheme and the meso-macro relation for effective properties in the linear Regime. Framing the 'Endsem' problem and solution.\n",
    "\n",
    "Shashank Deshpande: Utilizing the Maxwell Garnett scheme and the meso-macro relation for effective properties in the linear Regime. Extending the framework to solve for effective nonlinear coefficients for nonlinear inclusions and heuristics for the general case of nonlinearities in both constituents. Discussion of resulting plots for real material coefficents. Framing the 'Endsem' problem and solution.\n",
    "\n",
    "Shreyas Chandgothia:  Presenting the application of the extended nonlinear Maxwell Garnett theory in an experimental setting with the aim to eliminate unwanted absorption in materials, by proposing the creation of metal nanoparticle composites. Discussing the importance of the local field factors, for the underlying theory.\n",
    "\n",
    "Saanika Chaudhary: Presenting the structure and working of the experimental apparatus to obtain the transmittance plots. Discussing the obtained results for the gold-nanoparticles-in-water and gold-nanoparticles-in-HITCI systems. Helping with the graph-plotting for the nonlinear Maxwell Garnett Equations.\n"
   ]
  },
  {
   "cell_type": "markdown",
   "metadata": {
    "id": "OC3qH0JI-qAB"
   },
   "source": [
    "\n",
    "\n",
    "```\n",
    "# This is formatted as code\n",
    "```\n",
    "\n",
    "#Endsem Problem\n",
    "=======\n",
    "Based on,\n",
    "Markel, V. (2016). Introduction to the Maxwell Garnett approximation : tutorial Vadim Markel To cite this version : HAL Id : hal-01282105 A tutorial on Maxwell Garnett approximation . I . Introduction.\n",
    "The electric field to a dipole is given by: \\begin{equation}\\tag{81}\n",
    "    \\mathbf{E}_{d}(\\mathbf{r})=\\frac{3\\mathbf{r}(\\mathbf{r}\\cdot\\mathbf{d})-\\mathbf{d}}{r^{3}}-\\frac{4\\pi}{3}\\delta(\\mathbf{r})\\mathbf{d}\n",
    "\\end{equation}\n",
    "The latter term accounts for the non-zero flux through any finite sphere\n",
    "in which the dipole is present. Also, the static polarizability of an\n",
    "atom of size $a$ is equal to, \\begin{equation}\\tag{82}\n",
    "    \\alpha = a\\frac{\\epsilon^{i}-1}{\\epsilon^{i}+2}\n",
    "\\end{equation}\n",
    " Consider many\n",
    "dipoles distributed uniformly throughout all space.\n",
    "\n",
    "1.  In a large spherical volume containing many dipoles distributed both\n",
    "    randomly and uniformly, calculate the net average electric field at\n",
    "    a point,assuming that an external field $E$ would have existed in\n",
    "    space in absence of the dipoles.\n",
    "\n",
    "2.  Using\n",
    "    <a href=\"#2\" data-reference-type=\"eqref\" data-reference=\"2\">[2]</a>,\n",
    "    calculate the effective medium constant in terms of the fill\n",
    "    fraction and any other relevant parameters, and extend it to where\n",
    "    the space is filled by a host medium of permittivity $\\epsilon^{h}$\n",
    "\n",
    "Solution\n",
    "========\n",
    "\n",
    "1.  The polarization of a single dipole can be written in terms of $E$\n",
    "    as:    \\begin{equation}\\tag{83}\n",
    "        d=\\alpha E\n",
    "    \\end{equation} Therefore, the average at a point $r$ can be\n",
    "    calculated as:   \\begin{equation}\\tag{84}\n",
    "        E+\\langle \\sum_{n}E_{n}(r)\\rangle\n",
    "    \\end{equation} Here the sum is to be\n",
    "    performed over all the dipoles present. Since, there are a large\n",
    "    number of dipoles distributed uniformly, the average due to first\n",
    "    term in\n",
    "    <a href=\"#1\" data-reference-type=\"eqref\" data-reference=\"81\">[81]</a>\n",
    "    is $0$. That is: \\begin{aligned}\n",
    "            \\langle \\sum_{n}E_{n}(r)\\rangle & = \\frac{\\int_{V}\\sum_{n}E_{n}(r-r^{\\prime})d\\mathbf{r^{\\prime}}}{\\int_{V}d\\mathbf{r^{\\prime}}}\\\\\n",
    "            & = \\frac{-N\\frac{4\\pi}{3}\\mathbf{d}}{V}\n",
    "        \\end{aligned}\\begin{equation}\\tag{85}\n",
    "            E_{\\text{net}}=\\mathbf{E}\\left(1-\\frac{4N\\pi \\alpha}{3V}\\right)\\end{equation}\n",
    "\n",
    "2.  $E_{\\text{net}}$ can also be expressed in terms of the effective\n",
    "    medium constant as: $$\\begin{equation}\\tag{86}\n",
    "            N\\alpha E = V \\mathbf{P}=V\\frac{\\epsilon-1}{4\\pi}E_{\\text{net}}\\end{equation}$$\n",
    "    Using\n",
    "    <a href=\"#5\" data-reference-type=\"eqref\" data-reference=\"85\">[85]</a>,<a href=\"#2\" data-reference-type=\"eqref\" data-reference=\"82\">[82]</a>\n",
    "    in\n",
    "    <a href=\"#6\" data-reference-type=\"eqref\" data-reference=\"86\">[86]</a>,\n",
    "    $$\\begin{aligned}\n",
    "        V\\frac{\\epsilon-1}{4\\pi}\\left(1-\\frac{4N\\pi \\alpha}{3V}\\right)\\mathbf{E} & = N\\alpha E \\\\\n",
    "        (\\epsilon-1)\\left(1-f\\frac{\\epsilon^{i}-1}{\\epsilon^{i}+2}\\right)&=3f\\frac{\\epsilon^{i}-1}{\\epsilon^{i}+2}\n",
    "        %     (\\epsilon-1)\\left(1-\\frac{4N\\pi \\alpha}{3V}\\right) & = \\frac{4N\\pi \\alpha}{V}\\\\\n",
    "        %     \\text{Let }&$f$\\text{ be the fill fraction}\\\\\n",
    "        %     (\\epsilon-1)\\left(1-f\\frac{\\epsilon^{i}-1}{\\epsilon^{i}+2}\\right)&=3f\\frac{\\epsilon^{i}-1}{\\epsilon^{i}+2}\n",
    "        \\end{aligned}$$ Therefore,\\begin{equation}\\tag{87}\n",
    "            \\epsilon=\\frac{1+2f\\frac{\\epsilon^{i}-1}{\\epsilon^{i}+2}}{1-f\\frac{\\epsilon^{i}-1}{\\epsilon^{i}+2}}\\end{equation}\n",
    "    In case of a host medium, simply do replace $\\epsilon^{i}$ by the\n",
    "    relative permittivity in\n",
    "    <a href=\"#7\" data-reference-type=\"eqref\" data-reference=\"87\">[87]</a>\n",
    "    to obtain: $$\\begin{equation}\\tag{88}\n",
    "            \\epsilon=\\frac{1+2f\\frac{\\epsilon^{i}-\\epsilon^{h}}{\\epsilon^{i}+2\\epsilon^{h}}}{1-f\\frac{\\epsilon^{i}-\\epsilon^{h}}{\\epsilon^{i}+2\\epsilon^{h}}}\\end{equation}"
   ]
  },
  {
   "cell_type": "markdown",
   "metadata": {
    "id": "eLJkxT8f_hD1"
   },
   "source": [
    "# References\n",
    "\n",
    "[1]J. E. Sipe and Robert W. Boyd \"Nonlinear susceptibility of composite optical materials in the Maxwell Garnett model\"\n",
    "https://doi.org/10.1103/PhysRevA.46.1614\n",
    "\n",
    "[2] David D. Smith, George Fischer, Robert W. Boyd, and Don A. Gregory, \"Cancellation of photoinduced absorption in metal nanoparticle composites through a counterintuitive consequence of local field effects,\" J. Opt. Soc. Am. B 14, 1625-1631 (1997)\n",
    "https://doi.org/10.1364/JOSAB.14.001625"
   ]
  }
 ],
 "metadata": {
  "colab": {
   "collapsed_sections": [],
   "name": "Photonics_project.ipynb",
   "provenance": []
  },
  "kernelspec": {
   "display_name": "Python 3",
   "language": "python",
   "name": "python3"
  },
  "language_info": {
   "codemirror_mode": {
    "name": "ipython",
    "version": 3
   },
   "file_extension": ".py",
   "mimetype": "text/x-python",
   "name": "python",
   "nbconvert_exporter": "python",
   "pygments_lexer": "ipython3",
   "version": "3.7.3"
  }
 },
 "nbformat": 4,
 "nbformat_minor": 1
}
