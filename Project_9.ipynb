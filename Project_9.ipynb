{
  "nbformat": 4,
  "nbformat_minor": 0,
  "metadata": {
    "kernelspec": {
      "display_name": "Python 3",
      "language": "python",
      "name": "python3"
    },
    "language_info": {
      "codemirror_mode": {
        "name": "ipython",
        "version": 3
      },
      "file_extension": ".py",
      "mimetype": "text/x-python",
      "name": "python",
      "nbconvert_exporter": "python",
      "pygments_lexer": "ipython3",
      "version": "3.7.3"
    },
    "colab": {
      "name": "Non Linear Mirrors_Executable paper.ipynb",
      "provenance": [],
      "collapsed_sections": [],
      "toc_visible": true
    }
  },
  "cells": [
    {
      "cell_type": "markdown",
      "metadata": {
        "id": "YrFWwbjeJoa6"
      },
      "source": [
        "# <center> Atomically thin semiconductors as Non Linear Mirrors</center> \n",
        "\n",
        "<center><span style=\"font-size:1.25em;\"> Aakash, Aditya Ranjan, Amal Mathew, Yuktee Gupta </span> </center>\n",
        "<br><br>\n",
        "<center><span style=\"font-size:1.25em;\"><b> Abstract </b> </span> </center><center>\n",
        "In this project we review the paper titled \"Atomically thin semiconductors as Non Linear Mirrors\" published by Zeytinoglu et. al. in 2017.<br> We will begin with an introduction to the paper and cover some of the background needed to understand it.<br> We will then explain the paper in three parts: <br> (i) Assuming no exciton interactions, <br>(ii) Accounting for inter-excitonic interactions in the mean field limit, <br>(iii) Accounting for quantum fluctuations.<br> We reproduce the plots presented in the paper with the help of the QuTip library in python.<br><br> </center>"
      ]
    },
    {
      "cell_type": "markdown",
      "metadata": {
        "id": "DJtxJ40dJobE"
      },
      "source": [
        "## Table of contents\n",
        "<Br>\n",
        "<span style=\"font-size:1.3em;\">\n",
        "1. Introduction and background<br><br>\n",
        "2. Perfect reflection with no inter-excitonic interactions<br><br>\n",
        "3. Accounting for inter-excitonic interactions<br><br>\n",
        "4. Accounting for quantum fluctuations<br><br>\n",
        "5. Conclusion and Applications<br><br>\n",
        "6. Acknowledgements<br><br>\n",
        "7. References<br><br>\n",
        "8. End Semester Problem\n",
        "</span>"
      ]
    },
    {
      "cell_type": "code",
      "metadata": {
        "id": "GU9v-TqiJobM"
      },
      "source": [
        "'''setup the matplotlib graphics library and configure it to show figures inline in the notebook \n",
        "as well as other library dependencies '''\n",
        "%matplotlib inline\n",
        "import matplotlib.pyplot as plt\n",
        "import numpy as np\n",
        "\n",
        "# make qutip available in the rest of the notebook\n",
        "from qutip import *\n",
        "from ipywidgets import interact, interactive, fixed, interact_manual\n",
        "import ipywidgets as widgets"
      ],
      "execution_count": null,
      "outputs": []
    },
    {
      "cell_type": "markdown",
      "metadata": {
        "id": "JNbkF8JaJobx"
      },
      "source": [
        "## 1. Introduction and Background\n",
        "Zeytinoglu et. al. have shown that a transition metal dichalcogenide monolayer with a radiatively broadened exciton resonance would exhibit perfect extinction of a transmitted field. This result holds for s- or\n",
        "p-polarized weak resonant light fields at any incidence angle, due to the conservation of in-plane momentum of excitons and photons in a flat defect-free two dimensional crystal. \n",
        "\n",
        "In contrast to extinction experiments with single quantum emitters, exciton-exciton interactions lead to an enhancement of reflection with increasing power for incident fields that are blue detuned with respect\n",
        "to the exciton resonance. It is also shown that the interactions limit the maximum reflection that can be\n",
        "achieved by depleting the incoming coherent state into an outgoing two-mode squeezed state.\n",
        "\n",
        "Below we have presented results of the same, and simulated the resultant states from the Hamiltonian, along with the reflection coefficient for varying frequencies."
      ]
    },
    {
      "cell_type": "code",
      "metadata": {
        "id": "RCpL606sJob2"
      },
      "source": [
        "'''Declaring constants'''\n",
        "# h_bar = 1 (convention)\n",
        "m = 1                        # Mass of exciton\n",
        "we = 3.0  * 2 * np.pi        # Frequency (energy) of the exciton in Lab frame\n",
        "c = 1                        #speed of light set to one for convenience"
      ],
      "execution_count": null,
      "outputs": []
    },
    {
      "cell_type": "markdown",
      "metadata": {
        "id": "au6s6OSk-f7x"
      },
      "source": [
        "### 2D Crystal Layer\n",
        "\n",
        "Monolayers of transition metal dichalcogenides (TMD) such as $MoSe_2$ or $WSe_2$ constitute a new class of two\n",
        "dimensional (2D) direct band-gap semiconductors.\n",
        "\n",
        "Lowest energy elementary optical excitations in TMDs in the absence of free electrons or holes are excitons with\n",
        "an ultra-large binding energy of ∼ 0.5 eV. \n",
        "\n",
        "Remarkably, recent experiments have demonstrated predominantly spontaneous-emission limited exciton transition linewidths in clean $MoSe_2$ flakes embedded in hexagonal boron nitride (HBN) layers. \n",
        "\n",
        "Since radiative broadening dominates over disorder induced inhomogeneous broadening, TMD monolayers can be considered as ideal two-dimensional (2D) optical materials."
      ]
    },
    {
      "cell_type": "markdown",
      "metadata": {
        "id": "U_AosyE1-hwG"
      },
      "source": [
        "### Band gap \n",
        "In semiconductor physics, the band gap of a semiconductor can be of two basic types, a direct band gap or an indirect band gap. The minimal-energy state in the conduction band and the maximal-energy state in the valence band are each characterized by a certain crystal momentum (k-vector) in the Brillouin zone. \n",
        "\n",
        "If the k-vectors are different, the material has an \"indirect gap\". In an \"indirect\" gap, a photon cannot be emitted because the electron must pass through an intermediate state and transfer momentum to the crystal lattice.\n",
        "\n",
        "The band gap is called \"direct\" if the crystal momentum of electrons and holes is the same in both the conduction band and the valence band; an electron can directly emit a photon.\n",
        "\n",
        "Examples of direct bandgap materials include amorphous silicon and some III-V materials such as InAs, GaAs. Indirect bandgap materials include crystalline silicon and Ge. Some III-V materials are indirect bandgap as well, for example AlSb."
      ]
    },
    {
      "cell_type": "markdown",
      "metadata": {
        "id": "GvJplc3S-kmi"
      },
      "source": [
        "#### Direct Band gap\n",
        "\n",
        "![image.png](data:image/png;base64,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)\n",
        "<br>Energy vs. crystal momentum for a semiconductor with a direct band gap, showing that an electron can shift from the highest-energy state in the valence band (red) to the lowest-energy state in the conduction band (green) without a change in crystal momentum. Depicted is a transition in which a photon excites an electron from the valence band to the conduction band."
      ]
    },
    {
      "cell_type": "markdown",
      "metadata": {
        "id": "aMUGWYXb-olu"
      },
      "source": [
        "#### Indirect Band gap\n",
        "\n",
        "![image.png](data:image/png;base64,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)\n",
        "\n",
        "<br>Energy vs. crystal momentum for a semiconductor with an indirect band gap, showing that an electron cannot shift from the highest-energy state in the valence band (red) to the lowest-energy state in the conduction band (green) without a change in momentum. Here, almost all of the energy comes from a photon (vertical arrow), while almost all of the momentum comes from a phonon (horizontal arrow)."
      ]
    },
    {
      "cell_type": "markdown",
      "metadata": {
        "id": "z1fRW71pJocK"
      },
      "source": [
        "### Fock States\n",
        "In single particle quantum mechanics, the state of a system can be represented by\n",
        "a ket $|\\psi\\rangle$ and the space in which these states lie is called the Hilbert space. This Hilbert space contains\n",
        "states which can accomodate one particle. For more particles we do:\n",
        "$$\n",
        "\\Rightarrow \\mathcal{H}^{N}=\\underbrace{\\mathcal{H} \\otimes \\cdots \\otimes \\mathcal{H}}_{n-\\text {copies}}\n",
        "$$\n",
        "This method is not suitable for systems where there are multiple particles in different states. So we define fock states as $$\n",
        "\\left|n_{\\mathbf{k}_{1}}, n_{\\mathbf{k}_{2}}, \\ldots n_{\\mathbf{k}_{i}} \\ldots\\right\\rangle\n",
        "$$ In this expression, $n_{\\mathbf{k}_{1}}$denotes the number of particles in the i-th state $k_{\\mathbf{i}}$, and the particle number operator for the i-th state, $\n",
        "\\widehat{N_{{\\mathbf{k}}_{i}}}\n",
        "$, acts on the Fock state in the following way: $$\n",
        "\\widehat{N_{{\\mathbf{k}}_{i}}}\\left|n_{\\mathbf{k}_{1}}, n_{\\mathbf{k}_{2}}, \\ldots n_{\\mathbf{k}_{i}} \\ldots\\right\\rangle=n_{\\mathbf{k}_{i}}\\left|n_{\\mathbf{k}_{1}}, n_{\\mathbf{k}_{2}}, \\ldots n_{\\mathbf{k}_{i}} \\ldots\\right\\rangle\n",
        "$$\n",
        "Hence the Fock state is an eigenstate of the number operator with eigenvalue $n_{\\mathbf{k}_{i}}$.\n",
        "\n",
        "We have non-Hermitian bosonic creation and annihilation operators, denoted by $b^{\\dagger}$ and $b$ respectively. The action of these operators on a Fock state for a boson are given by the following two equations:\n",
        "\n",
        "Creation operator $b_{\\mathbf{k}_{l}}^{\\dagger}$:\n",
        "$$\n",
        "b_{\\mathbf{k}_{l}}^{\\dagger}\\left|n_{\\mathbf{k}_{1}}, n_{\\mathbf{k}_{2}}, n_{\\mathbf{k}_{3}} \\ldots n_{\\mathbf{k}_{l}}, \\ldots\\right\\rangle=\\sqrt{n_{\\mathbf{k}_{l}}+1}\\left|n_{\\mathbf{k}_{1}}, n_{\\mathbf{k}_{2}}, n_{\\mathbf{k}_{3}} \\ldots n_{\\mathbf{k}_{l}}+1, \\ldots\\right\\rangle\n",
        "$$\n",
        "\n",
        "Annihilation operator $b_{\\mathbf{k}_{l}}$:\n",
        "$$\n",
        "b_{\\mathbf{k}_{l}}\\left|n_{\\mathbf{k}_{1}}, n_{\\mathbf{k}_{2}}, n_{\\mathbf{k}_{3}} \\ldots n_{\\mathbf{k}_{l}}, \\ldots\\right\\rangle=\\sqrt{n_{\\mathbf{k}_{l}}}\\left|n_{\\mathbf{k}_{1}}, n_{\\mathbf{k}_{2}}, n_{\\mathbf{k}_{3}} \\ldots n_{\\mathbf{k}_{l}}-1, \\ldots\\right\\rangle\n",
        "$$\n",
        "\n",
        "The operator follow the commutator properties:\n",
        "$$\n",
        "\\begin{array}{l}\n",
        "{\\left[b_{i}, b_{j}^{\\dagger}\\right] \\equiv b_{i} b_{j}^{\\dagger}-b_{j}^{\\dagger} b_{i}=\\delta_{i j}} \\\\\n",
        "{\\left[b_{i}^{\\dagger}, b_{j}^{\\dagger}\\right]=\\left[b_{i}, b_{j}\\right]=0}\n",
        "\\end{array}\n",
        "$$\n",
        "\n",
        "The vacuum state or $|0\\rangle$  is the state of lowest energy and the expectation values of  $b$ and  $b^{\\dagger}$ vanish in this state:\n",
        " \n",
        "$$\n",
        "b|0\\rangle=0=\\langle 0| b^{\\dagger}\n",
        "$$\n",
        "\n",
        "Also, a general state $\n",
        "\\left|n_{1}, n_{2}, \\ldots\\right\\rangle$ can be written as\n",
        "$$\n",
        "\\left|n_{1}, n_{2}, \\ldots\\right\\rangle=\\frac{\\left(b_{1}^{\\dagger}\\right)^{n_{1}}}{\\sqrt{n_{1} !}} \\frac{\\left(b_{2}^{\\dagger}\\right)^{n_{1}}}{\\sqrt{n_{2} !}} \\cdots|0\\rangle\n",
        "$$\n",
        "\n"
      ]
    },
    {
      "cell_type": "code",
      "metadata": {
        "id": "w2w0bBJ4JocO"
      },
      "source": [
        "'''Declaring size of fock states for photons and excitons'''\n",
        "Npr = 5             # Number of cavity fock states for right moving modes\n",
        "Npl = 5             # Number of cavity fock states for left moving modes\n",
        "Ne = 5              # Number of exciton fock states"
      ],
      "execution_count": null,
      "outputs": []
    },
    {
      "cell_type": "markdown",
      "metadata": {
        "id": "nkA9LCj4Jocf"
      },
      "source": [
        "### Second Quantized Hamiltonians \n",
        "The electromagnetic field is subjected to the methods introduced above. This is done by introducing creation $a_{\\mathbf{k} \\alpha}$ and annihilation operators $a_{\\mathbf{k} \\alpha}^{\\dagger}$, for both the positive and\n",
        "negative wave vectors:\n",
        "$$\n",
        "\\mathbf{A}(\\mathbf{r}, t)=\\sqrt{\\frac{2 \\pi c^{2} \\hbar}{V}} \\sum_{\\mathbf{k}} \\frac{\\hat{\\epsilon}_{\\mathbf{k} \\alpha}}{\\sqrt{\\omega_{\\mathbf{k}}}}\\left[a_{\\mathbf{k} \\alpha} e^{i \\mathbf{k} \\cdot \\mathbf{r}}+a_{\\mathbf{k} \\alpha}^{\\dagger} e^{-i \\mathbf{k} \\cdot \\mathbf{r}}\\right]\n",
        "$$\n",
        "Then the vector potential determines both the electric and magnetic fields:\n",
        "$$\n",
        "\\begin{aligned}\n",
        "\\mathbf{E}(\\mathbf{r}, t) &=i \\sqrt{\\frac{2 \\pi \\hbar}{V}} \\sum_{\\mathbf{k}} \\frac{\\omega_{\\mathbf{k}} \\hat{\\epsilon}_{\\mathbf{k} \\alpha}}{\\sqrt{\\omega_{\\mathbf{k}}}}\\left[a_{\\mathbf{k} \\alpha} e^{i \\mathbf{k} \\cdot \\mathbf{r}}-a_{\\mathbf{k} \\alpha}^{\\dagger} e^{-i \\mathbf{k} \\cdot \\mathbf{r}}\\right] \\\\\n",
        "\\mathbf{B}(\\mathbf{r}, t) &=i \\sqrt{\\frac{2 \\pi \\hbar}{V}} \\sum_{\\mathbf{k}} \\frac{c \\mathbf{k} \\times \\hat{\\epsilon}_{\\mathbf{k}} \\alpha}{\\sqrt{\\omega_{\\mathbf{k}}}}\\left[a_{\\mathbf{k} \\alpha} e^{i \\mathbf{k} \\cdot \\mathbf{r}}-a_{\\mathbf{k} \\alpha}^{\\dagger} e^{-i \\mathbf{k} \\cdot \\mathbf{r}}\\right]\n",
        "\\end{aligned}\n",
        "$$\n",
        "\n",
        "So the total field Hamiltonian is the sum over all wave vectors, and the positive and negative terms give the same total\n",
        "\n",
        "$$H=\\sum_{\\mathbf{k} \\alpha} \\hbar \\omega_{\\mathbf{k}}\\left(a_{\\mathbf{k} \\alpha}^{\\dagger} a_{\\mathbf{k} \\alpha}+\\frac{1}{2}\\right)=\\sum_{\\mathbf{k} \\alpha}\\left(n_{\\mathbf{k} \\alpha}+\\frac{1}{2}\\right)$$\n",
        "\n",
        "where $n_{\\mathbf{k} \\alpha}=a_{\\mathbf{k} \\alpha}^{\\dagger}a_{\\mathbf{k} \\alpha}$ is the number operator.\n",
        "\n",
        "The effective Hamiltonian for the particle or charge as it interacts with the field is given by\n",
        "$$H=\\frac{1}{2 m}\\left(\\mathbf{p}-\\frac{q}{c} \\mathbf{A}\\right)^{2}+V(\\mathbf{r})+q A_{0}$$\n",
        "\n",
        "Including the hamiltonian of the field:\n",
        "$$\n",
        "H=\\frac{\\mathbf{p}^{2}}{2 m}+V(\\mathbf{r})-\\frac{q}{2 m c}(\\mathbf{A} \\cdot \\mathbf{p}+\\mathbf{p} \\cdot \\mathbf{A})+\\frac{q^{2} \\mathbf{A}^{2}}{2 m c^{2}}+q A_{0}+H_{\\mathrm{photons}}\n",
        "$$\n",
        "\n",
        "Using radiation gauge $\\nabla \\cdot \\mathbf{A}=\\mathbf{0}$ and $A_{0}=0$ we see that:\n",
        "$$\n",
        "\\mathbf{p} \\cdot \\mathbf{A}=\\mathbf{A} \\cdot \\mathbf{p}\n",
        "$$\n",
        "Thus the interaction terms are given by which is approximated by a single term:\n",
        "$$\n",
        "H_{int}=-\\frac{q}{m c} \\mathbf{A} \\cdot \\mathbf{p}+\\frac{q^{2} \\mathbf{A}^{2}}{2 m c^{2}} \\approx-\\frac{q}{m c} \\mathbf{A} \\cdot\\mathbf{p}\n",
        "$$\n",
        "\n",
        "\n"
      ]
    },
    {
      "cell_type": "code",
      "metadata": {
        "id": "6olE3ZNfJoci"
      },
      "source": [
        "r  = tensor(destroy(Npr), qeye(Ne), qeye(Npl))       # Ladder operator of Right propagating field\n",
        "l  = tensor(qeye(Npr), qeye(Ne), destroy(Npl))       # Ladder operator of Left propagating field"
      ],
      "execution_count": null,
      "outputs": []
    },
    {
      "cell_type": "markdown",
      "metadata": {
        "id": "-6IYynEkJoc0"
      },
      "source": [
        "Any subsequent Hamiltonians can now be written in terms of the creation and anihilation operators, as we present below."
      ]
    },
    {
      "cell_type": "markdown",
      "metadata": {
        "id": "dCtI0MgOJoc5"
      },
      "source": [
        "### Excitons\n",
        "An exciton is a bound state of an electron and an electron hole which are attracted to each other by the electrostatic Coulomb force. It is an electrically neutral quasiparticle that exists in insulators, semiconductors and some liquids. The exciton is regarded as an elementary excitation of condensed matter that can transport energy without transporting net electric charge<center>![330px-Exciton.png](data:image/png;base64,iVBORw0KGgoAAAANSUhEUgAAAUoAAAFKCAYAAAB7KRYFAAAABmJLR0QA/wD/AP+gvaeTAAAACXBIWXMAAABIAAAASABGyWs+AABTF0lEQVR42u2dd3xUZdr3f1MzyWTS6wQCaSSU0AMhBghFASmhQwQpa1n0Xff1Ude2+6zovuvqPrurz+quBV3ELitSFFCRJkpvoSWQhJBCes/MZOq53j9mE0FKzqCQe+D6fj7nQyD3DOd3n/v6nbtc5z4KIiIwDMMwV8Ks5DpgGIa5OmyUDMMwbJQMwzBslAzDMGyUDMMwbJQMwzBslAzDMGyUDMMwbJQMwzC3Kupr/aDL5UJVVRUaGhpARAgODkZ0dDTUarXXiCci1NbWora2Fk6nEwaDAUajETqdzqsuYlNTE6qrq9HW1gY/Pz8YjUb4+/t7lQaz2YyqqiqYTCZoNBpER0cjODjYqzQ4HA5UVlaiqakJSqUS4eHhCA8Ph1LpPf0RSZJQU1OD2tpaEBGCgoIQFRUFrVbrVXHd0NCA6upqOBwOGAwGREVFwc/P78YaZX5+Pt566y1s3rwZNTU1AIDQ0FBMnDgRv/jFL5CamgqFQiF0ZVZVVeGdd97BZ599hpKSErhcLhgMBmRmZmLBggUYP3688KZvMpnw8ccf4+OPP8apU6dgt9vh4+ODIUOGYO7cuZgxYwb0er3w5rJp0yasWrUKBw8ehMVigVqtRnJyMqZNm4ZFixYhPDxc+MDcs2cP3nnnHezcuRP19fVQKpXo3r07Jk6ciKVLlyIxMVF4g8nPz8fKlSvx1Vdf4fz58wCA4OBgjBkzBvfccw+GDRsmvIaqqiq8//77WLduHQoKCuByueDv749hw4ZhyZIluOOOO64trslD9u/fT+np6QTgskefPn1o48aNJDLnzp2jmTNnklKpvKyGiIgIeu2118jhcAiroampiR5++GHS6XSX1aDX6+nJJ5+klpYWYTXYbDZ6+eWXKTQ09LIa1Go15eTkUHl5ubAaJEmitWvXUnx8/BVjYtSoUXT06FGhY6KzuE5OTr6V49rkkVHm5eVdtTIvrNQjR44IWZm1tbU0d+7cTjWEhobS2rVrhdTgcrno2WefJY1Gc1UNPj4+9Oc//1nYhv3hhx9SYGDgVTUoFAq67777yGKxCKlh7969FBcX12l7Gjt2LFVWVgqpobS0lDIyMrw6rltbW2nBggXXK67lG6UkSfToo492eiLtx3333Ud2u124Cn377bdJrVbL0pCVlUV1dXXCadi3bx91795dloaEhAQ6efKkcBrKyspo+PDhsjQEBATQF198IZwGq9VKCxculKVBpVLR3/72NyFN5v/9v/9HCoVClo57772XrFarcBo+/fRT0uv1sjSMHj2aqqurPTJK2bPMFRUV+PLLL2UP6Xfu3NkxfykKVqsV69atg9PplFX+8OHDOHPmjHDzMGvWrEFZWZmssmfPnsX+/fuF07Bt2zYcOnRIVtmWlhZs375dOA0VFRXYvXu37MXPLVu2wGq1CjfPvW3bNsjdbfGLL77AqVOnhJsj3r59O8xms6zye/fuxc6dOz36P2QbZWNjo0fG19jYiMrKSqEq1GKxoLy8XHb5trY2lJSUCKXB5XJ5dE5EhLNnzwpnMqWlpbJvWABw7tw52Gw2oTSUlZWhsbFRdvn2FXGRqKurQ0VFhezyDQ0NHpW/URkTnrRxm82G4uLi62OURCT7rtNeXpIk4e48nu5T7HK5hFxl9XYNnrYNSZKEa08ul8ujayGiBk/P6Vpi6EbEg6f16qkG2UYZHBzsUZpGcHAwjEajUBXq5+eHmJgY2eV9fX3Rs2dPoTSoVCrExsbKLq9QKJCQkCCcUcbGxnqUptGzZ0/4+voKpaFHjx4e5XoajUbhckPDw8M9iomQkBBER0cLpcHf3x/x8fGyy/v4+Hgc10pPLvIdd9wh+4szMzMREREhVIX6+vpi6tSpUKlUssr3798fvXr1Es5kpk+fLvsmFBsbi7S0NOE0jBkzBgMGDJAdCKNHjxZOg9FoxPDhw+UFmlKJMWPGCGf2BoMBo0ePlp33PGHCBPTp00coDQqFAqNHj5Zdt0OHDsWoUaM87rbKJjc3l/r27dvpqlJMTAzt3r1byBW+yspKmjhxYqca9Ho9vf/++0JqcDqd9Oijj3a6UqlUKum///u/SZIkIXWsWLHiinmgFx5z584lk8kkpIbt27dTZGRkpxrS0tKotLRUSA2FhYXUv39/r47rpqYmmjZt2vWKa5PHCeebNm2i5OTkK55It27daOXKleRyuYTN38vNzaVRo0Zd0WgMBgM988wzwubuERGdP3+ecnJyrpjqpNVqacmSJZ6mQdzw3Lcnn3zyimkdCoWCxo0bR6dOnRJWg9PppNdff/2qZtmvXz/aunWr0MnancW10Wi8lePapFq+fPlyT3qgSUlJGDlyJCRJQmtrK5RKZcfzxdOmTcOLL76ISZMmyR7edgWRkZEYO3Ys/Pz80NzcDADQ6XSIiIjA6NGj8dxzz2Hp0qVCP/NtMBgwZswYREdHo6mpCUQErVaLkJAQDBkyBE8++SQeeeQRhIaGCqtBq9XitttuQ3JyMpqbm+F0OqFWqxEYGIjk5GTcf//9+MMf/uDR/NONRqlUYtCgQRgyZAja2tpgs9mgUqng7++Pnj17Yu7cuXjxxRdlD9G7igvj2mKxQKlUwtfXF0ajEbfffjtefPFFTJ06Vejn1tvjOjg4GC0tLSAi+Pj4ICIiAunp6Xjuuedwzz33XEtcOxR0jUtYdrsddXV1qKyshCRJiI6ORkREhFc9PO9yudDQ0IDKykpYLBZEREQgOjpauHmkzlbvmpubO1JPQkJCOjbFEP15+wsxmUyorq5GbW0t9Ho9YmJiEBQU5FUbSlitVtTW1qKyshJqtRoxMTEIDQ31qo1iHA4H6uvrUVFRAZfLhaioKISHh3vVRjGSJKGxsRHnz5/viOvIyMifsu+B+ZqNkmEY5haB3+vNMAzT6RQLVwHDMAwbJcMwDBslwzAMGyXDMAwbJcMwDBslwzAMGyXDMAwbJcMwDBslwzAMw0bJMAzDRskwDMNGyTAMw0bJMAzDRskwDMNGyTAMw0bJMAzDRskwDMOwUTIMw7BRMgzDsFEyDMOwUTIMw7BRMgzDsFEyDMOwUTIMw7BRMgzDMGyUDMMwnaDmKmCuF0QEp9MJm80Gk8mEtrY2WK1W2O12OBwOuFwuOJ1OuFwuSJIEIgIAKBQKKJVKKJVKaDQaqNVqaDQaaDQa+Pj4QK/Xw8/PDzqdDmq1GgqFgiubYaNkvAOz2YyioiI0NTWhsbERdXV1qK2tRXNzM8xmMywWC2w2G1wuF4iowxzbDfLHKBSKDtNUKBRQqVTw8fGBn58f/Pz8EBQUhIiICISFhSElJQW9evXii8CwUTJiU1NTg3/84x+or6/vMMD2o9302nt/7T1GtVrdYYTtv2v/jCRJHb1OSZI6zLj9+9s/I0kSZs+ezUbJsFEy4hMQEABfX1/4+fl19PxCQkIQEhICf39/6HQ6+Pj4dBxarRZarRYajabDOAFAkiRIkgSHwwG73Q6bzQabzdbxc1tbG1pbW9Hc3IyGhgaYTCYEBgbyBWCuGwq60riHYTzEbrejsLAQWq22Yw6x3RxVKtXP+n+5XC7YbDZYrVa0tbXB39+fzZK5XpjZKBmGYToxSk4PYhiG6YSfNEdptVphsVhARPDz84Ovr69XDhfNZjNcLhd0Oh30er3XpZs4nU6YzWY4HA5otVro9fqffah7vZEkCRaLBVarFWq1Gv7+/lCr1UKeZ/tc6o8hIrS1taGtrQ0KhQJ6vR4+Pj5eFxM2mw1ms7kjrnU6ndfFhMPhgMlk6ohrPz+/K16362aUdXV12LBhA9auXYvy8nIQEYxGI7KzszF9+nRERkaK35c2m7FlyxasXr0ap0+fhtPpRHBwMCZMmIDs7Gz07t1b+MbhcDiwe/dufPLJJzh8+DDa2trg5+eHkSNHYubMmRg6dCjUajUaGxtBRAgJCRFOAxHh2LFjWL16Nb799lu0tLRAq9Vi4MCBmD59OsaOHSvMDdhsNuPzzz9HbGws+vbte9Gc6Llz57B+/Xps3rwZVVVVUCqVSExMRHZ2NiZNmiRk3V8urjdu3IgNGzbg7NmzICJERkZi0qRJmDVrFrp37+4Vcb1jxw6sWbMGx44dg8PhQFBQELKysjB37lz07dv3mhuqR5w7d47mzp1LarWaAFx0qFQqmjBhAh09epREprGxkR577DHy8/O7RAMA6tu3L23evJkkSRJWg81mo1deeYXCw8Mvq8FoNNIrr7xCW7ZsoaeffppWrFhBTqdTKA2SJNH69eupV69el9Xg7+9Pv/3tb6m5uVmI8z127BgtXLiQ5s2bR8888wxt3bqVampqaP/+/ZSZmUkKheISDRqNhu6++24qKysTOiauFtcKhYLGjh3rNXGt1+sv25769OlzrXFt8sgoKysraebMmZc9iQuPzMxMOnv2rJCVaTab6bHHHrtsg7jwSEhIoO+//17YRrFixQoyGAxX1aDT6Sg9PZ2mT59ODz30ENXX1wulYevWrdS9e/eratBqtbR8+XJyOBxdfr5btmyh+++/n2bNmkUzZsyguXPn0r333ku9e/e+qgaFQkELFy6kpqYmIdtSfX09zZo1y6vj2m630xNPPHG94tozo3z++ecve9e83PH000+Ty+USrkI/++yzK95xfnzMmjWLWltbhdNw+vRp6tOnjywNQUFB9OCDD9LatWuF6ZkRETU0NNCkSZNkaYiKihLipmW32+ncuXP073//mx5//HGaP38+JSYmytKg0+no3XffFdJkXn/9ddJoNLJ0PPXUU0LG9bZt2yg0NFSWhpkzZ1JLS8v1McqamhoaNmyYrBMBQKmpqVRdXS3cXeeuu+6SrSE0NJQOHTokXKP4wx/+IFuDUqmklStXCqfh008/JV9fX9k6fve73wk1ZdDY2Ejr16+nyMhI2RpmzpxJdrtdqOvQ1tZGd955p2wNcXFxlJeXJ1x7euyxx2RrMBgMtGnTJo+MUvYyUG1tLc6dOyd77rOmpgaVlZVCTfSaTCacPn1advnW1lYUFxcLt+qal5fnUfny8nLhJt3PnDmDtrY22eULCwtht9uFOHeFQoGgoCCEh4fD6XTK/lxJSQmampqEug61tbUoKSmRXf78+fPCxYTFYsGZM2c8iutTp0559H/INkqHw9HxvK3clBWLxSKcyXjSsCVJgtlsFk6DzWbz+AYhYlqWp8HgybW7UQHqcDg8Srvx9NrdiFQgT86JiDzSfCO4Fq/xtP3JNsqAgAAYDAbZX2wwGIRLE9LpdB6lafj4+KBbt25CpT5s377d4x5ibGyscEYZHh7uUfpVTEyMcHm6RqMRAQEBssv7+/tDq9UKpSE0NBQRERGyy+v1eoSFhQmlwc/Pz6M4ValUiIqKuj5GGRMTg8zMTNlf3L9/f49P5nqj1+tx++23yy4fHx+PpKQkIXqRJ0+exCuvvIKVK1dCoVDITsYOCwvDwIEDhTPKUaNGISEhQVZZrVaL4cOHC5fX2r17d4/y8kwmE9566y0cO3YMLpdLCA1BQUEYOnSo7PIZGRno06ePUNdBrVYjPT1ddkykpKRg5MiR18cotVotcnJyZPUSAwICsHTpUvj5+QkXoNnZ2ejXr5+su86CBQu6PMm2sbERn376KV566SXs378fdrsdQ4YMQXp6uqzPT506FUOGDBHuOvTt2xcLFiyQ9bTE8OHDMXHiROE0+Pv7Y/HixdDr9bJGWFFRUTh06BD+93//F+vWrUNzc3OXa1AoFFiwYIGsHllAQADuu+8+BAUFCXctJk+ejMGDB8uK67vvvhuJiYkefb9q+fLly+UWTkhIQGBgIPbu3XvFOQG9Xo9HH30US5cuFfIRtPDwcCQkJGDv3r1oaGi44h1qwYIFeOqpp7rM7F0uF44cOYKVK1fi22+/hcViQWBgIG6//Xb84he/wNixY5Gbm4uysrIrBkBWVhZefPFFIZ+UUigU6N27N0pKSpCfn3/FzXtTUlLw17/+VdbNrStISEhAW1sbDh8+fMU51KioKPz+97/HkCFDUFNTg6amJuTl5aGoqAh6vR4RERFd+shpdHQ0DAaDV8d1QEAAYmNjr1dcOzwySoVCgQEDBqBPnz6oqqpCQ0MDJEmCSqWCXq9HWloannvuOdx7773Q6XQQlYSEBAwbNgxNTU2oqamBy+WCQqGATqdDcnIyHn74YTz11FMIDQ3tkvOrq6vD+vXr8fHHH6OsrAwajQapqalYsmQJxo8fj8DAQERERGD06NFwOp2oqKjomGDXarXo3r07li5dij/+8Y8e3zlvdI8sKysLfn5+KC8v71gFV6vVCAsLw9SpU/GXv/wFGRkZwmrQaDQYMWIEYmJicP78eZhMpo6YCAwMxMiRI/HCCy8gJycHAwYMQFJSElpbW1FTU4OKigrk5uaipaUF3bp1k9UzvV43rfa4rq6uRlNTE1wuF1QqFfz8/NC/f38888wzWLZsmVfEtcViQU1NDRwOR0dcx8XF4b/+67/w29/+9lri2nHN26zV19ejoKAAJSUlcLlc6NGjB5KTk4Wb6O1szqigoADFxcUwm82IiYlBr169YDQaf9ID9D+lF3n48GGsWbMGRUVFcLlcMBqNmDJlCjIyMi67cGCz2XD27FmcPXsW9fX1CA8PR1JSEnr27Cnknf9KuktLS1FUVISKigoEBAQgMTERcXFxXWYenkJEqK6uRmFhIUpKSqDRaJCQkICEhIRLhqomkwk7duzAxo0bUV1dDaVSiV69emHOnDkYMGBAl7S9dhoaGlBUVISzZ8/C5XIhNjYWiYmJiIyM9JqNMSwWC4qKilBYWAiTyQSj0YiEhAR07979WnvuvB+lKLS1tWHLli1Yu3YtmpuboVarkZqaivnz5wuxoMT8/Maal5eHtWvXdmzeEBISgilTpuD222/3mhvELQIbpQiUl5dj7dq1+P7772G32xESEoI77rgDEydO9Cj9hPE+TCYTtmzZgo0bN6KhoQEajQbDhw/H3LlzhUpNY6Nko+zSIeeBAwfwySefoLS0FEqlEn379sXcuXORnJzsdXtKMtdGe/rX6tWrkZ+fD0mSEBcXh3vvvRcpKSlcQQIYJb9crAv55ptv8OGHH6K1tRV+fn64/fbbMXXqVK/Yu5D5+VAqlUhNTYXRaMSmTZvw9ddfo6WlpUvnKpmLYaPsQogIVqsVoaGhmDFjBm6//XZoNBqumFuU0NBQ5OTkIDw8HC6XS+iMhVsNHnp3ISaTCZ9//jn69euHvn37cg+C6RiKExFPvQg09Gaj7GLa89UYhhHXKLkL08WwSTKM+LBRMgzDsFEyDMOwUTIMw7BRMgzDsFEyDMOwUTIMw7BRMgzDsFEyDMOwUTIMwzBslAzDMGyUDMMwbJQMwzBslAzDMGyUDMPceJxOJyRJ4opgo2QY5nKYTCasWbMGe/fu5cq4RvhVEB5QVFSExsZGDBo0iPeRZLyGL7/8Ep9++imio6MRFRWF+Ph4rhTuUV4fmpqa8O677+KVV17Bpk2beBjDeA0JCQkwGAwoLy/H+++/j/r6eq4UNsqfH5fLhc2bN+PUqVOwWq0wm81QKBRcMYxX0L9/f0yaNAkajQbHjh3Dxo0b4XQ6uWLYKH9eDh06hK+++gqSJCEzMxPTpk1jo2S8BpVKhTvvvBPDhg0DEeGbb77h+Uo2yp+Xc+fO4aOPPkJLSwvi4+Mxa9Ys+Pn5ccUwXoVer8fs2bPRrVs3tLa2Ys2aNSgvL+eKYaP86VitVqxduxYlJSXw9/fH7NmzYTQauWIYr6RHjx6YN28eAgMDUVpaivXr18Nut3PFsFH+NPbs2YODBw9CoVAgMzMTgwcP5kphvJphw4ZhzJgxUCgU2Lt3Lw4ePMiVwkZ57Zw/fx4bNmyAxWJBQkICpk2bBo1GwxXDeDVqtRpTpkxBcnIyzGYz/v3vf6OkpIQrho3ScxwOBz7//HOUlpYiJCQEs2fPRlRUFFcMc1MQGhqKGTNmICAgACUlJVi/fj1sNhtXDBulZxw7dgy7d++GQqHA2LFjMXToUK4U5qZi0KBBGD16NBQKBfbv389DcDZKz6irq8OGDRtgMpnQs2dPjB8/HkolVxNzc6FSqXD77bejW7duMJvN2Lx5MxobG7li2Cg7h4iwdetWnDx5EjqdDpMnT0ZkZCRXDHNT0q1bN0yZMgV+fn44c+YMduzYwZVyvYzS5XLB5XJ5dSVIkgRJklBYWIjt27dDkiQMHjwY6enpXqXB23eIIaKbQoM3xcSoUaMwbNgwOJ1OfPPNNx0LOzdLXDudThDRT/6ua9oUw+Vy4fDhwx0rZpIkITY2FrNmzcKwYcOgVnvHXhsFBQX45JNPcPLkSTidTjQ2NsJisSA5ORlTpkyBr6+v8BqqqqqwZs0a7N+/H2azGQaDAVlZWZg6dSpCQkK84jq0tLRg48aN2LZtGxobG+Hj44OhQ4di+vTpiIuL8woNNpsN3333HT7//HOcP38eKpUKKSkpmDFjBlJTU4WdvvHx8cGdd96JkydPoqqqCm+99RYA4MyZMyAiGI1GTJ06FSNHjoRWq/WKG1VJSQk+/fRTHD58GHa7HaGhoRg/fjwmTZoEf3//a/5ij2hsbKRnn32WunXrRgAuOqKjo+nRRx+l8vJyEhmr1UpvvfUW9enThxQKxUUaVCoVpaWl0eHDh4XW4HK5aNOmTXTbbbeRWq2+SINOp6Nx48bRN998Q5IkCa3j8OHDNH36dPL19b3kOvTv35/ee+89stlsQmsoKSmhX/7ylxQSEnKRBoVCQT169KAXXniBmpubhW5Lr7/+OvXu3Zv8/PwuiYnQ0FB66KGHvCau+/fvTyqV6iINer2e5syZQ8eOHbuWrzZ5ZJStra308MMPk0ajucQkL2wc8+bNo7q6OiEr0+Fw0CuvvEIGg+GKGgDQiBEjKD8/X9hGsXHjxsverC484uLiaOvWrcJqOHbsGA0ePPiqGoKCgujtt98W1vArKyspOzv7qhq0Wi09/fTTZLVahdRgsVjowQcfvMQgvSmuXS4Xvfrqq9crrj0zyhUrVpBOp7vqiQAgtVpNL7/8spAVumPHDoqIiOhUAwBatmyZkL2ZyspKuu2222RpGDdunJCN22Kx0OLFi2VpSEpKopMnTwrZnv70pz+RUqnsVENQUBBt2rRJSA1r1qzp1GBEj+vDhw9Tjx49rldcyzfKpqYmGj9+vKwTAUDp6enU0NAgVGU6nU568MEHZWuIiYkRMkBfffXVS4bbVzp0Oh1t2LBBOA1btmyhoKAg2dfixRdfFE5DbW0tDRo0SLaGRYsWkcvlEm6ENXfuXNkaBgwYQCUlJcJdi2effVa2hoiICPruu+88MkqlJ4sGp06dkj33WVZWhqqqKqEmes1mMw4dOiS7fH19Pc6ePSvcZPWBAwdk7ydotVqRn58v3KT70aNH0dTUJLv8qVOnhFuFLS0txfnz52WXP3PmDJqbm4XSUF9fj4KCAo8WQD0pf6MW0k6cOCG7fE1NDY4cOXJ90oOsVqtHjzm1tbUJl8Bqt9vR1tYmu7zT6RRuN2iXywWTyeTRZ+rq6oQzSk81NDQ0CPeYXX19PaxWq+zyra2tHuu+ERkHLS0tsss7HA7hNFitVjQ0NHis+7oYpZ+fH3Q6HTwpL1p6ilar9Sg9QK1WIyIiQigNKpUKAQEBHn1GxKR5TzWEhYXBx8dHKA3h4eEepZAFBgbCYDAIpSEwMBBBQUEexZCn1+564+vri/DwcI8+44lmj4zSaDRiyJAhsr84MTFRuL0bDQYDMjMzZZePjo5GUlKSUBoUCgWysrJk37T8/f2RmpoqnFGmp6fL3mhEoVAI+UK3Hj16ePSirtTUVAQGBgqlISwsDP369ZNdfsCAAejdu7dwHSBPtkCMjY3FiBEjro9R6vV6zJkzB3q9XtaJL1iwQLg7j0KhwIwZMxATEyOr/IwZM4RMeJ4yZYpsw8/KysLw4cOF05CWloYZM2bIKtu3b19MnjxZOA3BwcHIycmR9YBFWFgY5s+fL9wrRJRKJXJycmT1sLRaLZYuXSrkTlpTp06V3amZPXs2+vfv79l/4GlKx1NPPUU+Pj5XXFFSqVS0ePFiamxsFDbf6s0336SAgICrroxlZWVRUVGRsDmIW7dupfj4+KtqSE5O9nR174aSl5dHI0aMuKqGsLAw+uCDD4TVUFtbS/PmzbtqipCvry8999xzZLfbhU3U9va4liSJ3nrrLQoODr4ecW3y+MmclpYW+utf/0rx8fEXNQ6FQkGxsbH0+9//nqqrq0lkCgoKaOLEiRQYGHhJAw8NDaWlS5fSmTNnhNYgSRLt2LGDxo0bd0luq7+/P02ePJm+//574Z/MOXnyJOXk5Fxy49JqtZSWlkZr1qwhh8MhtIaKigp65JFHKDIy8qKkbZVKRUlJSfTKK6+QyWQSWsOV4hr/STFbtmwZ1dTUCK3BbrfTRx99RGlpaaTVai/SEBgYSIsXL77WuDYpiDx/YlySJJw+fRr79u1DcXExXC4X4uPjMWzYMPTu3Vu4uaQf89lnn+HDDz+ETqdDZmYm6uvrYTKZ0K1bNwwePBiDBg3yaOGqK6mvr8eePXuQn5+Puro6hIeHY8CAARg2bJhwUx9Xwmw2Y//+/Thx4gQqKioQEBCA3r17Iy0tTfY0SVdjt9tx/PhxHDlyBMXFxdBqtUhKSkJaWhoSExO94q2dkiThzJkzOHjwIAoLC9Hc3Izc3FwAwL333ou77rrLK65FZWUl9uzZg7y8vI64Tk1NxdChQ6/1xYDmazJKb6a2thYvvPACzp49i9tvvx2//OUvhTd2hukKnE4nXnnlFXz77beIj4/H008/jdDQ0FuxKsy33H6UJ0+eRHl5OfR6PYYMGcImyTBXQK1WIz09HUFBQdDr9bIfcrgp6+JWEmu323HgwAFYrVbEx8ejT58+HA0McxUGDhyIhx9+GLGxsQgODmajvFXukO170iUmJgqX/MswouHr64sBAwbc8vVwy81RAujY9ZhfP8swjAzM6ltRtbfswM4wjBjwy8UYhmHYKBmGYdgoGYZh2CgZhmHYKBmGYdgoGYZh2CgZhmHYKBmGYdgoGYZhGDZKhmEYNkqGYRg2SoZhGDZKhmEYNkqGYRg2SoZhGDZKhmEYNkqGYRiGjZJhGIaNkmEYho2SYRiGjZJhGIaNkmEYxjvg97YyDHNNEBHa2tpgMpmg0+kQEBDARskwDHMhLS0tWLVqFfLz8zFt2jRMnDiRjdKbKC4uRlVVFaKiotCjRw8olTzDwDA/u3mo1aisrMT58+fR0NBwU2u96RxEkiRs3boVf/nLX7Bp0yYQEbdoL8FiAWpr3YfFAvClExsfH5+O4bbJZLq5bwo3o1E2NDTA5XLB19cXKpWKW7TANDQAW7YA+/YBhYVAVZX736OigIQEYPhw4I47gJAQrivhellKJXx9faFQKNDS0gK73Q6tVstG6Q04HA60trYCAHQ6HbdmQWlrcxvkP/8J7NwJWK2XL6fTAaNGAQ8+6DZMX1+uO5GMsj3Gmpub2Si9a/hmgdlshkKhgC9HlZDU1ADPPgt88AHQ3PyfhqgGwsOByEj336ur3UNwqxX4+mtg717grruAZ55x9zYZMfD394dSqURrayscDgcPvb2np9IGq9UKhULBPUoBqa0FHnkE+PBD9xykXg+MHw/MmgUolUB7h8Rmc/+5Zo2759nSArzxBtDUBPzv/wIREVyXIhAQEAClUgmr1Qq73c5G+WPKy8uxdetWlJaWQpIkdO/eHePGjUOPHj26VJDNZoPVaoVKperUKBsbG7Ft2zacPn0adrsdYWFhyMrKQp8+fbxmpbytrQ3ff/89jhw5ApPJhICAAKSnpyMtLU24YZDDAfz5z8BHH7lNsls34LnngHnzAEkCFi929x4BYOxY4L33gJkzgdWr3T3J0lL3z0Yj8MILgEYjjjYiQmFhIXbu3Inz589DpVKhV69eGD16NCLbu8leQGVlJXbs2IHCwkJIkoSYmBiMGjUKSUlJUCgUl5Q3GAxQKpVwOp1wOp1CaGhpacG3336LY8eOwW63IzQ0FBkZGRg4cOC1r1mQh9hsNvroo49o+PDhpFarCQABIJVKRUOGDKEVK1ZQS0sLdRWnTp2iBQsWUE5ODu3Zs+eyZVwuF23bto3uvPNO8vX17dCgUCgoISGBnnnmGaqsrCTROX78OC1evJiCgoI6NACgyMhIeuCBBygvL0+o892xgygiggggiooi+vBDIkly/66lheiOO9y/A4jGjCFqanL/TpKIPv6YKDra/bvwcKJt28TR1dTURC+99BKlpKSQSqXquA4+Pj6UmZlJa9asIbvdLnRbao/r9PR00mq1HRqUSiX16dOH/vGPf1Bra+sln9u7dy/NmzePli5dSufOnetSDe1xPX36dPL3978orrt3706/+93vrjWuTR4ZpcPhoJdffpkCAwMvCswLD51OR48//jhZLJYuqazc3FyaP38+LVy4kA4fPnzZMuvXr6fY2NgralAqlTRnzhyqqqoStmEfOnSIhgwZckUNAGjEiBF04sQJQQKRaOlSt9FptUQvv/yDSXZmlO1m+fe/E/n4uH+/aJH7O7ua1tZW+vWvf32Rufz4CAkJoddff51cLpeQbcnpdF5zXOfm5lJOTg4tXryYioqKulTHdYxrz4xy7dq1FBoaetXgBEB6vZ4+/PDDLqmsw4cP07x582jx4sV08uTJS35/9OhR6tWrV6calEolPfPMM0I27ubmZsrOzu5UAwCaP38+mUymLj/nvXt/6BGmpxPV1l78+x8b5dixFxslEVFdHdFtt7l/HxlJtHt311+Lt99+m3Q6XafXoVu3brR3714hjXLnzp0UGRl5TXGdn59PCxcupLvvvpvOnDnTZRqKiopowIAB1yuuTbIn4iwWC9577z3U19d3WtZsNuNf//pXR5rOjcTlcnWkLmguM4m1evVqnDlzptPvkSQJH3zwAc6dOyfcPNIXX3yBLVu2yCq7adMm7Nu3r8vPee9eoLLS/fPEie6V78OH3ceRI8DRo+4Fm3ZaW4HcXPfv2stVV7s/274qvndv12pqbm7GypUrYb1SbtOP5vTfe+894R6AkCQJ7777Lqqrq2XF9euvv46ampqOf1OpVFCr1ZAkCZIkdZmOdevW4dixY7L1njhx4vos5lRWVuLgwYOyv7igoADV1dUwGAw3/MITERQKxSUTtyaTCbt27ZL9XRUVFSgqKkJ8fLxQjXvHjh2wWCyyJ7ZPnjyJsWPHdvEigftPrRYIDQV+8QugqMi90u2eK/8hVQhwm2T7Srj7ugJxccCiRYCPj3tVvP07u4qysjKcPXtWdvnjx4/DZDLd8JjobEHTE9M4evQoTp8+jYj/pB0olUoolUoQUZcZpdPpxNGjR2XfhEpKSrBv3z7079//5zdKk8kEs9kMT8rX1tYiMTHxhq8+AoBCobhk5dpqtaLlwm5LJ9jtdlRUVAhlkk6nE42NjR595vz5811+3u1NR612pwTV1bmPK9f9pb83GAB/f/d32Gw/fGdXUVVV5dGje/X19WhubhbOKOWMEi/Msriw/V1olF3VW7ZYLB7FqSRJqLta47sMsofeWq32skPZq5X39/cXymTUarVHKTMqlQqBgYFCaVAqlfDx8fHoMyJsf6VW/9Bz/ClZJE6nu3fpvj5dq8lgMHjUnvz8/ITL7fX19fXowYwfp90pFIqOtKGuMkqNRuPxzcfTh1Fk9yijoqKQnJyMqvaHcTvBaDQiJibmhlfahbleP75wBoMBAwcOxIEDB2R9V1BQ0A3vEcsxyqFDh+Kjjz6SNdTRarXo3bt3l593cPAPPcW2NuCXv3TPU7ZfLrsdWL8eaJ8Sjo0Fpk93D7PbDTY83P3Z9rzmrn7+Oy4uDtHR0bJ7JwkJCQhurwhBiIiIQGJiIo4fPy5bc1JS0kW9M0mSLjuCu5Fm369fP6xbt05W+ZCQEAwaNOj6GGVwcDCmTp2K7777rmPB5GpmNWXKlC5pFBfe3X5sJCqVCtnZ2fj4449lLTSNGTNGuPlJAMjOzsbKlStlTV4PGDAAw4YN6/Jz7tXLPT9ptwPHjgGvvXZxwnhrK5CX94NRJia6k9Ev7NA7ne5nvl0u92cviNcuISwsDJMmTZJlMn5+fsjOzhZukxaNRoOpU6di06ZNsLU/DnWV2Jo7dy569ux5UWfkwumuruKOO+7Am2++edFC09XKpqWlXZ+hNwAsXrwY8+bN67RCxo4di3vvvbdLKq59KCBJ0mUNfdy4cXj44Yc7HTKlpKTgkUcegZ+fn3BGGRcXh9/85jed3ojCwsLw+OOPd0nP/seMHAkMGOD++csv3Ys1V+Nyo7hjx9yfBYDUVPdmGV3du1+2bBkyMzM7LXfXXXdhypQpEJGZM2dizpw51xTXLpcLLpfroiF4VzBixAg88MAD1y+uPc1XKi8vp1/+8pcUEBBwSY6Sv78/zZs3j06dOtVl+VRHjhyh+fPn06JFi+j48eOXLdPS0kJ/+MMfKCoq6hINWq2WRo4cSTt27BD6SQq73U7vvPMOJSUlkUKhuEiDSqWivn370ocffkgOh0OYc/7rX4mUSnce5MyZRBc+JNFZwnlVFdHs2e7fKZVEf/6zONfi2LFjNHXqVPLx8bmkPQUFBdFDDz0k9MMLncW1r68vzZo167Jx3f4k3KJFi6igoKBLNbTHtdFovCQm1Go1ZWZmXmtcmzx+1jsmJgYvvfQSpk2bhm3btqGkpAQulws9e/ZEVlYWxo4d26WLOCqVCgqFAi6X64pDCYPBgCeffBLjxo3D5s2bUVhYCIvFgujoaIwYMQITJkwQ/vlcjUaDRYsWIS0tDRs3bsSpU6fQ0NCA0NBQDBo0CJMnT0ZcXFyX3uV/TE4OsHYt8N13wLp17uHzX/8KxMS02+PlP1dRATz2GPDZZ+6/p6cDCxaIcy1SU1OxatUqfPXVV9i7dy9KS0uhVquRlJSErKwsjBw5UvgNWtrjevr06di5cyeKiorgcrnQvXt3ZGRkYMKECZdd2LRarXA4HFCpVF2+P0J7XE+aNAmbN29GXl4ezGYzoqOjMXjwYEyZMgXR0dHXNlKln7hUZbPZQETw8fERIijz8/Pxxz/+EU6nEw899BAyMjI6/YzD4YDT6YSPj4/XvjbC6XTCbrfDx8dH6M2KN28G7rnHnQOpVLr3mHzsMaB/f+Bf/wLaU/p69wbuu8/99//5H+Crr9yr3VFRwIoVgKCjWBARbDYbFAqFx9kJIiE3rgsKCrBmzZqOqblrNaLrwc8Y1+afbJSiUVxcjD/+8Y9oamrCsmXLMH78eDDiIEnuLdaefBJoT+8MCQEGDgSGDQPaN58qLXXvep6bC7Sn+RmNwJ/+BCxc+EMiOtPV11OC3W7veKPATfp+KvNNtx+lTqeDTqeDJEmyHi1jbixKpXsDXqPRveXazp3u10Fs2+Y+Ln9N3Qs3jz8OjBnDJinW9VTeEvu+3nRG2Z5A2z4EYsQ0y7FjgUGDgI0b3Zvz7tnj7jm2J6Or1e5HHdPT3XtSTp36Qy4mw7BR/gw9Sr1e3/FydkZcgoPdw+gZM4D8fHceZXvudmgo0KcPkJLifuSRYdgof0Y0Gk3H6pzcjSOYrkWvB4YMcR8MI+Qo6GYTpFKpEBYWBoVCgaamppv6PR4Mw7BRXjPtRllfX8/Db4Zh2Cgvh7+/P1QqFVpaWnhBh2EYNsorGaVarYbVauV5SoZh2CgvR2BgIPz8/GCz2brkdRQMw7BRCk9wcDCCg4Nht9uF2N2bYRg2SiGH3sHBwXA6nWyUDMOwUV4OtVqNgIAAuFwuNDQ0dLrRMMMwzC1nlAqFAnFxcejVqxeio6Nxk+37wTDMjfYUukldpH2fPF9fX6jVar7SDMNcK+ab1igZhmF+LqPkDasYhmE6gY2SYRiGjZJhGIaNkmEYho2SYRiGjZJhGIaNkmEYho2SYRiGjZJhGIaNkmEYhmGjZBjm2mlra4PJZLolN5nh3SIYhpHFzp07sX37dowcORITJkyARqPhHiXDMEw7VqsV+/fvR35+Po4cOQJJknjozTAMcyHnz59HaWkpNBoNBg8eDB8fHzZKhmGYC8nNzUVjYyOCgoKQkpJyy+lno2QY5qqYzWacOHECkiQhNTUVsbGxbJQMwzAXUl5ejrNnz0Kr1WLw4MG31CIOGyXDMLLYv38/WlpaEBMTc0sOu4FbPD1IkiSYTCbY7Xao1Wr4+/t73ft1iAgWiwVWqxUKhQJ6vd4rJ9qtVissFguICH5+fvD19fU6DXa7HWazGS6XCzqdDnq9HgqFwqtjpL6+HseOHQMA9OvXD+Hh4WyUnmCz2VBRUYHS0lK4XC706NEDMTEx0Ol0XiG8uLgY77zzDr755hu0trbCx8cHgwcPxj333IPBgwd7hWHW1tbik08+wdq1a1FfXw+lUomkpCQsXboUWVlZXnEtTCYTNm7ciPfffx/l5eUgIhiNRsyfPx9Tp05FcHCwVxjkrl27sHLlSuTn58PhcCA4OBjTpk3DvHnzEBMT4zWGYLPZUF1djeLiYhARioqKUFxcDIPBgPT0dK/Q4HK5UFtbi+LiYpjNZkRHR6N79+4wGAzXfuMiD5Ekifbu3Ut33303xcXFUVBQEAUGBlKPHj1o/vz5tH37dnI4HCQqLpeL1q1bRwMGDCClUkkALjqMRiMtX76cmpubSWQOHDhA48aNI41Gc4mG4OBguu+++6isrExoDcXFxbRw4ULS6/WXaPD19aVJkybR0aNHhdbQ2NhITzzxBIWGhl6iQa1W09ChQ2nz5s0kSZLQOtrjetGiRZSQkNAR10FBQRQVFUVLliyhhoYGEp0zZ87Qk08+Sf369aOQkBAKCAggo9FIo0ePpvfee4/MZvO1fK3JY6P87LPPqGfPnpc0ivYjPDyc/vnPf5LT6RSyIteuXUtRUVFXPH8ApNVqafny5cIa/vHjx2no0KFX1aBQKGjhwoXU1NQkpIbKykqaOXPmVTUAoMzMTDp79qyQGux2Oz3xxBOkVquvqiEhIYG+//57oQ2ms7gODQ0VOq7bOw9paWlX1ODr60uPP/44mUym62uU3333HSUkJHTauCMiImjLli3CVWRNTQ2NGDGi0/MHQFFRUUI2bpvNRnfffbcsDTqdjlatWiVko37++edJoVDI0vH000+Ty+USTsOWLVsu25O83DFr1ixqbW0V9sbbq1cvr43r9tgeN26crJh47bXXPDZK2aveTqcTq1atQlFRUadla2pq8MYbb8BqtQo1d/Hdd9/h6NGjsspWVVXhq6++Em7+JT8/H9u2bZO9QLJhwwY4nU6hNNTV1WH9+vWyN1f44osvUF9fL5QGh8OBVatWyT6vnTt3orCwUMg5vVWrVuHMmTOy4vq1116DyWQSTsMXX3yBb7/9VlZMvPHGGygtLfXo+2UbZUVFBXbu3Cn7i48ePYqamhrhTKatrU12+YKCAjgcDqE0nDt3zqN6LSkpQWNjo1AaampqcO7cOY/KV1RUCKXBbDYjPz9fdvmWlhacPXtWOINpaWnB/v37ZZfftWsX8vLyhNIgSRL27t0rO1ZPnjyJXbt2XR+jbGpqQkNDAzwpX1lZKdzqpKfBIJpR2u12j7a5slqtsNlswvXGXC6XR+UtFotQGpxOp0dtoz0VTTRqa2s9itOmpiZUVVUJd9Py5MbrcDhQVlZ2fYxSpVJBqZSfn65UKoXL4A8PD/coPSAmJka4fL7Q0FCP0n7Cw8MRFBQklIaAgAAYDAbZ5Q0GAyIjI4XS4Ovri5CQENnlfXx80K1bN+GMUq1We5QKp1AooFKphNJwLV7jqQbZzhcWFobu3bt7FKCi5Y9lZmbKPietVovhw4cLlzDct29f9OvXT3b5tLQ0+Pv7C6UhJiYGmZmZssv3798fUVFRQmnQ6/WYMmWKbJOJj49HUlKScEYZERGBnj17yi4fHR3tUfkbdS2Sk5M9Kt+7d+/rY5SRkZGYMGGC7C/OyspCWFiYUBWakpKCKVOmyCo7fPhwTJw4UciGfdddd8HPz6/TsnFxcbjrrruE06DVapGTkyOrlxgQEIClS5fK0nujmTt3LgYPHiyr97JgwQKPOho3smc8ZswY2aPFyZMnC2n4WVlZskcpGRkZyMjI8Ow/8GSNvLCwkEaPHt3pEny/fv3oxIkTQqYRnDt3jmbOnHnV3LeUlBTavn27sPliZrOZnnjiCfL19b2ihsjISHrnnXeETXR2uVz0xhtvUFhY2BU16PV6euaZZ8hqtQp7Lb788ktKTEy8oga1Wk2LFi2iuro6YTVUVFTQmDFjvDquLRYL3XPPPZ2mnEVGRtLGjRuvf8L50aNHafz48aRSqS45CZVKRWlpabR161ahk2trampo+fLllJiYSDqdjtRqNSmVStJqtZSZmUkHDx4U/gkEk8lEb7zxBg0cOJD0ej2p1WrSaDQUHBxMU6dOpS1btgidHExE5HA4aP369ZSVlUUBAQGk0WhIo9GQwWCgjIwMeuedd8hisQj/RMuePXto1qxZFBYWRlqtltRqNfn5+VG/fv3ohRdeENok2zl48CD17dv3ig8vDB48WPi4Li8vp0WLFl2xA9GzZ09atWrVtcSFSUHk+ZuCqqqq8NFHH2HLli2orKyEJEmIjo7G2LFjkZOTI+QQ48e4XC6UlJSgoKAANTU1OHHiBI4cOYLu3bvj4YcfRmpqqvAaiAiVlZUoKChAeXk5NBoNEhISkJSUhICAAHgL9fX1KCgoQElJSce+AcnJycJN3VwNk8mEwsJCFBcXw2QyISYmBr169YLRaPRoEbSrOHnyJJ5//nmcOHECOp2uIzMhKioKGRkZuPvuuxEfHy+8jpaWFnz55ZdYu3YtCgsLYbVaERoaioEDB2LRokUYOHDgtVwP8zUZZTtWqxVNTU2QJAnBwcFeueNLO+Xl5fjTn/6EiooKDB8+HP/3//5fr9bDMHKx2Wx47bXX8O233yIyMhK//vWvERoaCqfTieDgYOh0Oq/bBcnpdKKpqQk2mw2BgYE/dScn80+61el0OkRFRcFoNHq9qcTExCArKwtqtRrHjh3zKAmXYbyZI0eO4ODBg1Cr1Zg0aRJ69+6NiIiIjrj2xq3i1Go1wsLCEBMTA39//5+sgTfu/Q8KhQJjx45FfHw82trasGnTJtTV1XHFMDc19fX1+OKLL2A2m5GcnIyRI0dypbBRXp3Q0FDceeed8PX1xdmzZ/H111/fcq/lZG4dXC4XPv/8c5w+fRp6vR533nmnV+z/yUYpAGlpaUhLS4PL5cKOHTtkbQLCMN7I6dOnsWvXLrhcLgwcOBADBw7kSmGjlIefnx+ys7MRGRmJuro6bNiwQbjnjBnmp2IymbBhwwY0NjYiLCwMU6dO5cVLNkrPiI+Px6RJk6DRaHDgwAF89dVX+AnJAQwjHDt37sTRo0ehUqlw++23C/m0DRulFzBmzBj0798fdrsdmzZtwqlTp7hSmJuCyspKbN68GTabDUOGDMEdd9zhFbmebJQCYjAYMHnyZAQGBqK+vh6ff/45zGYzVwzj9fj7+2PAgAEwGo3Izs5GYGAgV0on/KSE85sdSZKwevVqrFmzBiqVCvPmzUN2djbffRmxcDqB8+eB8nL3nyYTEBAAdO8OxMQAUVHAj3Y5amtrQ2VlJXr06CHctmkCYmaj7ISmpia8+eab2LdvH4KCgvDQQw/x6iAjBnY7sH8/8PHHwNdfA5WVgM0GSBKgUgE6ndsox40D7roLSEu7xDAZNsqfjZKSEvztb39DWVkZUlJS8Ktf/QpGo5Erhuk6ysuBP//ZbZK1tZ2Xj4oC7r8f+PWvgdBQrj8PjVK1fPny5VwPVycoKAgajQbHjx9HdXU1WltbMWDAAOF2cGduESorgYcfBlatAsxmQKkEEhOBO+4Apk51H0OGuM3RbAZaWtzD8e++A+rrgeHDAcE2cxYcB/fDZTJy5MiOp3X27duHnj178nwlc+NpbgaeegpYswYgAiIjgWXLgAULgPh495C7HacTyM939zpXrABqaoC33wZcLuDll93zmIwsuEcpE7VajR49eqC4uBiVlZUoKSlBdHS0kO9BYW5SiIDXXgNeesltdv36Af/8J7B0KRAW5u5ZXohSCUREAKNHA716AXv2uI02Lw+IjnbPWTKyepTcHfKAsLCwjv02m5ub8eGHH6KgoIArhrkxHDrk7gk6HO5h9d/+BkyceHEv8rLdIRUwfTrw/PPuXqTN5jZYD95ceKvDRukhKSkpyMnJQUBAAMrLy/Hxxx+jvr6eK4a5/nz1FVBa6v55/nxg7FjPPj9zJtD+3qvTp4Ht27lO2SivH2lpaZg2bRp8fHyQm5uLd999Fy0tLVwxzPWjtdWdAgS4h9Pz53fek/wxvr7uYXpQkHv+cssW9xCe6RRezLkGVCoV7rzzTtTV1WHLli3YvXs3evfuLeRbG5mbhMZGd0oQ4F60KS0F3n/fw26R0r0inpoK7NoFFBe7V8R5azU2yuuFTqfD3Llz0dTUhLa2Nq94xw7jxdTVuVN8AKBHD+DkSeDVVz03yiFDgPYc4Lo6d7oQGyUb5fUkKCgIS5cu7XgJE8NcNxwO9xM3AODjA1zrqw0Uih+eznE63QfDRnm9CQ8P50pgbsRd2W2QAFBdDfTt6+4ZepLHq1QCWq07RQgADAb3wbBRMsxNQWio+zh/3j23OGECMGuWO7fSE6NsaHDnUQJAt27u/EuGjZJhbpoe5ZAhwLFjbqM8cAC4917Pv+e994CzZ90/Dx78Qy+Vufo9hquAYbyhS6N2r1jrdO75ynfecfcuPSEvz/04IxEQEgJMnsz1ykbJMDcZY8YA06a5f96zB/jDH9yr1nKorAR+9zv3s98AkJ0NDBrEdcpGyTA34fD7qaeA3r3dK+D/+hdw331Abu4PK+I/xuUCDh92b7G2bp373/r2Bf7rv9y9U0YWvB8lw3gJTqcTCoUCqi+/BB588IfHGXv2BObOBbKy3As0fn7u7dWKi4FvvgE2bPihbK9e7ufFJ03iCpUPb9zLMN6AyWTCp59+iqioKEycMMH9+OF//Rdw4UvvdDr3yni7UdbVuXdBbycjw73z0LBhXKEeGiWvejOM4NTX1+Pjjz/Gzp07ERISgl69eiH+jjuADz8E3nrL3WMsLwes1ksXeJRK97tzZs0CHnjAvcEvw0NvhrmZKC0txXvvvYcjR44AAPr27Yv7778fMTEx7eNx905AW7e6F2rKygCLxb2DeY8e7vnMrCwgKYnfl8NDb4a5uZAkCfv27cPq1atRWloKtVqNMWPGYM6cOQi90jtvJAloa3Obp0bj3i3oWh91ZNgoGUZkbDYbNm/ejPXr16O5uRm+vr6YOnUqsrOz4evryxXUBUbJfXGGEYiGhgasXbsWW7duhdVqRXBwMGbNmoXx48dDq9VyBXURbJQMI8hQ+9ixY/jss8+Ql5cHSZKQnJyMOXPmYODAgfwSOzbKroWI4HK5oFQqhWqMRASFzPklIoL0n4Rjlae7XguE6z+7bXuzBkmSIEkSVCqV7OtnMpnw9ddfY+PGjWhsbIRWq8WoUaMwZ84c3r7P242SiGA2m1FbWwtJkhAREQF/f3/ZjaOraWlpwRdffIFvvvkGzc3N0Ol0SEtLw+zZs7v8zYoulwvbtm1DXFwcEq+SzmGz2bBjxw5s2LABNTU1UKlUSElJwdy5c9G7d2+vuBYulwuHDx/Gv//9b5SUlECSJMTGxmLmzJkYNmyY17w7vaCgAP/+979x8uRJ2Gw2hIWFYcqUKRg7diz8/Pyu+LnS0lJ8/PHHOHToEBwOBwICAjB9+nRMmDChy+YjLRYLampq4HK5vC6u27Hb7aipqUFbWxtCQ0MRFBT0kzpC17SYU1ZWhvfeew/ffPMNKioqIEkSjEYjxowZg4ULFyI+Pl7oij1y5Aiee+45fPXVV2hra/vhrqFWY9CgQXj44Ycxe/bsLpsTys3Nxd///nfo9XpkZ2fjtttug+5Hj5uVlpbi+eefx+rVq9HY2PjDBVUokJSUhPvvvx/33XcfAgR+d3NTUxP+/ve/Y8WKFShvf83Bf4iKisLcuXPx+OOP/5AKIyA2mw3vv/8+/va3vyEvLw8XhlNgYCAmTpyI3/72t5fsgG+xWPDdd99h06ZNKCsrg0KhQHJyMqZPn45BgwZB3QWpPGVlZfjggw+wbds2lJaWQpIkREdHY8SIEViyZAmSk5OFN8yGhgZ8/vnnWLduHQoKCmC1WhEWFoYBAwZgyZIlGDZs2LWMWMwgD9m/fz9lZGSQUqkkABcdSqWSUlNTaePGjSQqe/bsodTU1EvO/cIjKCiI3n77bZIkqUvOccOGDbRw4UKaMWMG5eTk0EsvvUSnT58ml8tFRETnz5+n7Ozsq2rQarX09NNPk9VqFfI6tLa20sMPP0wajeaKGhQKBc2bN4/q6uqE1OByuejVV18lg8Fw1WsxYsQIys/PJyIiSZKosLCQ/vKXv9D8+fNp+vTptHDhQnrzzTeppqamy7RcLa4VCgX16dNH6LgmIjp37hzNnj2btFrtZa+D0Wik1157jRwOh6dfbfLIKPPy8ig9Pf2qjQIAJScn05EjR4SryJaWFpo8eXKn5w+AkpKS6OTJk11ynjabjfbu3UtPPPEEzZo1i2bMmEH3338/rV69mmpra+nRRx8lhULRqYagoCDatGmTkI16xYoVpNPpOtWgVqvp5ZdfFlLD4cOHqUePHrLa07Jly+j8+fO0Zs0aWrZsGc2cOZNmzZpFjz32GH333Xdks9m6TEdpaSllZGR4bVy333gXLFjQqYbQ0FBau3bt9TNKSZLoN7/5jaxGAYDuv//+a3Hu68qWLVsoMDBQtoYXX3yxS8+3pqaGVq5cSQsWLKAZM2bQnDlzaNmyZdStWzfZGhYtWtTRExWFpqYmGj9+vGwN6enp1NDQIJQGp9NJv/rVr2RrCA0NpSVLltCcOXNoxowZdPfdd9O7775L1dXVXa7l+eefl3XjBUD33Xdfl5r6lfjss89Ir9fL0pCVlUW1tbUeGaXs2c3q6mps2bJF9qB+165dqK2tFWr+4ujRo2huf1+IDE6dOtWxEtsVhIeHIycnB7/61a/Qr18/KBQK5ObmoqKiQvZ3nDlzxiPNN4KqqiqcunAzBxlzZ1VVVUJpMJvNOHDggOzyjY2NyM/Ph0KhQEpKCv7P//k/mD9/PiIiIrpUh8ViwY4dOyB3qWLz5s04ffq0cHOTO3fuhNlsllV2//79+P7776/PqnddXR3Oe7Cjcnv56OhoYSrT1P66Tw8mhm0221VXLa83Pj4+SE9PR0pKCr799lu89dZbshs1ALS2tsJkMiFYoFeSWq1W2Gw22eXb2touWrASZVX1woVAOVkioaGhyMnJwahRoxASEiKEjpqaGpS2b8HmQXmRXs9sMplw5swZj24Onpq92pML7UmAXpjbJwqergCHhYXBR5B3igQFBWHatGmw2+34+uuvZRtNYGAgDIK9ac/Pz++SVfzOyotiLO1otVr4+/t7dMNbsmQJpk+fLpSO9rzP6+UDN4Jr8RpPNSg9CdQrPox/GYKDg4XqTQLAsGHDPNLQv39/4ZKf09LSrppb+WP69OmDwMBAoTQYjUYM8uA1BHFxcTAajUJpMBgMyMzMlF0+IiIC/fv3F27IGh4e7lHdBgUFCZcE7+/vj7i4OI9ucrGxsdfHKKOjozF69GjZXzx48GDh3nk9aNAgjBo1SrbBTBJwF+jY2FhMmzZNloEHBgZi1qxZwuW+6fV6zJ49G3q9Xlajnj9/vnD5oAqFAgsXLpR905o+fbpHwXwjDX+YBxv5jh49GikpKcJdi/T0dNl5z6mpqcjIyPC42yqbffv2UUpKSqerSkajkXbu3ClkGsHBgwdpyJAhVz3/sLAw+uCDD4TNF6uurqZ58+ZdNucNF+S0Dho0iF599VU6ceIEtbW1CaXBYrHQU089RT4+PlfUoFKpaPHixdTY2CjkdZAkid566y0KDg7udJW1qKhI2PaUl5dH/fr18+q4rq+vpzvvvLNTDX5+fvT2229f3zxKIqJNmzZRcnLyFU+kW7dutHLlSuFSUi7k5MmTlJOTQwEBAZckaY8cOZLWrVsnXGrTj6moqKBHHnmEIiIiLsk7TEhIoNtuu42ys7Np5syZtGTJEnr22Wfpq6++oqqqqi5LpL9cXutf//pXio+Pv8j0FQoFde/enZ566ikh0meuht1up48++ogGDRpEarX6kpSgpUuX0pkzZ0h0Ootro9EofFzn5ubSqFGjrpjqZDAY6JlnniGLxeKxUV7TI4y5ubl49dVX8cUXX6D+P6/LDA4OxsSJE/HAAw8gLS1N+I0NzGYz9u/fj9zcXFRVVSEwMBB9+vTBiBEjujxlQy4OhwNHjx7FoUOHUFZWBq1Wi169emHw4MFwOBzYvXs3du/ejZaWFhARNBoNoqOj0bt3b4wYMQLJyckeLapcr8WE06dPY9++fSguLobL5UJ8fDzS0tLQu3fvLnmU71ooLS3Fvn37cObMGZhMJnTr1g2DBw/GoEGDuryOPYnrf/7zn9i0aRNqampARAgMDERWVhYeeughZGZmCr+LUUlJCVatWoWPPvoIxcXFkCQJfn5+GDJkCB588EFMmTLlWhZor33jXqvVivz8fJw/fx5EhOjoaPTp04c3FhUIu92OwsJC7NmzB7m5uaiurobdbodCoYDBYEBiYiIGDhyIgQMHIiYmhrfyYmC323HmzJmOZ72joqKQkpLi0Qp/VyNJEs6dO4eCggLYbDaEhoYiJSXFo4Xcn80oGe/B5XKhoaEBubm5OHz4MPLy8tDa2gqn0wm1Wo3U1FT85je/6dJ8UYYReQDKRnmLYbVaUV5ejtzcXJw4cQIFBQUYM2YMli5dyj1KhmGjZH6MxWLB2bNnERoaKlzOK8OwUTLMdcLhcMBsNsNkMqG5uRklJSXw9/f3ioUIRlyj5HfmMDfUxC58TYJSqew0Gb798bT2P10uF5xOJxwOB6xWK+rr61FfX4+mpia0tLSgrq4OFRUVaGpqgtVqRVtbG/r27Yvhw4cL8zgq432wUTI3BJfLhc8++wwnTpyAwWCAXq+Hj48PfHx8oNVqoVKpOnp87YbocDhgs9lgtVphMplgsVjgcDhgt9ths9lgt9thtVphtVrhdDo7DLXdhNVqNfR6PQwGQ5fuAsWwUTKMLJxOJ4qKipCbm9uRY+vJy9Mu/FOhUHR8VqlUQqVSwc/PDwaDoWOPgZ49eyI0NBQhISGIjIzktDWGjZLxDqKjo5GSktIxfG7vObb3BH9shO0mqFQqodFooFarodFo4O/vj+DgYAQHByMkJKSj1xgUFISgoCDodDqvfpMjIx68mMPcMOx2OxwOR4c5th8X/r29l3ihSV74d7VafdG/M8wNgFe9GYZhOjNKviUzDMN0AhslwzAMGyXDMAwbJcMwDBslwzAMGyXDMAwbJcMwDBslwzAMGyXDMAwbJcMwDMNGyTAMw0bJMAzDRskwDMNGyTAMw0bJMAzDRskwDMNGyTAMw0bJMAzDsFEyDMOwUTIMw7BRMgzDsFEyDMOwUTIMw7BRMgzDsFEyDMPcCqhv9QogIrS1tcHhcMDPzw8ajcYrdVitVthsNuh0Ovj4+HilBofDAYvFAo1GAz8/P6/U4HK5YDaboVQqodfroVAo2GVuZaMkIrS0tKCsrAyVlZUwGAyIj49HWFgYlErxO6p2ux27d+/Gxo0bkZ+fj7a2NsTExCAjIwNTpkxBTEyM8BokScKxY8ewYcMGHD9+HA0NDQgLC8PQoUMxdepU9OrVyyuuRXFxMdatW4fDhw+joqICBoMB/fr1w8SJEzF8+HCvuHnV1tZi48aN2L17N4qLi6HRaJCSkoIxY8Zg3LhxXmX8ra2tKCkpQWVlJfz9/dGzZ0+Eh4dDrfaeflVbWxvKy8tRVlYGtVqN2NhYGI1GaLXaazY8j2ltbaV//etflJmZSdHR0RQQEEChoaHUv39/+u///m8qKioikWlsbKQnnniCQkNDCcBFh1qtpqFDh9LmzZtJkiRhNdhsNvrHP/5BPXr0uESDUqmkxMREWrFiBdntdmE1SJJE69evpwEDBpBSqbxER3h4OP3+97+n5uZmodvTgQMHaNy4caTRaC7R4O/vT7/4xS+orKyMRKe1tZVWrVpF48aNuyiue/fuTY8//jidPXtWeA12u52+/vprmj17NsXGxlJgYCAFBQVRfHw8LV26lA4dOnQtcW3y2Cibmpro17/+Nel0uksaRfuRkZFBubm5Qlak2Wymxx57jNRq9RXPHwAlJCTQ999/L2yDWLFiBRkMhqtqCA4Opvfff19YDVu3bqXu3btfVYNWq6Xly5eTw+EQUsPp06cpLS3tqhoUCgUtXLiQmpqahL0W3h7X7Sb50ksvUUhIyBU1JCYm0qZNm66/Ub766quk1Wqv2jAAUHZ2tpA9gc8//5z0en2n5w+AcnJyyGKxCKehuLiY+vfvL0tDWloaVVRUCKehpaWFsrOzZWkwGo104MAB4TS4XC564oknZGnw9fWlTz75RFiTkRvXd955J1VXVwup4auvvrrsKPHHR2pqKh0/fvz6GWVhYSENGDBAVsPQ6/X06aefClWRDoeDli5dKuv8AVBERISQd9D/+Z//uexQ9Uo9sjVr1gh5w/L395d9LZ577jnhNFRWVlK/fv1ka5g3b56QPePy8nIaNGiQLA1qtZrefvtt4TRYLBaaNWuW7Gvx6KOPejIEN3k00799+3acOHFCVlmz2Yxdu3YJNcFrMplw/Phx2eWbmppQWFgo3ALOkSNHIEmS7EWrU6dOCTfZfvz4cZhMJtnl8/Ly4HA4hNJw7tw5VFZWyi5fWFiIxsZG4a7FqVOncPr0aVllnU4nvvjiC9hsNqE0nD9/HgcPHpRdfsuWLaiqqpJd3iOjrKiogMvlkl2+pKQEbW1twlSm0+n0KNgkSfIomG+UUdrtdo9vECJmHXiC2WwWzig9PSebzSacwQBAUVERrFar7PJlZWVCxTUAlJaWoqmpSXb56upqj8p7ZJQqlcqjk9doNEKlp+h0OgQHB8su7+Pjg27duomVz6VWIywszKPPdO/eXbjg9FSD0WiEr6+vUBqMRiMMBoNHmoOCgoS7FhqNxqN8T6VSKVx+qKdeo1QqPSvvycn07NnTo5y2uLg4oZKf/f39MXr0aNnlu3Xrhri4OOEa9tixY6HX62WVDQoKQr9+/YTTkJ6eLtvAVSoVBg0aJFxwxsTEIDExUXb5/v37w9/fX7hrkZSU5FGeZ2JionB5obGxsQgJCfGo8+BJeaWnATps2DDZATp27FjhGsXs2bNlGYdKpcKiRYvQs2dP4TRMmjQJkydPllV22rRpsq/ZjWTQoEFYvHixrLv6iBEjMGXKFOE0BAQE4N5775V10+rZsycWLVoEEenduzcGDBgge1SWnZ0t3EMA0dHRGDVqlOzykydPRnh4uPz/wNPVpTVr1nS6BK9UKulXv/oVWa1WIdMIvvzyS0pMTLzqyt6iRYuorq5O2HSO48ePU0ZGxlVz97Kysuj06dPCaqiqqqK5c+eSSqW6oo6UlBTavn27sBrMZjM98cQT5Ovre0UNkZGR9M477wj9AIPcuF62bBm1tLQIqeHQoUPUq1evTle8J0yYQKWlpdc3j9LhcNCbb75J0dHRV0xHuffee6mqqkrYRiFJEu3Zs4dmzZpFAQEBHeeuUqmoT58+9OKLLwptku0UFBTQAw88QBEREaRQKDoMMjY2lh555BGveJKipqaGli9fTnFxcRelPIWEhND8+fPp4MGDwmswmUz0xhtv0MCBAy/KRdTr9TR+/HjatGkTOZ1OoTXcDHFNRLR58+Yr5hgrFAqaOHEinTp1yuNLrCAi8rSb63K58M033+D999/Hvn370NzcDK1Wi9TUVGRnZ2Pu3LkeLZp0Fa2trfj+++9x8uRJ2O12REZGYtSoUUhISPCazQxsNhsOHz6MQ4cOoaWlBUFBQcjIyEC/fv285tlcl8uFvLw87NmzB3V1dfD19cXgwYMxZMgQ2XOxXQ0Roby8HLt27UJpaSlUKhX69OmDESNGeDQX1tXXYevWrVi9ejV27dqFpqYmqNVqpKSkYObMmbjrrru8Iq5PnjyJd955B19//TWqq6uhUCgQGxuLyZMnY8mSJYiNjfX0K83XZJQXBml1dTVMJhO0Wi0iIyM9WgVkGEY8HA4Hqqqq0NraCo1Gg/DwcCFX6zsz/draWjQ2NkKpVCIkJARhYWHX2gH6aUbJMAxzC2DmjXsZhmE6gY2SYRiGjZJhGIaNkmEYho2SYRiGjZJhGIaNkmEYho2SYRjmpkUNwMzVwDAMc0XM/x/pgu1g6coAQAAAAEd0RVh0Y29tbWVudABGaWxlIHNvdXJjZTogaHR0cDovL2NvbW1vbnMud2lraW1lZGlhLm9yZy93aWtpL0ZpbGU6RXhjaXRvbi5wbmcTL5JPAAAAJXRFWHRkYXRlOmNyZWF0ZQAyMDEzLTA5LTA1VDE2OjI2OjIxKzAwOjAwa9FJoAAAACV0RVh0ZGF0ZTptb2RpZnkAMjAxMy0wOS0wNVQxNjoyNjoyMSswMDowMBqM8RwAAABGdEVYdHNvZnR3YXJlAEltYWdlTWFnaWNrIDYuNi45LTcgMjAxMi0wOC0xNyBRMTYgaHR0cDovL3d3dy5pbWFnZW1hZ2ljay5vcmecvblIAAAAGHRFWHRUaHVtYjo6RG9jdW1lbnQ6OlBhZ2VzADGn/7svAAAAGXRFWHRUaHVtYjo6SW1hZ2U6OmhlaWdodAAxMDczgqk2jAAAABh0RVh0VGh1bWI6OkltYWdlOjpXaWR0aAAxMDczEXxlQgAAABl0RVh0VGh1bWI6Ok1pbWV0eXBlAGltYWdlL3BuZz+yVk4AAAAXdEVYdFRodW1iOjpNVGltZQAxMzc4Mzk4MzgxghpBpQAAABN0RVh0VGh1bWI6OlNpemUANDAuOUtCQr1dqpQAAAAzdEVYdFRodW1iOjpVUkkAZmlsZTovLy90bXAvbG9jYWxjb3B5XzdmM2M5ZTFmM2M0Ny0xLnBuZ3B6RH8AAAAASUVORK5CYII=)</center>\n",
        "\n",
        "Excitons act as bosons so the methods introduced above are applicable. The exciton we have considered here only has one state possible in lab frame i.e the exciton has fixed energy = $\\hbar w_{exc}$"
      ]
    },
    {
      "cell_type": "markdown",
      "metadata": {
        "id": "hKo63X2Vi6iF"
      },
      "source": [
        "## Hamiltonian\n",
        "\n",
        "We assume a defect-free flat TMD monolayer and a large excitation spot such that in-plane momentum k is conserved.\n",
        "\n",
        "For simplification $\\hbar$ is taken to be 1.\n",
        "\n",
        "The Hamiltonian for such a system can be split into three parts:<br>\n",
        "\n",
        "$$ H = \\sum_{k} H_{bath}(k) + H_{int}(k)+H_{TMD}(k) $$\n",
        "<br>\n",
        "$$ H_{bath}(k) = \\int_{-\\infty}^{\\infty} d\\omega \\ \\omega \\ [r^{\\dagger}_{k}(\\omega)r_{k}(\\omega)+ l^{\\dagger}_{k}(\\omega)l_{k}(\\omega)]  $$\n",
        "<br><br>\n",
        "$$ H_{int}(k) = \\int_{-\\infty}^{\\infty} d\\omega \\ \\kappa e^{i\\theta/2} \\ x^{\\dagger}_{k}(\\omega)[r_{k}(\\omega)+ l_{k}(\\omega)] + h.c.  $$\n",
        "<br>\n",
        "<br>Here,<br>\n",
        "$ H_{bath} $ captures all the photons in the bath. Their eigenvalues are $\\omega$ (as $\\hbar$ = 1). <br>\n",
        "$H_{int}$ accounts for the interactions between the bath and the TMD layer.\n",
        "<br> \n",
        "\n",
        "$\\kappa$ and $\\theta$/2 are the photon-exciton coupling strength and the coupling phase respectively.<br>\n",
        "\n",
        "Note that only photons and excitons of the same k mode couple with each other because of in-plane momentum conservation.<br>"
      ]
    },
    {
      "cell_type": "markdown",
      "metadata": {
        "id": "oAmJVngCJoc8"
      },
      "source": [
        "## 2. Perfect reflection with no inter-excitonic interactions\n",
        "\n",
        "The Hamiltonian for the TMD, where there are no inter-excitonic interactions are considered:\n",
        "\n",
        "$$ H_{TMD}(k) = \\omega_{exc}(k)x^{\\dagger}_{k}x_{k} $$\n",
        "<br>\n",
        "where : <br  />\n",
        "\n",
        "**k** is the *in-plane momentum* of the bosons (excitons, photons) which is conserved due to a large excitation spot of the TMD layer by the laser leading to translational symmetry in the plane .<br>\n",
        "\n",
        "$r_{k}(\\omega)$ is the *annihilation operator* for a photon of frequency $\\omega$ and in-plane momentum k in the right propagating field.\n",
        "Similarly for the left propagating field.<br>\n",
        "$x_{k}(\\omega)$ is the *excitonic annihilation operator* of the excitons in the TMD layer at a frequency $\\omega$ and in-plane momentum k.<br>\n",
        "\n",
        "$H_{TMD}$ describes the mechanics of the TMD layer. In this system, we will assume no inter-excitonic interactions.<br>\n"
      ]
    },
    {
      "cell_type": "markdown",
      "metadata": {
        "id": "coh9K9PJJodA"
      },
      "source": [
        "*To Note* <br> \n",
        "To simplify the expressions, we have set $\\hbar$ = 1 and expressed frequencies in\n",
        "a frame rotating with the incident coherent field frequency $\\omega_p$\n",
        "<br>\n",
        "<br> Subsequently, we've shown simulations for a *single k* (k=0) so as to decrease computational complexity, this is equivalent to only considering the excitons in mode k=0."
      ]
    },
    {
      "cell_type": "code",
      "metadata": {
        "id": "3DjMT5WoJodC"
      },
      "source": [
        "k=0                              #normally incident light            \n",
        "def w_ex(wp):\n",
        "  return (we + (k ** 2)/m - wp)  # Frequency (energy) of the exciton in the Rotating frame"
      ],
      "execution_count": null,
      "outputs": []
    },
    {
      "cell_type": "markdown",
      "metadata": {
        "id": "Xz2TGHjcJodV"
      },
      "source": [
        "Here one must note the $r$ and $l$ operators create states in the momentum basis, and have to be normalised to be used in frequency basis. $\\kappa$ also needs to be normalised.\n",
        "$$r_k(w) = \\sqrt{\\rho_{env}(k,\\omega)} r_k(k_z)$$\n",
        "$$\\kappa(\\omega) = \\sqrt{\\rho_{env}(k,\\omega)}\\kappa(k_z)$$\n",
        "Where $k_z$ is the photon momenta, and $\\rho$ is the density of states which depends on k, and the pump frequency.\n",
        "$$\\rho_{env}(k,\\omega) = \\frac{1}{c}\\frac{\\omega +\\omega_p}{\\sqrt{(\\omega +\\omega_p)^2 - (ck)^2}}$$"
      ]
    },
    {
      "cell_type": "markdown",
      "metadata": {
        "id": "BU5l0mBXJodY"
      },
      "source": [
        "We now need to solve for $x_{k}$ to understand the dynamics of the system<br>\n",
        "This is done by solving the Heisenberg-Langevin equation which is an operator evolution equation for open quantum systems:\n",
        "\n",
        "$$\\begin{aligned}\n",
        "\\dot{x}_{k}(t) &=\\frac{i}{\\hbar}[H_{}, x_{k}(t)]\n",
        "\\end{aligned}$$\n",
        "\n",
        "$$\\begin{aligned}\n",
        "\\dot{x}_{k}(t) &=\\frac{i}{\\hbar}[H_{TMD}, x_{k}(t)]+\\frac{i}{\\hbar}[H_{bath}, x_{k}(t)]+\\frac{i}{\\hbar}[H_{int}, x_{k}(t)]\n",
        "\\end{aligned}$$\n",
        "\n",
        "And the commutator,\n",
        "$$\\begin{aligned}\n",
        "\\ [H_{bath}, x_{k}(t)]=0\n",
        "\\end{aligned}$$\n",
        "as the operators in both sides act on different Hilbert Spaces \n",
        "\n",
        "$$\\begin{aligned}\n",
        "\\dot{x}_{k}(t) &=\\frac{i}{\\hbar}[H_{TMD}, x_{k}(t)]\n",
        "-\\left\\{i e^{-i \\theta} \\sqrt{\\gamma}\\left[r_{k}^{\\mathrm{in}}(t)+l_{k}^{\\mathrm{in}}(t)\\right]+\\frac{2 \\gamma}{2} x_{k}(t)\\right\\}\n",
        "\\end{aligned}$$\n",
        "<br><br>\n",
        "where $\\gamma= 2\\pi\\kappa^{2}$ is a measure of the strength of radiative decay of the TMD excitons into the right and left moving modes.\n",
        "<br>\n",
        "\n",
        "The $r^{in}_{k}$ and  $l^{in}_{k}$ defined in the above equation refer to the right(left) moving input modes and are defined as follows:<br><Br>\n",
        "$$r_{k}^{\\mathrm{in}}(t)=\\int_{-\\infty}^{\\infty} e^{-i \\omega\\left(t-t_{0}\\right)} r_{k}(\\omega) d \\omega$$<br><Br>\n",
        "Now, the output modes are defined by the following input-output relation<br><br>\n",
        "$$r_{k}^{\\text {out }}(\\omega)=r_{k}^{\\text {in }}(\\omega)-i e^{i \\theta} \\sqrt{\\gamma} x_{k}(\\omega)$$"
      ]
    },
    {
      "cell_type": "markdown",
      "metadata": {
        "id": "woU2c3GkJoda"
      },
      "source": [
        "${x}_{k}(t)$ can be defined similarly to $r^{in}_{k}(t)$, we have:\n",
        "$${x}_{k}(t) = \\int_{-\\infty}^{\\infty} e^{-i \\omega\\left(t-t_{0}\\right)} x_{k}(\\omega) d \\omega$$<br>\n",
        "Taking the derivative w.t to t on both sides we get,\n",
        "$$\\dot{x}_{k}(t) = -i\\int_{-\\infty}^{\\infty} \\omega e^{-i \\omega\\left(t-t_{0}\\right)} x_{k}(\\omega) d \\omega$$<br>\n",
        "Substituting back into the Heisenberg-Langevin equation, for $ H_{TMD}(k) = -i\\omega_{exc}(k)x^{\\dagger}_{k}x_{k} $, we have:\n",
        "<br>\n",
        "$$ -i\\omega  x_{k}(\\omega) = i[\\omega_{exc}(k)x^{\\dagger}_{k}x_{k},x_{k}] -\\left\\{i e^{-i \\theta} \\sqrt{\\gamma}\\left[r_{k}^{\\mathrm{in}}(\\omega)+l_{k}^{\\mathrm{in}}(\\omega)\\right]+\\frac{2 \\gamma}{2} x_{k}(\\omega)\\right\\}$$\n",
        "<br><br>\n",
        "Using the bosonic operator commutation relation,\n",
        "$$-i\\omega  x_{k}(\\omega) = -i\\omega_{exc}(k)x_{k} -\\left\\{i e^{-i \\theta} \\sqrt{\\gamma}\\left[r_{k}^{\\mathrm{in}}(\\omega)+l_{k}^{\\mathrm{in}}(\\omega)\\right]+\\frac{2 \\gamma}{2} x_{k}(\\omega)\\right\\}$$<br><br>\n",
        "Rearranging and simplifying, we get\n",
        "$$x_k(w) = -i(e^{-i\\theta}\\sqrt{\\gamma}) G_0(\\omega,k) [r_k^{in}(w)+l_k^{in}(w)]$$<br>\n",
        "where :         $ G_0(\\omega,k) = \\frac{1}{\\gamma - i(\\omega - \\omega_{exc}(k))}$\n",
        "<br>\n",
        "\n",
        "This allows us to define $r_k^{out}$ in terms of the $r_k^{in}$ and $l_k^{in}$  operator.\n",
        "$$r_{k}^{\\text {out }}(\\omega)=[1-\\gamma G_0(\\omega,k)] r_{k}^{in}(w) -\\gamma G_0(\\omega,k) l_{k}^{in}(w) $$"
      ]
    },
    {
      "cell_type": "markdown",
      "metadata": {
        "id": "P4qNl5mNJodd"
      },
      "source": [
        "Now, we can define the Hamiltonian of the system, and all the relevant operators as follows in code. The output of the function are respective operators for each $\\omega$."
      ]
    },
    {
      "cell_type": "code",
      "metadata": {
        "id": "SO6bmBoeJodf"
      },
      "source": [
        "# Net Hamiltonian\n",
        "\n",
        "def Hamiltonian(wp, K, theta):\n",
        "\n",
        "    w = 0\n",
        "    \n",
        "    # Rotating frame normalization\n",
        "    rho = ((wp + w)/c)/np.sqrt((wp + w)**2 - (c*k)**2)                    # Normalization factor\n",
        "    \n",
        "    K = np.sqrt(rho) * K                                        # Rotating frame normalization\n",
        "    \n",
        "    # Radiative decay of excitons into right(left) moving modes\n",
        "    gamma = 2 * np.pi * (K ** 2)\n",
        "    \n",
        "    # Free propagator\n",
        "    G = 1/(gamma - 1j*(w - w_ex(wp)))\n",
        "    \n",
        "    # Normalizing Right (Left) ladder operator\n",
        "    r_in = np.sqrt(rho) * r\n",
        "    l_in = np.sqrt(rho) * l\n",
        "    \n",
        "    # Output operators for Right (Left) Propagating field\n",
        "    r_out = (1 - gamma * G) * r_in - gamma * G * l_in\n",
        "    l_out = (1 - gamma * G) * l_in - gamma * G * r_in\n",
        "\n",
        "    # Exciton ladder operator\n",
        "    x = -1j * np.exp(-1j*theta) * np.sqrt(gamma) * G * (r_in + l_in)\n",
        "\n",
        "    # Number operators\n",
        "    ne = x.dag() * x              # Exciton number operator\n",
        "\n",
        "    nr_in = r_in.dag() * r_in     # Right--in number operator\n",
        "    nr_out = r_out.dag() * r_out  # Right--out number operator\n",
        "\n",
        "    nl_in = l_in.dag() * l_in     # Left--in number operator\n",
        "    nl_out = l_out.dag() * l_out  # Left--out number operator\n",
        "    \n",
        "    # Non-interacting exciton system\n",
        "    H_tmd = w_ex(wp) * x.dag() * x\n",
        "\n",
        "    # Photon-Exciton Interaction\n",
        "    H_int = K * np.exp(1j*theta/2) * x.dag() * ((r_in + l_in + r_out + l_out) + (r_in + l_in + r_out + l_out).dag())\n",
        "\n",
        "    # Noise Hamiltonian\n",
        "    H_bath = w * (r_in.dag() * r_in + l_in.dag() * l_in + r_out.dag() * r_out + l_out.dag() * l_out)\n",
        "    \n",
        "    H = H_tmd + H_int + H_bath\n",
        "    \n",
        "    return ne, nr_in, nr_out, nl_in, nl_out, r_in, r_out, l_in, l_out, H"
      ],
      "execution_count": null,
      "outputs": []
    },
    {
      "cell_type": "markdown",
      "metadata": {
        "id": "2upIotgRJods"
      },
      "source": [
        "At resonance, for $\\omega_p = \\omega_{exc}(k)$ we see $G_0(\\omega,k) = \\gamma^{-1}$.\n",
        "<br>\n",
        " Below, we've calculated the reflection coefficient for various $\\omega$ and created a plot to show resonance, after finding he expectation value of all the operators on interacting with a coherent monochromatic EM incident field (right)."
      ]
    },
    {
      "cell_type": "code",
      "metadata": {
        "id": "QPXPAcLaJodv"
      },
      "source": [
        "# Coherent Monochromatic Incident EM field\n",
        "psi = tensor(coherent(N=5, alpha=1.0),fock(5, 0), fock(5, 0)) \n",
        "\n",
        "wp_vec = np.linspace(0, 6, 1001) * 2 * np.pi   # Frequency vector\n",
        "\n",
        "K = 0.25                                       # Coupling strength\n",
        "theta = np.pi/2                                # Coupling phase \n",
        "\n",
        "ne_expt = []\n",
        "nri_expt = []\n",
        "nro_expt = []\n",
        "nlo_expt = []\n",
        "\n",
        "ri_expt = []\n",
        "ro_expt = []\n",
        "li_expt = []\n",
        "lo_expt = []\n",
        "\n",
        "for wp in wp_vec:\n",
        "    \n",
        "    ne, nr_in, nr_out, nl_in, nl_out, r_in, r_out, l_in, l_out, H = Hamiltonian(wp, K, theta)\n",
        "    \n",
        "    e = expect(ne, psi)\n",
        "    ne_expt.append(e)\n",
        "    \n",
        "    nri = expect(nr_in, psi)      # Right-in photon occupation probability\n",
        "    nri_expt.append(nri)\n",
        "    \n",
        "    nro = expect(nr_out, psi)     # Right-out photon occupation probability\n",
        "    nro_expt.append(nro)          \n",
        "\n",
        "    nlo = expect(nl_out, psi)     # Left-out photon occupation probability\n",
        "    nlo_expt.append(nlo)          \n",
        "    \n",
        "    lie = expect(l_in, psi)       # Left-in photon expectation value\n",
        "    li_expt.append(lie)\n",
        "    \n",
        "    loe = expect(l_out, psi)      # Left-out photon expectation value\n",
        "    lo_expt.append(loe)\n",
        "    \n",
        "    roe = expect(r_out, psi)      # Right-out photon expectation value\n",
        "    ro_expt.append(roe)\n",
        "    \n",
        "    rie = expect(r_in, psi)       # Right-in photon expectation value\n",
        "    ri_expt.append(rie)"
      ],
      "execution_count": null,
      "outputs": []
    },
    {
      "cell_type": "code",
      "metadata": {
        "id": "D9XeN82oJoeD",
        "outputId": "8c7f09b3-a01a-432a-b810-41ab0d126cbb"
      },
      "source": [
        "#Reflection Coefficient \n",
        "# RC = gamma * G(w,k)  (k=0 here)\n",
        "# Can be calculated by taking expectation value of Eq(8)\n",
        "\n",
        "rc = (np.array(ri_expt) - np.array(ro_expt))/(np.array(ri_expt) + np.array(li_expt))"
      ],
      "execution_count": null,
      "outputs": [
        {
          "output_type": "stream",
          "text": [
            "C:\\Users\\Yuktee\\Anaconda3\\lib\\site-packages\\ipykernel_launcher.py:5: RuntimeWarning: invalid value encountered in true_divide\n",
            "  \"\"\"\n"
          ],
          "name": "stderr"
        }
      ]
    },
    {
      "cell_type": "code",
      "metadata": {
        "id": "I57EvSi_JoeQ"
      },
      "source": [
        "fig, axes = plt.subplots(1, 1, sharex=True, figsize=(8,4))\n",
        "\n",
        "axes.plot(wp_vec/(2*np.pi), rc, 'b', linewidth=2)\n",
        "axes.plot(wp_vec/(2*np.pi), np.ones(len(wp_vec)), ':')\n",
        "axes.set_ylabel(\"Reflection Coefficient\", fontsize=16)\n",
        "axes.set_xlabel('$w_{p}$', fontsize=16)\n",
        "\n",
        "fig.tight_layout()\n",
        "axes.set_title(\" Reflection Coefficient w.r.t wp\")"
      ],
      "execution_count": null,
      "outputs": []
    },
    {
      "cell_type": "markdown",
      "metadata": {
        "id": "v_rzPwzmJoek"
      },
      "source": [
        "It is clearly visible, that at resonance, perfect reflection of the incoming EM wave is acheived. \n",
        "Now, we expand our model to account for the inter-excitonic interactions in the TMD layer and polarization of the incident light. "
      ]
    },
    {
      "cell_type": "markdown",
      "metadata": {
        "id": "JFvJDrEyJoep"
      },
      "source": [
        "## 3. Accounting for inter-excitonic interactions\n",
        "When the input coherent field is incident on the TMD layer at an angle $\\theta\\neq 0$ the polarization of the incoming\n",
        "light becomes important. The coupling constant for the p polarised light is smaller than the s polarised by a factor of $cos^2 (\\theta_{inc})$.\n",
        "\n",
        "This extra input-output relation can also be written as :\n",
        "$$r_{k,\\epsilon}^{\\text {out }}(\\omega)=[1-\\gamma_{\\epsilon} G_0(\\omega,k)] r_{k,\\epsilon}^{in}(w)$$\n",
        "by using an additional polarization label ${\\epsilon}$ = s, p describing polarization of the incoming light."
      ]
    },
    {
      "cell_type": "markdown",
      "metadata": {
        "id": "w4aok6XbJoeu"
      },
      "source": [
        "The excitonic excitations that couple to the s and p polarised waves respectively are spectrally different, but this can be accounted for by the exciton-exciton interactions, leading to different dispersion for each types of light. Each individually, would be perfectly reflected at resonance, but the reflectivity falls below unity for any $\\omega_p$ with an superposition of s and p polarised light. \n",
        "<br> \n",
        "Now the new Hamiltonian for the TMD is given by:\n",
        "$$H_{TMD}^{int} = [\\sum_{k} \\omega_{exc}(k) x_k^{\\dagger}x_k ] + \\frac{g}{2}x_0^{\\dagger}x_0^{\\dagger}x_0x_0 +\\frac{g}{2}\\sum_k^{'} (x_k^{\\dagger}x_{-k}^{\\dagger}x_0x_0 + x_0^{\\dagger}x_0^{\\dagger}x_kx_{-k} + 4x_0^{\\dagger}x_0x_k^{\\dagger}x_k) $$ \n",
        "\n",
        "Where g > 0 and represents repulsive contact interactions and $\\sum_k^{'}$ excludes k=0\n",
        "\n",
        "Subsequently examining this system for a normally incident field on the TMD, ie k=0 and solving the Heisenberg-Langevin equation and substituting in the mean field limit (k = 0, $\\omega=0$), and following the same steps as in the previous case,we get: \n",
        "$$-i\\omega  x_{0}(\\omega) = -i\\omega_{exc}(0)x_{0} -igx_0^{\\dagger}x_0x_0 -\\left\\{i e^{-i \\theta} \\sqrt{\\gamma}\\left[r_{0}^{\\mathrm{in}}(\\omega)+l_{0}^{\\mathrm{in}}(\\omega)\\right]+\\frac{2 \\gamma}{2} x_{0}(\\omega)\\right\\}$$\n",
        "<br>\n",
        "Now, we will take the incident coherent field to have expectation value of the form,   $$<r_{k=0}^{in}(w=0)> = \\beta\\sqrt{\\gamma}$$<br>"
      ]
    },
    {
      "cell_type": "markdown",
      "metadata": {
        "id": "6d2tNZjXJoex"
      },
      "source": [
        "substituting in the mean field, we get:\n",
        "    $$<x_0> = -i(e^{-i\\theta}\\gamma\\beta)\\bar{G}(0,0)$$\n",
        "    <br></br>\n",
        "Where $\\bar{G}(w,k) = \\frac{1}{\\gamma-i(\\omega - \\bar{\\omega}(k))}$   <br>\n",
        "$\\bar{\\omega}(k)= \\omega_{exc}(k) + (2-\\delta_{k,0})g|{\\psi_0}|^2 $   <br>\n",
        "$|{\\psi_0}|^2 = <x_0^{\\dagger}x_0> $  which is the number of excitons for the mode of k=0, $\\omega$=0   <br>\n",
        "\n",
        "This follows the self consistency eqn:\n",
        "$$ |{\\psi_0}|^2 = \\gamma^2 |\\bar{G}_0|^2 |\\beta|^2 = \\frac{\\gamma^2}{\\gamma^2 + \\bar{\\omega}_0^2}|\\beta|^2$$\n",
        "which comes out be an equation of order 3 in $|\\psi_0|^2$"
      ]
    },
    {
      "cell_type": "code",
      "metadata": {
        "id": "o9QigXGlBEeh"
      },
      "source": [
        "#Finding the roots of psi_not_squared, since its a bistable solution, we consider the maxima and minima roots\n",
        "\n",
        "def exc_rho1(g, w_ex, gamma, beta):\n",
        "    roots = np.roots([g**2, 2*g*(w_ex), (gamma**2 + (w_ex)**2), -1*(gamma**2)*(np.abs(beta)**2)])\n",
        "    ne = roots[(roots - np.conj(roots))/(2*1j) == 0]                 #only considering real values of psi_square\n",
        "    ne = np.max(ne)  \n",
        "    return ne\n",
        "\n",
        "def exc_rho2(g, w_ex, gamma, beta):\n",
        "    \n",
        "    roots = np.roots([g**2, 2*g*(w_ex), (gamma**2 + (w_ex)**2), -1*(gamma**2)*(np.abs(beta)**2)])\n",
        "    ne = roots[(roots - np.conj(roots))/(2*1j) == 0]                #only considering real values of psi_square             \n",
        "    ne = np.min(ne)\n",
        "    return ne"
      ],
      "execution_count": null,
      "outputs": []
    },
    {
      "cell_type": "code",
      "metadata": {
        "id": "BxSwM3Tfo11A"
      },
      "source": [
        "wp_vec = np.linspace(1,6,100) * 2 * np.pi\n",
        "  \n",
        "g = 1                                     #repulsive contact interactions constant\n",
        "beta = np.sqrt(3.5/g)                     # Amplitude of incident light with 0 inplane momenta\n",
        "theta = np.pi/2                           #coupling phase * 2\n",
        "\n",
        "# Incident field properties\n",
        "w = 0.0  * 2 * np.pi                       # Frequency (energy) of the incident field in rotating feild fram\n",
        "\n",
        "ri_expt = []                               #array of right incoming field expeactation values\n",
        "\n",
        "ne_expt1 = []                              #Expectation values of n, excitons, and right outgoing field for root1\n",
        "xe_expt1 = []\n",
        "ro_expt1 = []\n",
        "\n",
        "ne_expt2 = []                              #Expectation values of n, excitons, and right outgoing field for root1\n",
        "xe_expt2 = []\n",
        "ro_expt2 = []\n",
        "\n",
        "for wp in wp_vec:\n",
        "\n",
        "    w_ex = we - wp\n",
        "    \n",
        "    # Rotating frame normalization\n",
        "    rho = ((w+wp)/c)/np.sqrt((w + wp)**2 - (c*k)**2) # Normalization factor\n",
        "    \n",
        "    K = 0.25 * rho                                   #coupling factor\n",
        "     \n",
        "    # Radiative decay of excitons into right(left) moving modes\n",
        "    gamma = 2 * np.pi * (K ** 2)\n",
        "\n",
        "    #for root1\n",
        "    ne1 = exc_rho1(g, w_ex, gamma, beta)\n",
        "    G01 = 1/(gamma - 1j*(w - (w_ex + g * ne1)))\n",
        "    xe1 = -1j * np.exp(-1j * theta) * gamma * beta * G01                         #expectation value of x_not\n",
        "    r_out1 = beta * np.sqrt(gamma) -1j * np.exp(1j*theta) * np.sqrt(gamma) * xe1 #expressing rout in terms of xk\n",
        "    ne_expt1.append(ne1)\n",
        "    xe_expt1.append(xe1)\n",
        "    ro_expt1.append(r_out1)\n",
        "    \n",
        "    #for root2\n",
        "    ne2 = exc_rho2(g, w_ex, gamma, beta)\n",
        "    G02 = 1/(gamma - 1j*(w - (w_ex + g * ne2)))\n",
        "    xe2 = -1j * np.exp(-1j * theta) * gamma * beta * G02\n",
        "    r_out2 = beta * np.sqrt(gamma) -1j * np.exp(1j*theta) * np.sqrt(gamma) * xe2\n",
        "    ne_expt2.append(ne2)\n",
        "    xe_expt2.append(xe2)\n",
        "    ro_expt2.append(r_out2)\n",
        "    \n",
        "    \n",
        "    ri_expt.append(beta * np.sqrt(gamma))\n",
        "\n",
        "\n",
        "rc1 = np.abs((np.array(ri_expt) - np.array(ro_expt1))/np.array(ri_expt))**2      \n",
        "rc2 = np.abs((np.array(ri_expt) - np.array(ro_expt2))/np.array(ri_expt))**2"
      ],
      "execution_count": null,
      "outputs": []
    },
    {
      "cell_type": "code",
      "metadata": {
        "id": "vKniGBXBpOby"
      },
      "source": [
        "fig, axes = plt.subplots(1, 1, sharex=True, figsize=(8,8))\n",
        "\n",
        "axes.plot(wp_vec/(2*np.pi), rc1, 'b', linewidth=2, label=\"Root1\")\n",
        "axes.plot(wp_vec/(2*np.pi), rc2, ':', linewidth=2, label=\"Root2\")\n",
        "axes.set_ylabel(\"Reflectivity\", fontsize=16)\n",
        "axes.set_xlabel(\"wp\", fontsize=16)\n",
        "axes.legend(loc=0)\n",
        "\n",
        "fig.tight_layout()\n",
        "axes.set_title(\"Reflectivity w.r.t wp\")"
      ],
      "execution_count": null,
      "outputs": []
    },
    {
      "cell_type": "code",
      "metadata": {
        "id": "BLVVIqq8D7rf"
      },
      "source": [
        "wp_vec = np.linspace(1,6,100) * 2 * np.pi\n",
        "  \n",
        "g = -1                                    # Attractive contact interactions constant\n",
        "beta = np.sqrt(-3.5/g)                    # Amplitude of incident light with 0 inplane momenta\n",
        "theta = np.pi/2                           # coupling phase * 2\n",
        "\n",
        "# Incident field properties\n",
        "w = 0.0  * 2 * np.pi                       # Frequency (energy) of the incident field in rotating field frame\n",
        "\n",
        "ri_expt = []                               # array of right incoming field expeactation values\n",
        "\n",
        "ne_expt1 = []                              # Expectation values of n, excitons, and right outgoing field for root1\n",
        "xe_expt1 = []\n",
        "ro_expt1 = []\n",
        "\n",
        "ne_expt2 = []                              # Expectation values of n, excitons, and right outgoing field for root1\n",
        "xe_expt2 = []\n",
        "ro_expt2 = []\n",
        "\n",
        "for wp in wp_vec:\n",
        "\n",
        "    w_ex = we - wp\n",
        "    \n",
        "    # Rotating frame normalization\n",
        "    rho = ((w+wp)/c)/np.sqrt((w + wp)**2 - (c*k)**2) # Normalization factor\n",
        "    \n",
        "    K = 0.25 * rho                                   #coupling factor\n",
        "     \n",
        "    # Radiative decay of excitons into right(left) moving modes\n",
        "    gamma = 2 * np.pi * (K ** 2)\n",
        "\n",
        "    #for root1\n",
        "    ne1 = exc_rho1(g, w_ex, gamma, beta)\n",
        "    G01 = 1/(gamma - 1j*(w - (w_ex + g * ne1)))\n",
        "    xe1 = -1j * np.exp(-1j * theta) * gamma * beta * G01                         #expectation value of x_not\n",
        "    r_out1 = beta * np.sqrt(gamma) -1j * np.exp(1j*theta) * np.sqrt(gamma) * xe1 #expressing rout in terms of xk\n",
        "    ne_expt1.append(ne1)\n",
        "    xe_expt1.append(xe1)\n",
        "    ro_expt1.append(r_out1)\n",
        "    \n",
        "    #for root2\n",
        "    ne2 = exc_rho2(g, w_ex, gamma, beta)\n",
        "    G02 = 1/(gamma - 1j*(w - (w_ex + g * ne2)))\n",
        "    xe2 = -1j * np.exp(-1j * theta) * gamma * beta * G02\n",
        "    r_out2 = beta * np.sqrt(gamma) -1j * np.exp(1j*theta) * np.sqrt(gamma) * xe2\n",
        "    ne_expt2.append(ne2)\n",
        "    xe_expt2.append(xe2)\n",
        "    ro_expt2.append(r_out2)\n",
        "    \n",
        "    \n",
        "    ri_expt.append(beta * np.sqrt(gamma))\n",
        "\n",
        "\n",
        "rc1 = np.abs((np.array(ri_expt) - np.array(ro_expt1))/np.array(ri_expt))**2      \n",
        "rc2 = np.abs((np.array(ri_expt) - np.array(ro_expt2))/np.array(ri_expt))**2"
      ],
      "execution_count": null,
      "outputs": []
    },
    {
      "cell_type": "code",
      "metadata": {
        "id": "RQMoJUGED_sm"
      },
      "source": [
        "fig, axes = plt.subplots(1, 1, sharex=True, figsize=(8,8))\n",
        "\n",
        "axes.plot(wp_vec/(2*np.pi), rc1, 'r', linewidth=2, label=\"Root1\")\n",
        "axes.plot(wp_vec/(2*np.pi), rc2, ':', linewidth=2, label=\"Root2\")\n",
        "axes.set_ylabel(\"Reflectivity\", fontsize=16)\n",
        "axes.set_xlabel(\"wp\", fontsize=16)\n",
        "axes.legend(loc=0)\n",
        "\n",
        "fig.tight_layout()\n",
        "axes.set_title(\"Reflectivity w.r.t wp\")"
      ],
      "execution_count": null,
      "outputs": []
    },
    {
      "cell_type": "markdown",
      "metadata": {
        "id": "60YPv55BSRm3"
      },
      "source": [
        "As can be seen from the above plots the incident coherent wave has to be:\n",
        "\n",
        "Blue detuned for g > 0 (Replusive exciton-exciton interactions case)\n",
        "\n",
        "Red detuned for g < 0  (Attractive exciton-exciton interactions case)"
      ]
    },
    {
      "cell_type": "markdown",
      "metadata": {
        "id": "NkqGSs9ZJoe3"
      },
      "source": [
        "This entails that at perfect extinction, the exciton flux is equal to the photon influx:\n",
        "$$\\gamma|\\tilde{\\psi_0}|^2 = \\gamma|\\beta|^2 = \\gamma\\frac{\\omega_p - \\omega_{exc}(k=0)}{g}$$\n",
        "where $|\\tilde{\\psi_0}|^2$ is the density of excitons at perfect extinction.\n",
        "<br> Note here , on setting g = 0 no detuning of the input field is required, similar to our original case of resonance at the exciton resonance frequency. <br>\n",
        "To obtain solutions for subsequent coherent excitonic fields, the equations are solved for the perturbations up-to a linear order.<br>\n",
        "\n",
        "Subsequently we've solved for $x_0$ and other operators assuming s-polarised light (a single parabolic dispersion).\n",
        "\n",
        "## 4. Accounting for quantum fluctuations\n",
        "\n",
        "For k $\\neq$ 0 we have:\n",
        "$$x_k(\\omega) = -i(e^{-i\\theta}\\sqrt{\\gamma})G(\\omega,k)\\times ( n_k^{in}(\\omega) + U[\\bar{G}(-\\omega,-k)]*(n_{-k}^{in})^{\\dagger}(-\\omega)) $$\n",
        "where $n_k^{in}(\\omega) = r_k^{in}(\\omega) + l_k^{in}(\\omega)$    <br>\n",
        "and U = $-ig\\psi_0^2$   <br>\n",
        "and $G(\\omega,k) = \\frac{\\bar{G}^{-1}(-\\omega,-k)^*}{\\bar{G}^{-1}(\\omega,k)\\bar{G}^{-1}(-\\omega,-k)^* - |U|^2}$    <br>\n",
        "Noting the difference in the non interacting $x_k(\\omega)$ and in the interacting $x_k(\\omega)$, we see an extra noise term $U[\\bar{G}(-\\omega,-k)]*(n_{-k}^{in})^{\\dagger}$  which accounts for particles violating coupling between excitons and fluctuation in the EM vaccum, and a different propogator $G(\\omega,k)$.\n",
        "\n",
        "The imaginary part of the\n",
        "poles of $G(ω, k)$ gives the excitation spectrum for the\n",
        "dissipative excitonic condensate, while the real part of\n",
        "the poles gives the dissipation rate of the corresponding\n",
        "modes.\n"
      ]
    },
    {
      "cell_type": "markdown",
      "metadata": {
        "id": "tBYtnnOhRw0h"
      },
      "source": [
        "Finally the solution of the right moving operator is \n",
        "$$r_{k}^{out}(\\omega) = u_k(\\omega)r_{k}^{in}(\\omega) + v_k(\\omega)(r_{-k}^{in})^{\\dagger}(\\omega) + \\bar{u}_k(\\omega)l_{k}^{in}(\\omega) + \\bar{v}_{-k}(\\omega)(l_{k}^{in})^{\\dagger}(\\omega)$$\n",
        "where\n",
        "$$u_k(\\omega) = 1- \\bar{u}_k(\\omega) = 1- \\gamma G(\\omega_k)$$\n",
        "$$v_k(\\omega) = \\bar{v}_{-k}(\\omega) = \\gamma G(\\omega_k)U[\\bar{G}(-\\omega,-k)]^*$$\n",
        "\n",
        "<br>The above mentioned $r_k^{out}$ ensures a non-zero expectation value, even for $k\\neq 0$ , this\n",
        "means that the input coherent population at k = 0 is\n",
        "depleted out into output modes with k= 0. As a result,\n",
        "the perfect reflection condition cannot be\n",
        "satisfied even at resonance, and we have an imperfect reflection.\n"
      ]
    },
    {
      "cell_type": "markdown",
      "metadata": {
        "id": "cNO5LOavTEfy"
      },
      "source": [
        "The conservation of input and output photon fluxes (no absorbtion) we get:\n",
        "\n",
        "$$\n",
        "\\sum_{\\sigma=r,l} \\int\\int_{-\\infty}^{\\infty} d^2k d\\omega  <(\\sigma^{out})^{\\dagger}(\\omega)\\sigma^{out}(\\omega)> - <(\\sigma^{in})^{\\dagger}(\\omega)\\sigma^{in}(\\omega)>  = 0\n",
        "$$\n",
        "\n",
        "Using expectation values self consistently , and calculating for the reflection coefficient r, we get :"
      ]
    },
    {
      "cell_type": "markdown",
      "metadata": {
        "id": "xNirTryPTFuJ"
      },
      "source": [
        "\n",
        "$$ |r|^2 - Re(r) + D = 0 $$\n",
        "<br>\n",
        "$$ r - \\frac{\\gamma}{\\bar{\\gamma} - i[\\omega_{exc}(0) + g|r|^2\\beta^2]} = 0 $$\n",
        " Where :\n",
        "$$ 2D = \\frac{1}{2\\pi^3}\\int\\int_{-\\infty}^{\\infty}d^2k d\\omega \\frac{|v_k(\\omega)|^2}{\\gamma \\beta^2} $$"
      ]
    },
    {
      "cell_type": "markdown",
      "metadata": {
        "id": "U5fKhpfJ78xa"
      },
      "source": [
        "### 4.1 Squeezed states\n",
        "Heisenberg’s uncertainty relation limits the possible size\n",
        "that a quantum state has to cover in phase space. It says nothing about how the area should be shaped. \n",
        "\n",
        "We can think of compressing the uncertainty in one particular direction in phase\n",
        "space on the expense of increasing the noise in the orthogonal direction. Such\n",
        "quantum states do indeed exist and are called squeezed states or squeezed coherent states.\n",
        "\n",
        "They are minimum-uncertainty states like the coherent states, but show quantum noise\n",
        "below the vacuum noise in a particular direction in phase space. Such quantum states can\n",
        "be used in high-precision measurements as they beat the classical $\\frac{1}{√n}$ limit."
      ]
    },
    {
      "cell_type": "markdown",
      "metadata": {
        "id": "2vPPYay-8Dwt"
      },
      "source": [
        "Now, the output mode operator also describes squeezing of the right moving output noise.\n",
        "Specifically, the variance in the following quadrature operator allows us to understand these two mode squeezed state\n",
        "$$ (\\Delta X_{\\pm}^2)(k, \\omega) = \\frac{1}{2}<||(r_{-k}^{out})^{\\dagger}(-\\omega)\\pm r_{k}^{out}(\\omega)||^2>$$\n",
        "What we see here is the correlations between the ±k modes\n",
        "manifesting in the fact that the fluctuations in the output\n",
        "field are superpositions of input noise with ±k."
      ]
    },
    {
      "cell_type": "code",
      "metadata": {
        "id": "GF2yl_lRI1fH"
      },
      "source": [
        "def G_(w, k, w_ex, ne, g):\n",
        "    \n",
        "    if k == 0:\n",
        "        G_ = 1/(gamma - 1j*(w - (w_ex + g * ne)))\n",
        "    else:\n",
        "        G_ = 1/(gamma - 1j*(w - (w_ex + 2 * g * ne)))\n",
        "    \n",
        "    return G_\n",
        "\n",
        "def G(w, k, w_ex, ne, g):\n",
        "    \n",
        "    G = np.conj(1/G_(-1*w,-1*k,w_ex,ne,g))/((1/G_(w,k,w_ex,ne,g)) * np.conj(1/G_(-1*w,-1*k,w_ex,ne,g)) - np.abs(-1j*g*ne)**2)\n",
        "    \n",
        "    return G\n",
        "\n",
        "def rin(w, k, wp, gamma, beta):\n",
        "    \n",
        "    # Rotating frame normalization\n",
        "    rho = ((w+wp)/c)/np.sqrt((w + wp)**2 - (c*k)**2) # Normalization factor\n",
        "    \n",
        "    r_in = np.sqrt(rho) * beta * np.sqrt(gamma)\n",
        "    \n",
        "    return r_in\n",
        "\n",
        "def lin(w, k, wp, gamma, beta):\n",
        "    \n",
        "    # Rotating frame normalization\n",
        "    rho = ((w+wp)/c)/np.sqrt((w + wp)**2 - (c*k)**2) # Normalization factor\n",
        "    \n",
        "    l_in = np.sqrt(rho) * np.sqrt(gamma)\n",
        "    \n",
        "    return l_in"
      ],
      "execution_count": null,
      "outputs": []
    },
    {
      "cell_type": "code",
      "metadata": {
        "id": "TWV_HZKULa4e"
      },
      "source": [
        "# Output operators for Right (Left) Propagating field\n",
        "def rout(w,k,gamma,ne,w_ex,beta):\n",
        "    \n",
        "    if k == 0:\n",
        "        G0 = 1/(gamma - 1j*(w - (w_ex + g * ne)))\n",
        "        xe = -1j * np.exp(-1j * theta) * gamma * beta * G0\n",
        "        r_out = beta * np.sqrt(gamma) -1j * np.exp(1j*theta) * np.sqrt(gamma) * xe\n",
        "        \n",
        "    else:\n",
        "        \n",
        "        r_out = (1-gamma*G(w,k,w_ex,ne,g))*rin(w,k,wp,gamma,beta) + (gamma*G(w,k,w_ex,ne,g)*(-1j*g*ne)*np.conj(G_(-1*w,-1*k,w_ex,ne,g)))*np.conj(rin(-1*w,-1*k,wp,gamma,beta))\n",
        "        r_out = r_out + (gamma*G(w,k,w_ex,ne,g))*lin(w,k,wp,gamma,beta) + (gamma*G(w,k,w_ex,ne,g)*(-1j*g*ne)*np.conj(G_(-1*w,-1*k,w_ex,ne,g)))*np.conj(lin(-1*w,-1*k,wp,gamma,beta))\n",
        "    \n",
        "    return r_out\n",
        "\n",
        "def O1(w,k,gamma,ne,w_ex,beta):\n",
        "    \n",
        "    o = np.conj(rout(-1*w,-1*k,gamma,ne,w_ex,beta)) - rout(w,k,gamma,ne,w_ex,beta)\n",
        "    o2 = np.conj(o) * o\n",
        "    \n",
        "    return o2\n",
        "\n",
        "def O2(w,k,gamma,ne,w_ex,beta):\n",
        "    \n",
        "    o = np.conj(rout(-1*w,-1*k,gamma,ne,w_ex,beta)) + rout(w,k,gamma,ne,w_ex,beta)\n",
        "    o2 = np.conj(o) * o\n",
        "    \n",
        "    return o2"
      ],
      "execution_count": null,
      "outputs": []
    },
    {
      "cell_type": "code",
      "metadata": {
        "id": "CDEP64iWLddc"
      },
      "source": [
        "wp = 3.55  * 2 * np.pi        # Frequency (energy) of the exciton in Lab frame\n",
        "we = 3.00  * 2 * np.pi        # Frequency (energy) of the exciton in Lab frame\n",
        "\n",
        "g = 0.1\n",
        "beta = np.sqrt(3.5/g)\n",
        "\n",
        "k_vec = np.linspace(-1,1,50)\n",
        "w_vec = np.linspace(-2,2,50)\n",
        "\n",
        "delx_vec1 = np.zeros((len(k_vec),len(w_vec)))\n",
        "delx_vec2 = np.zeros((len(k_vec),len(w_vec)))\n",
        "\n",
        "for k in range(len(k_vec)):\n",
        "    \n",
        "    for w in range(len(w_vec)):\n",
        "        \n",
        "        if k_vec[k] == 0:\n",
        "\n",
        "            w_ex = we + (k_vec[k] ** 2)/m - wp  # Frequency (energy) of the exciton in the Rotating frame\n",
        "\n",
        "            # Rotating frame normalization\n",
        "            rho = ((w+wp)/c)/np.sqrt((w + wp)**2 - (c*k_vec[k])**2) # Normalization factor\n",
        "\n",
        "            K = 0.25 * np.sqrt(rho)\n",
        "\n",
        "            # Radiative decay of excitons into right(left) moving modes\n",
        "            gamma = 2 * np.pi * (K ** 2)\n",
        "\n",
        "            ne = exc_rho1(g, w_ex, gamma, beta)\n",
        "\n",
        "            delx1 = (1/2) * O1(w_vec[w],k_vec[k],gamma,ne,w_ex,beta)\n",
        "            delx_vec1[k,w] = delx1\n",
        "            \n",
        "            delx2 = (1/2) * O2(w_vec[w],k_vec[k],gamma,ne,w_ex,beta)\n",
        "            delx_vec2[k,w] = delx2\n",
        "\n",
        "\n",
        "        else:\n",
        "            # Rotating frame normalization\n",
        "            rho = ((w_vec[w]+wp)/c)/np.sqrt((w_vec[w] + wp)**2 - (c*k_vec[k])**2) # Normalization factor\n",
        "\n",
        "            K = 0.25 * np.sqrt(rho)\n",
        "\n",
        "            # Radiative decay of excitons into right(left) moving modes\n",
        "            gamma = 2 * np.pi * (K ** 2)\n",
        "\n",
        "            w_ex = we + (k_vec[k] ** 2)/m - wp  # Frequency (energy) of the exciton in the Rotating frame\n",
        "\n",
        "            ne = exc_rho1(g, w_ex, gamma, beta)\n",
        "\n",
        "            delx1 = (1/2) * O1(w_vec[w],k_vec[k],gamma,ne,w_ex,beta)\n",
        "            delx_vec1[k,w] = delx1\n",
        "            \n",
        "            delx2 = (1/2) * O2(w_vec[w],k_vec[k],gamma,ne,w_ex,beta)\n",
        "            delx_vec2[k,w] = delx2"
      ],
      "execution_count": null,
      "outputs": []
    },
    {
      "cell_type": "code",
      "metadata": {
        "id": "8SXi-42LLi-G"
      },
      "source": [
        "fig, (ax1, ax2) = plt.subplots(1, 2, figsize=(10,10))\n",
        "\n",
        "ax1.imshow(delx_vec1, cmap ='viridis', extent =[k_vec.min(), k_vec.max(), w_vec.min(), w_vec.max()],interpolation ='bilinear')\n",
        "ax1.set_ylabel(\"w\", fontsize=16)\n",
        "ax1.set_xlabel(\"k\", fontsize=16)\n",
        "ax1.set_title(\"Anti-Squeezing spectra\")\n",
        "ax1.set_aspect(0.5)\n",
        "\n",
        "ax2.imshow(delx_vec2, cmap ='viridis', extent =[k_vec.min(), k_vec.max(), w_vec.min(), w_vec.max()],interpolation ='bilinear')\n",
        "ax2.set_ylabel(\"w\", fontsize=16)\n",
        "ax2.set_xlabel(\"k\", fontsize=16)\n",
        "ax2.set_title(\"Squeezing spectra\")\n",
        "ax2.set_aspect(0.5)\n",
        "\n",
        "fig.tight_layout()"
      ],
      "execution_count": null,
      "outputs": []
    },
    {
      "cell_type": "markdown",
      "metadata": {
        "id": "e8sRKTXMs9Vp"
      },
      "source": [
        "## 5. Conclusion and Applications\n",
        "\n",
        "In conclusion, we have shown that monolayer TMD's create reliable non-linear mirrors for the simple singularly polarised case, and on mixed polarisation can still reflect most light. Moreover, the exciton exciton interactions lead to interesting phenomena, like the detuning of the frequency for peak reflectivity, as well as fluctuation in quadrature, generating squeeze and anti squeeze states. \n",
        "\n",
        "<br> These squeeze and anti-squeeze states have many applications, a very commonly known one is in interferometers, namely at scientific collaborations like LIGO, for more accurate measurements and to overcome shot noice of the instruments."
      ]
    },
    {
      "cell_type": "markdown",
      "metadata": {
        "id": "W9xXl72xtB8E"
      },
      "source": [
        "## 6. Acknowledgements and Contributions\n",
        "\n",
        "Aditya and Amal handled the theory part of the review going through multiple papers and resources to better understand the concepts and derivation. They were immensely supported by Aakash and Yuktee who provided valuable inputs and suggestions.<br>\n",
        "Aakash and Yuktee handled the bulk of the simulation using the QuTip library in python to simulate the operators and Hamiltonians from scratch. Aditya and Amal were also involved in code review and debugging.<br>\n",
        "This was a team project and we would like to acknowledge that this would not have been possible without the input of each member of the team.<br>\n",
        "We would also like to thank Prof. Anshuman Kumar of IIT Bombay for providing a very interesting topic to work on and without whose classes and method of teaching we would not have this opportunity.\n",
        "\n",
        "\n",
        "Aditya Ranjan  180260003 :     Theory and Derivations   <br>\n",
        "Amal Mathew 180260005 :        Theory and Derivations  <br>\n",
        "Aakash 180260001 :             Simulations and executable paper   <br>\n",
        "Yuktee 180260044 :             Simulations and executable paper <br> \n",
        "\n",
        "\n"
      ]
    },
    {
      "cell_type": "markdown",
      "metadata": {
        "id": "X0Tgy05_teYR"
      },
      "source": [
        "## 7. References\n",
        "\n",
        "\n",
        "1.   Atomically thin semiconductors as nonlinear mirrors,  *Sina Zeytinoglu, Charlaine Roth et all.*\n",
        "2.    Collapses and revivals of exciton emission in a semiconductor\n",
        "microcavity: detuning and phase-space filling effects, *Guang-Ri Jin, Wu-Ming Liu*\n",
        "3. An Introduction to Second Quantization ,*Sandeep Pathak*\n",
        "4. Theory of Excitons and Excitonic Quasimolecules Formed from Spatially Separated Electrons and Holes in Quasi - Zero - Dimensional Nanosystems, *Sergey Ivanovich Pokutnyi*\n",
        "5. http://qutip.org/tutorials.html"
      ]
    },
    {
      "cell_type": "markdown",
      "metadata": {
        "id": "hf9R1xMxaN3G"
      },
      "source": [
        "## Appendix: Endsem Problem\n",
        "Derive the dynamics of the system in the case of the inter-excitonic interactions in the mean field limit ( k=0, $\\omega =0$) from the Hamiltonian given below:\n",
        "$$H_{TMD}^{int} = [\\sum_{k} \\omega_{exc}(k) x_k^{\\dagger}x_k ] + \\frac{g}{2}x_0^{\\dagger}x_0^{\\dagger}x_0x_0 $$\n",
        "Prove that the expectation of the k = 0 mode exciton operator is given by:\n",
        " $$<x_0> = -i(e^{-i\\theta}\\gamma\\beta)\\bar{G}(0,0)$$\n",
        "Where <br>\n",
        "\\begin{align}\n",
        "\\bar{G}(w,k) &= \\frac{1}{\\gamma-i(\\omega - \\bar{\\omega}(k))}\\\\   \n",
        "\\bar{\\omega}(k)&= \\omega_{exc}(k) + (2-\\delta_{k,0})g|{\\psi_0}|^2 \\\\ \n",
        "|\\psi_0|^2 &= <x_0^{\\dagger}x_0> \\  is \\ the  \\ number \\ of \\ excitons \\ for \\ the \\ mode \\ of \\ k=0\\ , \\ \\omega=0 \n",
        "\\end{align}\n",
        "Assume the expectation of the input operator to follow the relation\n",
        " $$<r_{k=0}^{in}(w=0)> = \\beta\\sqrt{\\gamma}$$<br>\n"
      ]
    },
    {
      "cell_type": "code",
      "metadata": {
        "id": "buFL6pF9e_k-"
      },
      "source": [
        ""
      ],
      "execution_count": null,
      "outputs": []
    }
  ]
}
