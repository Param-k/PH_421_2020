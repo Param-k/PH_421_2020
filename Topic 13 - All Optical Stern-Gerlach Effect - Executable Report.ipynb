{
 "cells": [
  {
   "cell_type": "markdown",
   "metadata": {},
   "source": [
    "***Indian Institue Of Technology Bombay***"
   ]
  },
  {
   "cell_type": "markdown",
   "metadata": {},
   "source": [
    "PH421: Photonics - Autumn 2020 - Course Project\n"
   ]
  },
  {
   "cell_type": "markdown",
   "metadata": {},
   "source": [
    "Group members:\n",
    "\n",
    "Himansh Rathore   (180260015)<br>\n",
    "Aniruddha Latkar  (180260020)<br>\n",
    "Bhavya Jain       (180260012)<br>\n",
    "Priyatham Manohar (180260019)"
   ]
  },
  {
   "cell_type": "markdown",
   "metadata": {},
   "source": [
    "***This is an executable report of our study of the paper :\n",
    "Aviv Karnieli and Ady Arie,\n",
    "All-Optical Stern-Gerlach Effect,\n",
    "Phys. Rev. Lett. 120, 053901\n",
    "  {https://link.aps.org/doi/10.1103/PhysRevLett.120.053901} , and the supplementary material provided by the authors along with the main paper***\n"
   ]
  },
  {
   "cell_type": "markdown",
   "metadata": {},
   "source": [
    "# INTRODUCTION"
   ]
  },
  {
   "cell_type": "markdown",
   "metadata": {},
   "source": [
    "The Stern-Gerlach[SG] experiment is one of the key events in the history of Quantum Mechanics as it provides evidence for the quantum nature of the spin angular momentum. Modern Research has paved the way for experimental realisations of physical systems which are analogous to the SG experiment. One such analogy is the All Optical Stern Gerlach experiment. These analogies apart from being aesthetically pleasing, contribute to the understanding of such systems and also lead to new exciting applications. In this paper, we will relate everything that is present in the original SG experiment with its optical counterpart. \n",
    "<br>\n",
    "<br>\n",
    "For e.g, we will show that the Coupled Wave Equations[CWEs], if manipulated correctly transform into the Transverse Pauli Equation which describes the motion of the particle in the Stern Gerlach Experiment. The non-linear coupling and the phase mismatch parameter constitute an effective magnetic field. Consequently, it will be shown that the gradient in the non-linear coupling will deflect the mutual beam into two different directions.\n",
    "<br>\n",
    "<br>\n",
    "This All Optical-SG will serve as a platform in such manipulations of light and their applications. Please see the figure below: (In case the figure is not accessible, use the following google drive link: [https://drive.google.com/file/d/1WkiN0WQEo6M6uYhnTaA2SoJSzgVY-y0h/view?usp=sharing])"
   ]
  },
  {
   "cell_type": "markdown",
   "metadata": {},
   "source": [
    "![Fig](ss1.jpg) $$Figure\\: 1\\: (from \\:the\\: main\\: paper)$$"
   ]
  },
  {
   "cell_type": "markdown",
   "metadata": {},
   "source": [
    "# The Quantum Mechanical Pauli Equation"
   ]
  },
  {
   "cell_type": "markdown",
   "metadata": {},
   "source": [
    "Pauli equation describes the dynamics of a $spin-\\frac{1}{2}$ particle in an external electromagnetic field, under the assumptions of minimal coupling. For a free particle of mass m, the Hamiltonian is:\n",
    "\n",
    "\\begin{equation}\n",
    "    H = \\frac{\\textbf{p}^2}{2m}\n",
    "\\end{equation}\n",
    "\n",
    "The above equation can be re-written in terms of Pauli matrices as:\n",
    "\n",
    "\\begin{equation}\n",
    "    H = \\frac{(\\vec{\\sigma} \\cdot \\vec{p})(\\vec{\\sigma} \\cdot \\vec{p})}{2m}\\tag{1}\n",
    "\\end{equation}\n",
    "\n",
    "For a charge $q$ in an external electromagnetic field given by a vector potential $(\\phi, \\vec{A})$, we use the correct kinetic momentum given by:\n",
    "\n",
    "\\begin{equation}\n",
    "    \\vec{\\Pi} =  \\vec{p} - q{\\vec{A}}\n",
    "\\end{equation}\n",
    "\n",
    "Rewriting equation (1) with the correct kinetic momentum (i.e. replace $\\vec{p}$ with $\\vec{\\Pi}$ in (1)), adding the electric field potential contribution and by using the properties of Pauli matrices and the commutation relations between the components of $\\vec{\\Pi}$:\n",
    "\n",
    "\\begin{equation}\n",
    "    (\\vec{\\sigma} \\cdot \\vec{a})(\\vec{\\sigma} \\cdot \\vec{b}) = (\\vec{a} \\cdot \\vec{b}) + i \\vec{\\sigma} \\cdot (\\vec{a} \\times \\vec{b})\n",
    "\\end{equation}\n",
    "\n",
    "\\begin{equation}\n",
    "   \\vec{\\Pi} \\times \\vec{\\Pi}  = i q \\hbar \\vec{B}\n",
    "\\end{equation}\n",
    "\n",
    ", where $\\vec{B} = \\vec{\\nabla} \\times \\vec{A}$ is the magnetic field. We finally obtain:\n",
    "\n",
    "\\begin{equation}\n",
    "    H = \\frac{(\\vec{p} - q\\vec{A})^2}{2m} - \\frac{q\\hbar}{2m} (\\vec{\\sigma} \\cdot \\vec{B}) + q\\phi  \n",
    "\\end{equation}\n",
    "\n",
    "Thus, the time evolution equation for the 2 dimensional state vector $|\\psi \\rangle$ becomes:\n",
    "\n",
    "\\begin{equation}\n",
    "    i\\hbar\\frac{\\partial |\\psi \\rangle}{\\partial t} =  \\left(\\frac{(\\vec{p} - q\\vec{A})^2}{2m} - \\frac{q\\hbar}{2m} (\\vec{\\sigma} \\cdot \\vec{B}) + q\\phi \\right)|\\psi \\rangle\n",
    "\\end{equation}\n",
    "\n",
    "which is the required Pauli equation."
   ]
  },
  {
   "cell_type": "markdown",
   "metadata": {},
   "source": [
    "## Transverse Pauli Equation"
   ]
  },
  {
   "cell_type": "markdown",
   "metadata": {},
   "source": [
    "We know that the pauli equation gives the dynamics of a non-relativistic charged particle with mass $m$ in an electromagnetic field. In \n",
    "the Stern-Gerlach Experiment, we can make some assumptions and approximation to arrive at what we will call the \n",
    "Transverse Pauli Equation."
   ]
  },
  {
   "cell_type": "markdown",
   "metadata": {},
   "source": [
    "\\begin{equation}\n",
    "i\\hbar \\frac{\\partial }{\\partial t} |\\psi\\rangle = {\\left(\\frac{(p-qA)^{2}}{2m}-\\frac{q\\hbar}{2m}\\sigma\\cdot B +q\\varphi \\right)}|\\psi\\rangle\n",
    "\\end{equation}"
   ]
  },
  {
   "cell_type": "markdown",
   "metadata": {},
   "source": [
    "This is the Pauli Equation where $|\\psi\\rangle$ is a two component spinor."
   ]
  },
  {
   "cell_type": "markdown",
   "metadata": {},
   "source": [
    "The above equation can be reduced to a simpler form in the absence of\n",
    "an electric field, and whenever the magnetic field is transverse and weak (i.e., it is parallel to the xy plane).\n",
    "Now we shall tranform to a frame in which the particle has only transverse motion. If the speed of the particle $v<<c$, the we can neglect the transverse electric field induced by lorentz transformation of the laboratory magnetic field. The motion of the particle in this frame is limited to two dimensions, which is the xy-plane and we can solve the dynamics of the particle along the z-direction separately.  In this case, we can then write $A = \\widehat{z} A_{z}$, yielding\n"
   ]
  },
  {
   "cell_type": "markdown",
   "metadata": {},
   "source": [
    "\\begin{equation}\n",
    "B = \\vec{\\nabla} \\times \\vec{A}= \\hat{x}\\frac{\\partial A_{z}}{\\partial y}- \\hat{y}\\frac{\\partial A_{z}}{\\partial x} \\equiv \\vec{B_{T}}\n",
    "\\end{equation}"
   ]
  },
  {
   "cell_type": "markdown",
   "metadata": {},
   "source": [
    "where the $T$ subscript stands for Transverse field."
   ]
  },
  {
   "cell_type": "markdown",
   "metadata": {},
   "source": [
    "Also, since $\\hat{p}\\equiv \\hat{p}_{T} = -i\\hbar \\vec{\\nabla_{T}}$, we have $p_{T} \\cdot A = 0$. Finally, if the magnetic field is weak, we can ignore\n",
    "the non-linear term in $A$, and obtain the Transverse Pauli Equation.\n",
    "\\begin{equation}\n",
    "\\imath \\hbar \\frac{\\partial }{\\partial t} |\\psi\\rangle = {\\left[\\frac{(p_{T})^{2}}{2m}-\\mu\\sigma\\cdot B_{T}\\right]}|\\psi\\rangle\n",
    "\\end{equation}"
   ]
  },
  {
   "cell_type": "markdown",
   "metadata": {},
   "source": [
    "where $\\mu = \\frac{q\\hbar}{2m}$ is the magnetic moment of the particle."
   ]
  },
  {
   "cell_type": "markdown",
   "metadata": {},
   "source": [
    "# Paraxial Coupled Wave Equations for Sum Frequency Generation(SFG) Process"
   ]
  },
  {
   "cell_type": "markdown",
   "metadata": {},
   "source": [
    "We start with the Maxwell's equations in a medium:\n",
    "$$\\vec{\\nabla} \\cdot \\vec{D} = \\rho$$\n",
    "$$\\vec{\\nabla} \\cdot \\vec{E} = 0$$\n",
    "$$\\vec{\\nabla} \\times \\vec{E} = -\\frac{\\partial\\vec{B}}{\\partial t}$$\n",
    "$$\\vec{\\nabla} \\times \\vec{H} = \\frac{\\partial\\vec{D}}{\\partial t} + \\vec{J}$$\n",
    "\n",
    "where, $\\vec{B} = \\mu_0 \\vec{H}$, $\\vec{D} = \\epsilon_o \\vec{E} + \\vec{P}$.\n",
    "All symbols have the usual meanings.\n",
    "\n",
    "From Maxwell's equations, we obtain under the conditions of no free charge or current ($\\rho = 0, \\vec{J} = 0$):\n",
    "\n",
    "\\begin{equation}\n",
    "    \\vec{\\nabla} \\times \\vec{\\nabla} \\times \\vec{E} + \\frac{1}{c^2} \\frac{\\partial^2 \\vec{E}}{\\partial^2 t} = \\frac{-1}{\\epsilon_o c^2}\\frac{\\partial^2 \\vec{P}}{\\partial t^2} \\label{eq2}\\tag{2}\n",
    "\\end{equation}\n",
    "\n",
    "We can decompose $\\vec{P}$ and $\\vec{D}$ into linear and nonlinear components:\n",
    "    $$\\vec{P} = \\vec{P}^{(1)} + \\vec{P}^{(NL)}$$\n",
    "    $$\\vec{D} = \\epsilon_o \\vec{E} + \\vec{P}^{(1)} + \\vec{P}^{(NL)} = \\vec{D}^{(1)} + \\vec{P}^{(NL)} $$\n",
    "    \n",
    "In a loss-less media, we have $\\vec{D} = \\epsilon_o \\epsilon^{(1)} : \\vec{E}$, where $\\epsilon^{(1)}$ is the real frequency dependent dielectric tensor.\n",
    "\n",
    "Since we have multiple interacting fields, we can write:\n",
    "\n",
    "$$\\vec{E}(\\vec{r}, t) = \\Sigma_n \\vec{E_n}(\\vec{r}, t)$$\n",
    "$$\\vec{D}^{(1)}(\\vec{r}, t) = \\Sigma_n \\vec{D}_n^{(1)}(\\vec{r}, t)$$\n",
    "$$\\vec{P}^{(NL)}(\\vec{r}, t) = \\Sigma_n \\vec{P}_n^{(NL)}(\\vec{r}, t)$$\n",
    "\n",
    "where the summations are over only the positive frequencies. We have:\n",
    "\n",
    "$$\\vec{E}_n = \\vec{E}_n(\\vec{r}) e^{-i \\omega_n t} + c.c $$\n",
    "$$\\vec{D}_n^{(1)} = \\vec{D}_n^{(1)}(\\vec{r}) e^{-i \\omega_n t} + c.c $$\n",
    "$$\\vec{P}_n^{(NL)} = \\vec{P}_n^{(NL)}(\\vec{r}) e^{-i \\omega_n t} + c.c $$\n",
    "\n",
    "Substituting the above in (2), and using the plane-wave approximation (i.e. we can neglect divergence of electric field), we obtain for each n:\n",
    "\n",
    "\\begin{equation}\n",
    "    \\nabla^2 \\vec{E}_{n} - \\frac{\\epsilon^{(1)}}{c^2} : \\frac{\\partial^2 \\vec{E}_n}{\\partial t^2}= \\frac{1}{\\epsilon_o c^2}\\frac{\\partial^2\\vec{P}_n^{(NL)}}{\\partial t^2} \\label{eq3} \\tag{3}\n",
    "\\end{equation}\n",
    "\n",
    "In the case of SFG process we are going to deal with, we have three interacting fields: pump(p), idler(i), signal(s), where $\\omega_s = \\omega_i + \\omega_p$ and the fields are given as ($j = p,i,s$):\n",
    "$$E_j (z,t) = E_j e^{-i \\omega_j t} + c.c$$\n",
    "where, $E_j = A_j(\\vec{r}) e^{i k_j z }$. The propagation direction is taken to be along the z axis.\n",
    "\n",
    "We assume the pump to be non-depleted.\n",
    "\n",
    "We can write the second order polarizations generated by those fields in terms of a scalar relationship:\n",
    "\n",
    "$$P_s = 4 \\epsilon_o d E_p E_i e^{-i\\omega_s t}$$\n",
    "$$P_i = 4 \\epsilon_o d E_p^* E_s e^{-i\\omega_i t}$$\n",
    "\n",
    ", where $d$ represents an effective 2nd order susceptibility.\n",
    "\n",
    "Substituting the above in (3), and invoking the slowly varying envelope approximation (SVEA), we obtain two coupled equations:\n",
    "\n",
    "\\begin{equation}\n",
    "    \\nabla_T^2 A_i + 2ik_i \\frac{\\partial A_i}{\\partial z} = - \\frac{4d\\omega_i^2}{c^2}A_p^* A_s e^{-i\\Delta k z} \\label{eq4}\\tag{4}\n",
    "\\end{equation}\n",
    "\\begin{equation}\n",
    "    \\nabla_T^2 A_s + 2ik_s \\frac{\\partial A_s}{\\partial z} = - \\frac{4d\\omega_s^2}{c^2}A_p A_i e^{i\\Delta k z} \\label{eq5}\\tag{5}\n",
    "\\end{equation},\n",
    "\n",
    "where $\\nabla_T^2 = \\frac{\\partial^2}{\\partial x^2} + \\frac{\\partial^2}{\\partial y^2}$, and $\\Delta k = k_p + k_i - k_s$.\n",
    "Equations (4) and (5) are the required paraxial coupled wave equations (CWEs) for the SFG process we will deal with."
   ]
  },
  {
   "cell_type": "markdown",
   "metadata": {},
   "source": [
    "# Transformation of CWEs to Optical Pauli Equation"
   ]
  },
  {
   "cell_type": "markdown",
   "metadata": {},
   "source": [
    "The time independent, paraxial CWEs for SFG under the approximations of slowly varying envelope and undepleted pump field are given by:"
   ]
  },
  {
   "cell_type": "markdown",
   "metadata": {},
   "source": [
    "\\begin{equation}\n",
    "    \\nabla_{T}^{2}A_{i} + 2ik_{i}\\frac{\\partial{A_{i}}}{\\partial{z}} \n",
    "    = -\\frac{4d\\omega_{i}^{2}}{c^{2}}A_{p}^{\\ast}A_{s}e^{-i\\Delta{k}z}\n",
    "\\end{equation}\n",
    "\\begin{equation}\n",
    "    \\nabla_{T}^{2}A_{s} + 2ik_{s}\\frac{\\partial{A_{s}}}{\\partial{z}} \n",
    "    = -\\frac{4d\\omega_{s}^{2}}{c^{2}}A_{p}A_{i}e^{i\\Delta{k}z}\n",
    "\\end{equation}"
   ]
  },
  {
   "cell_type": "markdown",
   "metadata": {},
   "source": [
    "where:\n",
    "<br>\n",
    "$A_{j}({\\vec{r}})$ with $j = i, p, s$ (for idler, pump and signal respectively) are the slowly varying envelopes of the interacting waves, $\\vec{r}$ denotes the transverse position vector\n",
    "<br>\n",
    "$k_{j} \\simeq k_{z,j}$ and $\\omega_{j}$ are the wave numbers and frequencies, respectively,\n",
    "<br>\n",
    "we set $\\omega_{s} = \\omega_{i} + \\omega_{p}$ in accordance with sum-frequency generation,\n",
    "<br>\n",
    "$d$ is the corresponding effective component of the non-linear susceptibility tensor,\n",
    "<br>\n",
    "$c$ being the speed of light,\n",
    "<br>\n",
    "and $\\Delta{k} = k_{p} + k_{i} - k_{s}$ is the phase mismatch parameter"
   ]
  },
  {
   "cell_type": "markdown",
   "metadata": {},
   "source": [
    "The nonlinear susceptibility is often modulated by a process known as quasi-phase matching (QPM)."
   ]
  },
  {
   "cell_type": "markdown",
   "metadata": {},
   "source": [
    "## Quasi Phase Matching (QPM) Implementation on the CWEs"
   ]
  },
  {
   "cell_type": "markdown",
   "metadata": {},
   "source": [
    "From what we have learnt about QPM in the class , it follows that \n",
    "SVEA and non depleted pump approximation on the CWEs leaves us with\n",
    "$ E_{3} (z) = 2i\\frac{\\omega_3}{n_3c}E_1E_2 d_{eff}{\\left[ G_0e^{i\\Delta kz/2} \\frac{sin(\\frac{\\Delta kz}{2})}{\\frac{\\Delta k}{2}}+G_1e^{i(K_Q+\\Delta k)z/2} \\frac{sin(\\frac{K_Q+\\Delta kz}{2})}{\\frac{\\Delta k+K_Q}{2}}+G_{-1}e^{i(\\Delta k-K_Q)z/2} \\frac{sin(\\frac{\\Delta kz-K_Q}{2})}{\\frac{\\Delta k-K_Q}{2}}\\right]}$\n",
    "\n",
    "where the terms have usual notation that was done in the class<br>\n",
    "$\\textbf{Kindly note that $d_{eff}$ $G_i$ is entirely written as $d_{eff}$ in the remainder of this paper}$"
   ]
  },
  {
   "cell_type": "markdown",
   "metadata": {},
   "source": [
    "## Continuing Transformation of CWEs to Optical Pauli Equation"
   ]
  },
  {
   "cell_type": "markdown",
   "metadata": {},
   "source": [
    "In such a case, we can express the nonlinearity as a Fourier series,\n",
    "\\begin{equation}\n",
    "    d(z) = \\sum_{q} d_{q}e^{iqz}\n",
    "\\end{equation}\n",
    "we substitute these expressions in equations (4) and (5), and keep the terms which oscillate closest to phase matching, similar to the rotating wave approximation in QM(essentially ignoring terms which oscillate fast). As a consequence we will be keeping only **one term** from the series, $q$ being decided by actual values of wavenumbers of the waves."
   ]
  },
  {
   "cell_type": "markdown",
   "metadata": {},
   "source": [
    "Further, we make a transformation given by\n",
    "\\begin{equation}\n",
    "    A_{i} = \\sqrt{k_{s}}\\omega_{i}e^{-i(\\Delta{k}-q)z/2}\\tilde{A_{i}}\n",
    "\\end{equation}\n",
    "\\begin{equation}\n",
    "    A_{s} = \\sqrt{k_{i}}\\omega_{s}e^{-i(\\Delta{k}-q)z/2}\\tilde{A_{s}}\n",
    "\\end{equation}"
   ]
  },
  {
   "cell_type": "markdown",
   "metadata": {},
   "source": [
    "Denote $A_{p} = |A_{p}|e^{i\\phi_{p}}$ and $d_{q} = |d_{q}|e^{i\\phi_{d}}$, as general complex representations, and introduce **dimensionless** spatial coordinates $(\\tilde{x},\\tilde{y},\\tau) = \\sqrt{k_{i}k_{s}}(x,y,z)$"
   ]
  },
  {
   "cell_type": "markdown",
   "metadata": {},
   "source": [
    "The goal of this excercise is to demonstrate the similarity between the nonlinear coupled wave equations and the dynamics of a massive spin-1/2 particle in a magnetic field, **as explained earlier**."
   ]
  },
  {
   "cell_type": "markdown",
   "metadata": {},
   "source": [
    "We therefore define the square root of the ratios between the signal and idler wave vectors as spin-dependent masses, given by $m_{\\uparrow} = \\sqrt{\\frac{k_{i}}{k_{s}}}$ and $m_{\\downarrow} = \\sqrt{\\frac{k_{s}}{k_{i}}}$"
   ]
  },
  {
   "cell_type": "markdown",
   "metadata": {},
   "source": [
    "Define \n",
    "<br>\n",
    "$m \\equiv 2( m_{\\uparrow}^{-1} + m_{\\downarrow}^{-1})$ as the equivalent of twice the reduced mass, and\n",
    "<br> \n",
    "$\\epsilon = (m_{\\downarrow}^{-1} - m_{\\uparrow}^{-1})/(m_{\\uparrow}^{-1} + m_{\\downarrow}^{-1}) = \n",
    "(k_{s} - k_{i})/(k_{s}+k_{i}) $ as the equivalent mass contrast parameter\n",
    "<br>\n",
    "$m_{\\uparrow}, m_{\\downarrow}$ are the mass eigenvalues of the mass operator $M$,\n",
    "<br>\n",
    "whose inverse is given by $M^{-1} = 1/m(\\mathbf{1} + \\epsilon\\sigma_{z})$, where $\\sigma_{z}$ is the third Pauli Matrix"
   ]
  },
  {
   "cell_type": "markdown",
   "metadata": {},
   "source": [
    "Thus, using the above transformations, we can rewrite the CWEs as a single matrix equation:\n",
    "\\begin{equation}\n",
    "    i\\frac{\\partial}{\\partial\\tau}\n",
    "    \\begin{pmatrix}\n",
    "        \\tilde{A_{i}}\\\\\n",
    "        \\tilde{A_{s}}\n",
    "    \\end{pmatrix} =\n",
    "    \\begin{pmatrix}\n",
    "        \\frac{1}{2}M^{-1}\\tilde{\\mathbf{p}}_{T}^{2} - \\sigma.\\mathbf{B}\n",
    "    \\end{pmatrix}\n",
    "    \\begin{pmatrix}\n",
    "        \\tilde{A_{i}}\\\\\n",
    "        \\tilde{A_{s}}\n",
    "    \\end{pmatrix}\n",
    "    \\label{eq3}\\tag{6}\n",
    "\\end{equation}"
   ]
  },
  {
   "cell_type": "markdown",
   "metadata": {},
   "source": [
    "where $\\vec{\\sigma} = (\\sigma_{x}, \\sigma_{y}, \\sigma_{z})$ is the Pauli matrix vector, and $\\tilde{\\mathbf{p}}_{T}^{2} = -\\nabla_{\\tilde{T}}^{2} = -\\partial_{\\tilde{x}}^{2} - \\partial_{\\tilde{y}}^{2}$"
   ]
  },
  {
   "cell_type": "markdown",
   "metadata": {},
   "source": [
    "Here, the optical equivalent of the magnetic field $\\mathbf{B}$ is given by\n",
    "\\begin{equation}\n",
    "    \\mathbf{B} = \\frac{2|d_{q}A_{p}|}{n_{i}n_{s}}(\\hat{x}cos\\phi + \\hat{y}sin\\phi) + \\hat{z}\\frac{\\Delta{k}-q}         {2\\sqrt{k_{i}k_{s}}}\\label{eq4}\\tag{7}\n",
    "\\end{equation}\n",
    "where $n_{j} = n(\\omega_{j})$ is the frequency-dependent refractive index of the medium and $\\phi = \\phi_{p} - \\phi_{d}$ is the relative phase between the pump envelope and the modulation of the nonlinear susceptibility.\n",
    "<br>\n",
    "The z-component of the magnetic field is proportional to the phase mismatch $\\Delta{k}-q$, and the transverse component's magnitude is proportional to the nonlinear coupling strength, the direction determined by phase factor $\\phi$."
   ]
  },
  {
   "cell_type": "markdown",
   "metadata": {},
   "source": [
    "# Introducing the Dirac Notation"
   ]
  },
  {
   "cell_type": "markdown",
   "metadata": {},
   "source": [
    "In quantum mechanics , the wavefunction of a particle is defined as the tensor product of two parts<br>\n",
    "a)the part describing the spin of the particle($|\\uparrow\\rangle$, $|\\downarrow\\rangle$) and<br>\n",
    "b)the part describing the usual wavefunction ($|\\phi\\rangle$)"
   ]
  },
  {
   "cell_type": "markdown",
   "metadata": {},
   "source": [
    "$$|\\psi\\rangle  = |spin\\rangle  \\otimes |\\phi\\rangle $$"
   ]
  },
  {
   "cell_type": "markdown",
   "metadata": {},
   "source": [
    "We desrcibe  a mutual beam of the idler and signal\n",
    "waves in the paraxial approximation as a\n",
    "tensor product of<br> a) the spectral amplitude(analogous to the spin) of the beam with\n",
    "its<br> b) corresponding transverse wave front(anlogous to the usual wavefunction).\n",
    "\n",
    "\n",
    "$$ |\\psi\\rangle = |\\omega_j\\rangle \\otimes |\\tilde A_j\\rangle$$\n",
    "here , we write $|\\tilde A_j\\rangle$ as  \n",
    "$$ |\\tilde A_j\\rangle =\\int d^2 \\tilde{r}|\\tilde r\\rangle\\langle\\tilde {r}|\\tilde A_j\\rangle$$\n",
    "define $\\tilde{A_j}(\\tilde{r})=\\langle\\tilde {r}|\\tilde A_j\\rangle$, a general state can be represented as \n",
    "$$|{\\psi}\\rangle=|\\omega_i\\rangle \\otimes \\int d^2\\tilde{r} \\tilde{A_i}(\\tilde{r})|\\tilde{r}\\rangle + |\\omega_s\\rangle \\otimes \\int d^2 \\tilde{r} \\tilde{A_s}(\\tilde{r})|\\tilde{r}\\rangle$$\n",
    "\n",
    "where\n",
    "$\\tilde r$= $\\tilde x\\hat x+\\tilde y\\hat y$ is a transverse position vector, and $|\\tilde{r}\\rangle$  is a\n",
    "continuous base ket of the position representation<br>\n",
    "Thus the state $|\\psi\\rangle$ is optical equivalent to a two-component spinor\n",
    "representing the quantum state of a nonrelativistic $spin-1/2$\n",
    "particle"
   ]
  },
  {
   "cell_type": "markdown",
   "metadata": {},
   "source": [
    "We also set out to define the notions of orthogonality and inner product as follows:"
   ]
  },
  {
   "cell_type": "markdown",
   "metadata": {},
   "source": [
    "Just like spins are orthogonal , different frequencies kets $|\\omega_i\\rangle$ are also orthogonal in the sense\n",
    "that they cannot produce an observable interference pattern, and they are also distinguishable by means of\n",
    "spectral filtering\n",
    "\\begin{equation}\n",
    "\\langle\\omega_j|\\omega_k\\rangle=\\int d\\bar\\omega S^*_j(\\bar\\omega)S_k({\\bar\\omega})=\\delta_{jk}\n",
    "\\end{equation}\n",
    "where '$S$' is the normalised spectral amplitude of the wave $|\\bar\\omega\\rangle$ at frequency $\\bar\\omega$"
   ]
  },
  {
   "cell_type": "markdown",
   "metadata": {},
   "source": [
    "## Further Approximations"
   ]
  },
  {
   "cell_type": "markdown",
   "metadata": {},
   "source": [
    "In the sections that follow , we will carry out the calculations with the following appoximations <br>\n",
    "a) the\n",
    "long-wavelength pump approximation, in which $k_p$<<$k_s$,$k_i$ such that $\\epsilon$ $<<$ 1 <br>\n",
    "b) we assume a constant phase $\\phi=\\phi_0$\n",
    "in all space<br>\n",
    "c)we assume a quasi-phase-matched\n",
    "interaction, i.e., Δk= q for the SFG process (other processes such as second harmonic generation are assumed to\n",
    "remain mismatched, so as to not interfere with the interaction)<br>\n",
    "this also ensures that the magnetic\n",
    "field is transverse, i.e.,$B_z=0$ \n",
    "such that $B≡ B_T=B\\hat B_T(\\phi_0)$ from (7)\n",
    "where , <br> $B(\\tilde r)$ = 2$|d_qA_p|/n_in_s$ is the spatially varying magnetic field magnitude and $\\hat B_T (\\phi_0)=\\hat x cos(\\phi_0)+\\hat y sin(\\phi_0)$ is the direction <br>\n",
    "The above assumptions lead to\n",
    "an equation equivalent to the transverse Pauli equation,\n",
    "describing the dynamics of a nonrelativistic $spin -1/2$ particle in a weak transverse magnetic field, given by\n",
    "<br>\n",
    "\n"
   ]
  },
  {
   "cell_type": "markdown",
   "metadata": {},
   "source": [
    "\\begin{equation}\n",
    "i \\hbar \\frac{\\partial }{\\partial t} |\\psi\\rangle = {\\left[\\frac{(p_{T})^{2}}{2m}-\\sigma\\cdot B_{T}(\\tilde r)\\right]}|\\psi\\rangle\n",
    "\\end{equation}"
   ]
  },
  {
   "cell_type": "markdown",
   "metadata": {},
   "source": [
    "# Practical Implementation of Optical SG Experiment "
   ]
  },
  {
   "cell_type": "markdown",
   "metadata": {},
   "source": [
    "For implementing the optical Stern-Gerlach experiment, we need an optical equivalent for the magnetic field gradient. Under the conditions of QPM, the magnetic field is transverse and is directly proportional to the non-linear coefficient and the pump field amplitude."
   ]
  },
  {
   "cell_type": "markdown",
   "metadata": {},
   "source": [
    "We have, however, made the undepleted pump field assumption, implying that the pump field is a plane, uniform wave. Thus we are limited to having a gradient in the nonlinear coefficient. An effective gradient in $\\chi^{2}$ can be implemented by a specific choice of patterning of the nonlinear crystal."
   ]
  },
  {
   "cell_type": "markdown",
   "metadata": {},
   "source": [
    "We have a specific pattern of the non linear crystal .\n",
    "The idler beam  incident on the pumped nonlinear $\\chi^2$\n",
    "crystal,  is deflected into two mutual beams, each composed\n",
    "of a superposition of the idler and signal waves. This deflection\n",
    "into two discrete directions occurs due to a transverse gradient in\n",
    "the nonlinear coupling.The gradient alters the sign of $d$ by means of electric field poling which\n",
    "phase matches the interaction, whereas the propogation of the wave is affected by the duty cycle of the\n",
    "poling that determines the strength of the interaction .The ratio of poled to the unpoled+poled (i.e..,total) domains in the crystal is defined as its duty cycle<br> \n",
    "\n",
    "$\\textbf{Note:}$ Quasi-phase-matched (QPM) nonlinear optical devices\n",
    "require periodic or quasi-periodic reversal of the spontaneous polarization at desired locations along the ferroelectric\n",
    "crystals .The statistical distribution (that is the spread of poled and unpoled domains in the crystal ) of the duty cycle is a good indicator of the quality of the QPM device .Randomness in the duty-cycle originates from the statistical nature of the poling that is applied.<br>\n",
    "One way for the randomness to happen is as charges are supplied externally(the electric poling), suppose at some sites there is a  polarization reversal (this is quite possible to happen). After this initial reversal at\n",
    "one surface, it propagates along the ferroelectric axis all the\n",
    "way to the opposite surface, and the poled region expands\n",
    "away from the edges of the predefined electrodes . When the external supply of the charges (the electric poling) is stopped\n",
    "the final boundary positions between the poled and unpoled domains may deviate from the (designed) ideal boundary locations\n",
    ". These  deviations from an ideal structure  that may be induced during the poling process  lead to a non ideal duty cycle.<br>\n",
    "\n",
    "\n",
    "We know that the QPM condition(for a 100 percent duty cycle) gives us the expression $d=\\Sigma d_q e^{iq\\Delta z}$\n",
    " <br> where the coefficients are given by $d_q$=$2d/q$$\\pi$ sin($q\\pi$/2)"
   ]
  },
  {
   "cell_type": "markdown",
   "metadata": {},
   "source": [
    "Reference for 2D Patterning: M. Yamada, N. Nada, M. Saitoh, and K. Watanabe, Firstorder quasi-phase matched LiNbO3 waveguide periodically\n",
    "poled by applying an external field for efficient blue secondharmonic generation, Appl. Phys. Lett. 62, 435 (1993).<br>\n",
    "\n",
    "\n",
    "Reference for Duty cycle Theory:Parametric down-conversion with nonideal and\n",
    "random quasi-phase-matching Chun-Yao Yang1, Chun Lin1, Charlotte Liljestrand , Wei-Min Su1\n",
    ", Carlota Canalias2 and Chih-Sung Chuu1"
   ]
  },
  {
   "cell_type": "markdown",
   "metadata": {},
   "source": [
    "Based on the above discussion, the magnitude $d_q$ of the Fourier coefficient of first order(q=1) QPM with periodically modulated nonlinearity is given by <br> $d_q$=$\\frac{2d}{\\pi}sin(\\pi D(\\tilde y)) $ (product of terms coming from the electric field poling and the other term that accounts the modification due to duty cycle.) <br>\n",
    "The sin() term has been strategically placed to denote periodically varying duty cycle, here D($\\tilde y$)=$\\frac{1}{\\pi}$ arcsin( $\\frac{(\\tilde y + \\frac{\\tilde L}{2})}{\\tilde L}$). Please see the figure below: (In case the figure is not accessible, use the following google drive link: [https://drive.google.com/file/d/1Ty--iKH9s2km8koPVeecu1QQbaKdD_Bc/view?usp=sharing])"
   ]
  },
  {
   "cell_type": "markdown",
   "metadata": {},
   "source": [
    "![Fig](Manohar2.jpg) $$Figure\\:is\\:self\\:made$$"
   ]
  },
  {
   "cell_type": "markdown",
   "metadata": {},
   "source": [
    "substituting in the expression for $B$ yields $B_T=\\hat{B_T}(\\phi_o)(B_0/2+B'\\tilde y)$\n",
    "where $B_0$= 2$\\frac{|d_{eff}A_p|}{n_in_s}$ and $B'=\\frac{B_0}{\\tilde L_y}$"
   ]
  },
  {
   "cell_type": "markdown",
   "metadata": {},
   "source": [
    "# Solving Transverse Optical Pauli Equation"
   ]
  },
  {
   "cell_type": "markdown",
   "metadata": {},
   "source": [
    "We want to solve the equation:\n",
    "\\begin{equation}\n",
    "i \\hbar \\frac{\\partial }{\\partial \\tau} |\\psi \\rangle = {\\left[\\frac{(\\tilde{\\mathbf{p_{T}}})^{2}}{2m}-\\vec{\\sigma} \\cdot \\vec{B_{T}}(\\textbf{$\\tilde{r}$})\\right]}|\\psi \\rangle\n",
    "\\end{equation}\n",
    "\n",
    "where,\n",
    "\\begin{equation}\n",
    "(\\widetilde{x}, \\widetilde{y}, \\tau) = \\sqrt{k_{i}k_{s}}(x,y,z)\n",
    "\\end{equation}\n",
    "are the dimensionless position coordinates, and\n",
    "\n",
    "\\begin{equation}\n",
    "    H = \\frac{(\\tilde{\\mathbf{p_{T}}})^{2}}{2m}-\\vec{\\sigma} \\cdot \\vec{B_{T}}(\\textbf{$\\tilde{r}$})\n",
    "\\end{equation}\n",
    "\n",
    "is the SG Hamiltonian.\n",
    "\n",
    "After QPM implementation the expression for the optical equivalent for magnetic field is: \n",
    "\\begin{equation}\n",
    "\\vec{B_{T}} = \\hat{B_{T}}(\\phi)(\\frac{B_0}{2} + B'\\widetilde{y})\n",
    "\\end{equation}\n",
    "where,\n",
    "\\begin{equation}\n",
    "\\hat{B_{T}}(\\phi)= \\widehat{x}cos(\\phi)+\\widehat{y}sin(\\phi)\n",
    "\\end{equation}"
   ]
  },
  {
   "cell_type": "markdown",
   "metadata": {},
   "source": [
    "## Diagonalization of the SG Hamiltonian"
   ]
  },
  {
   "cell_type": "markdown",
   "metadata": {},
   "source": [
    "Currently, we are treating the eigenvectors of the 3rd pauli matrix as the basis vectors but in such a basis, $\\vec{\\sigma} \\cdot \\vec{B_{T}}$ is not diagonal, thus we transform our basis such that $\\vec{\\sigma} \\cdot \\vec{B_{T}}$ is diagonal. This means we must rotate our current basis (which points in the z direction) to the direction $\\hat{B_{T}}(\\phi)$, as shown in the figure below: (In case the figure is not accessible, use the following google drive link: [https://drive.google.com/file/d/1bwfw0UZPwKwMvZYEgdhdgnqWJTeFmxiD/view?usp=sharing])"
   ]
  },
  {
   "cell_type": "markdown",
   "metadata": {},
   "source": [
    "![Fig](ss.jpg) $$ Figure\\:is\\:self\\:made$$"
   ]
  },
  {
   "cell_type": "markdown",
   "metadata": {},
   "source": [
    "We construct the rotation matrices for the $spin-\\frac{1}{2}$ subspace:"
   ]
  },
  {
   "cell_type": "markdown",
   "metadata": {},
   "source": [
    "$R(\\frac{\\pi}{2},\\widehat{y})= D^{(\\frac{1}{2})}(\\frac{\\pi}{2},\\widehat{y})$ \n",
    "\n",
    "$R(\\phi,\\widehat{z})= D^{(\\frac{1}{2})}(\\phi,\\widehat{z})$\n",
    "\n",
    "where $D^{(\\frac{1}{2})}(\\theta,\\widehat{n})=cos(\\frac{\\theta}{2}) - i(\\vec{\\sigma} \\cdot \\widehat{n})sin(\\frac{\\theta}{2})$"
   ]
  },
  {
   "cell_type": "markdown",
   "metadata": {},
   "source": [
    "We represent\n",
    "\n",
    "$|\\omega_{i}\\rangle \\equiv \n",
    "\\begin{bmatrix}\n",
    "1\\\\\n",
    "0\n",
    "\\end{bmatrix}\n",
    "$\n",
    "and $|\\omega_{s}\\rangle \\equiv \n",
    "\\begin{bmatrix}\n",
    "0\\\\ \n",
    "1\n",
    "\\end{bmatrix}\n",
    "$"
   ]
  },
  {
   "cell_type": "markdown",
   "metadata": {},
   "source": [
    "Thus, the rotation matrix that will do our job is:"
   ]
  },
  {
   "cell_type": "markdown",
   "metadata": {},
   "source": [
    "\\begin{equation} \n",
    "D^{(\\frac{1}{2})}(\\frac{\\pi}{2},\\widehat{y}) \\times D^{(\\frac{1}{2})}(\\phi,\\widehat{z}) = \\begin{bmatrix}\n",
    " \\frac{1}{\\sqrt{2}} e^{\\frac{-i\\phi_0}{2}} &  \\frac{-1}{\\sqrt{2}} e^{\\frac{-i\\phi_0}{2}} \\\\ \n",
    " \\frac{1}{\\sqrt{2}} e^{\\frac{i\\phi_0}{2}}  &  \\frac{1}{\\sqrt{2}} e^{\\frac{i\\phi_0}{2}}\n",
    "\\end{bmatrix} = D^{\\frac{1}{2}}_{total}\n",
    "\\end{equation}"
   ]
  },
  {
   "cell_type": "markdown",
   "metadata": {},
   "source": [
    "Acting this matrix on the z-component basis ($|\\omega_{i}\\rangle$ and $|\\omega_{s}\\rangle$), we get the transformed basis in which $\\vec{\\sigma} \\cdot \\vec{B_{T}}$ is diagonal."
   ]
  },
  {
   "cell_type": "markdown",
   "metadata": {},
   "source": [
    "\\begin{equation} \n",
    "D^{\\frac{1}{2}}_{eff} \\times \\begin{bmatrix}\n",
    "1\\\\ \n",
    "0\n",
    "\\end{bmatrix} = \n",
    "\\begin{bmatrix}\n",
    "1\\\\ \n",
    "e^{i\\phi_0}\n",
    "\\end{bmatrix}\n",
    "\\equiv |\\omega_{+} \\rangle\n",
    "\\end{equation}\n",
    "\n",
    "\\begin{equation} \n",
    "D^{\\frac{1}{2}}_{eff} \\times \\begin{bmatrix}\n",
    "0\\\\ \n",
    "1\n",
    "\\end{bmatrix} = \n",
    "\\begin{bmatrix}\n",
    "1\\\\ \n",
    "e^{-i\\phi_0}\n",
    "\\end{bmatrix}\n",
    "\\equiv |\\omega_{-} \\rangle\n",
    "\\end{equation}"
   ]
  },
  {
   "cell_type": "markdown",
   "metadata": {},
   "source": [
    "Thus we have:\n",
    "\\begin{equation}\n",
    "    |\\omega_{+} \\rangle = \\frac{|\\omega_{i}\\rangle + e^{i\\phi_0}|\\omega_{s}\\rangle}{2} \n",
    "\\end{equation}    \n",
    "   \n",
    "\\begin{equation}\n",
    " |\\omega_{-} \\rangle = \\frac{|\\omega_{i}\\rangle - e^{i\\phi_0}|\\omega_{s}\\rangle}{2}\n",
    "\\end{equation}"
   ]
  },
  {
   "cell_type": "markdown",
   "metadata": {},
   "source": [
    "In this basis, our SG Hamiltonian is diagonal.\n",
    "Henceforth, we will refer to this basis as the diagonal basis."
   ]
  },
  {
   "cell_type": "markdown",
   "metadata": {},
   "source": [
    "## Transformation to the Transverse k-Space"
   ]
  },
  {
   "cell_type": "markdown",
   "metadata": {},
   "source": [
    "Transformation to transverse Fourier Space:\n",
    "\n",
    "We know in quantum mechanics that we can write $|\\psi\\rangle = \\int dk |k\\rangle \\langle k|\\psi\\rangle$"
   ]
  },
  {
   "cell_type": "markdown",
   "metadata": {},
   "source": [
    "Similarly, in the optical context we have:\n",
    "\n",
    "$|A_{j}\\rangle = \\int d^2\\widetilde{r}|\\mathbf{\\widetilde{r}}\\rangle\\langle \\mathbf{\\widetilde{r}}|A_{j}\\rangle $\n",
    "\n",
    "$\\Rightarrow \\langle \\mathbf{\\tilde{k_{T}}}|A_{j}\\rangle = \\int d^2\\widetilde{r}\\langle \\mathbf{\\tilde{k_{T}}}|\\mathbf{\\widetilde{r}}\\rangle A_{j}(\\mathbf{\\widetilde{r}}) $\n",
    "\n",
    "$\\Rightarrow a_{j}(\\mathbf{\\tilde{k_{T}}}) = \\int d^2\\widetilde{r} e^{i\\mathbf{\\tilde{k_{T}}}\\cdot\\mathbf{\\widetilde{r}}} A_{j}(\\mathbf{\\widetilde{r}})$\n",
    "\n",
    "where $\\tilde{k_{T}} = (\\tilde{k_{x}}, \\tilde{k_{y}})$, is a tranverse dimensionless wave-vector.\n",
    "\n",
    "Thus we can write:\n",
    "\n",
    "$|A_{j}\\rangle = \\int d^2\\tilde{k_T}|\\mathbf{\\tilde{k_T}}\\rangle\\langle \\mathbf{\\tilde{k_T}}|A_{j}\\rangle = \\int d^2\\tilde{k_T}|\\mathbf{\\tilde{k_T}}\\rangle a_{j}(\\tilde{\\mathbf{k_{T}}})$"
   ]
  },
  {
   "cell_type": "markdown",
   "metadata": {},
   "source": [
    "A general state can be written as:\n",
    "\\begin{equation}\n",
    "|\\psi\\rangle = \\sum_{s=\\omega_{\\pm}}^{} |s\\rangle \\otimes \\int d^2\\tilde{k}a_{s}(\\tilde{\\mathbf{k_{T}}})|\\tilde{\\mathbf{k_{T}}}\\rangle\n",
    "\\end{equation}"
   ]
  },
  {
   "cell_type": "markdown",
   "metadata": {},
   "source": [
    "## Diagonalized Hamiltonian in the Transverse k-Space"
   ]
  },
  {
   "cell_type": "markdown",
   "metadata": {},
   "source": [
    "SG Hamiltonian:\n",
    "\\begin{equation}\n",
    "   H = \\frac{(\\tilde{\\mathbf{p_{T}}})^{2}}{2m}-\\vec{\\sigma} \\cdot \\vec{B_{T}}(\\textbf{$\\tilde{r}$})\n",
    "\\end{equation}\n",
    "  In diagonal basis ($|\\omega_{+} \\rangle$ and $|\\omega_{-} \\rangle$),\n",
    "\\begin{equation}\n",
    "   H =  \\frac{(\\tilde{\\mathbf{p_{T}}})^{2}}{2m}I_{2\\times2}-(\\frac{B_{0}}{2}+B'\\tilde{y})\\begin{bmatrix}\n",
    "   1 & 0\\\\\n",
    "   0 & -1\n",
    "   \\end{bmatrix}\n",
    "   \\end{equation}\n",
    "   \n",
    "   In the k-space,\n",
    "   \n",
    "   $\\frac{(\\tilde{\\mathbf{p_{T}}})^{2}}{2m} $is trivially written as $ \\frac{\\tilde{K_{T}}^2}{2}$ and $\\tilde{y} \\rightarrow i\\frac{\\partial}{\\partial \\tilde{k_{y}}}$"
   ]
  },
  {
   "cell_type": "markdown",
   "metadata": {},
   "source": [
    "So, the Hamiltonian becomes:"
   ]
  },
  {
   "cell_type": "markdown",
   "metadata": {},
   "source": [
    "\\begin{equation}\n",
    "H = \\frac{\\tilde{k_{T}}^2}{2} I_{2\\times2} - \\begin{bmatrix}\n",
    "   \\frac{B_{0}}{2}+iB'\\frac{\\partial}{\\partial \\tilde{k_{y}}} & 0\\\\\n",
    "   0 & -(\\frac{B_{0}}{2}+iB'\\frac{\\partial}{\\partial \\tilde{k_{y}}})\n",
    "   \\end{bmatrix}\n",
    "\\end{equation}\n",
    "\n",
    "\\begin{equation}\n",
    "\\Rightarrow H =  \\begin{bmatrix}\n",
    "   \\frac{\\tilde{k_{T}}^2}{2}-\\frac{B_{0}}{2}-iB'\\frac{\\partial}{\\partial \\tilde{k_{y}}} & 0\\\\\n",
    "   0 & \\frac{\\tilde{k_{T}}^2}{2}+\\frac{B_{0}}{2}+iB'\\frac{\\partial}{\\partial \\tilde{k_{y}}}\n",
    "   \\end{bmatrix}\n",
    "\\end{equation}   "
   ]
  },
  {
   "cell_type": "markdown",
   "metadata": {},
   "source": [
    "Now, we can also write the Hamiltonian as an outer product expansion of the basis states ($|\\omega_{+} \\rangle$ and $|\\omega_{-} \\rangle$)\n",
    "\n",
    "\\begin{equation}\n",
    "H = H_{+}|\\omega_{+}\\rangle\\langle\\omega_{+}| + H_{-}|\\omega_{-}\\rangle\\langle\\omega_{-}| \n",
    "\\end{equation}\n",
    "\n",
    "where, \n",
    "\n",
    "$H_{+} = \\frac{\\tilde{k_{T}}^2}{2}-\\frac{B_{0}}{2}-iB'\\frac{\\partial}{\\partial \\tilde{k_{y}}}$\n",
    "\n",
    "$H_{-} = \\frac{\\tilde{k_{T}}^2}{2}+\\frac{B_{0}}{2}+iB'\\frac{\\partial}{\\partial \\tilde{k_{y}}}$"
   ]
  },
  {
   "cell_type": "markdown",
   "metadata": {},
   "source": [
    "## Propagation Operators"
   ]
  },
  {
   "cell_type": "markdown",
   "metadata": {},
   "source": [
    "Propagation operator (or time evolution operator) applied on the initial state gives us the state of the system at time $t$. Thus, in order to solve the optical Pauli equation, its essential to find the propagation operators.\n",
    "Here, $\\tau$ is actually a scaled z coordinate, but is respresentative of time $t$ under the transformations."
   ]
  },
  {
   "cell_type": "markdown",
   "metadata": {},
   "source": [
    "Our Hamiltonian is:\n",
    "\n",
    "$H = \\begin{bmatrix}\n",
    "H_{+} & 0\\\\\n",
    "0 & H_{-}\n",
    "\\end{bmatrix}$"
   ]
  },
  {
   "cell_type": "markdown",
   "metadata": {},
   "source": [
    "$U(\\tau)= e^{-i\\tau H} = \\begin{bmatrix}\n",
    "e^{-i\\tau H_{+}} & 0\\\\\n",
    "0 & e^{-i\\tau H_{-}}\n",
    "\\end{bmatrix}$"
   ]
  },
  {
   "cell_type": "markdown",
   "metadata": {},
   "source": [
    "Thus for each component of the $2\\times1$ state vector, we have:\n",
    "$\\Rightarrow U_{\\pm}(\\tau)= e^{-i\\tau H_{\\pm}}$"
   ]
  },
  {
   "cell_type": "markdown",
   "metadata": {},
   "source": [
    "In order to evaluate $U(\\tau)$ we make use of the Zassenhaus formula:    "
   ]
  },
  {
   "cell_type": "markdown",
   "metadata": {},
   "source": [
    "\\begin{equation}\n",
    "e^{X+Y}= e^Xe^Ye^{\\frac{-1}{2}[X,Y]}e^{\\frac{1}{3}[Y,[X,Y]]+...}\n",
    "\\end{equation}"
   ]
  },
  {
   "cell_type": "markdown",
   "metadata": {},
   "source": [
    "Here,\n",
    "\n",
    "$$X=\\mp \\tau B' \\frac{\\partial}{\\partial \\tilde{k_{y}}}$$\n",
    "\n",
    "$$Y=-i \\tau \\frac{\\tilde{k}^2}{2}$$"
   ]
  },
  {
   "cell_type": "markdown",
   "metadata": {},
   "source": [
    "\\begin{equation}\n",
    "\\Rightarrow [X,Y]= \\pm \\frac{i \\tau^2 B'}{2}\\left[\\frac{\\partial}{\\partial \\tilde{k_{y}}}, \\tilde{k}^2\\right]\n",
    "\\end{equation}"
   ]
  },
  {
   "cell_type": "markdown",
   "metadata": {},
   "source": [
    "We evaluate the above commutator using a test function:\n",
    "\n",
    "$$\\left[\\frac{\\partial}{\\partial \\tilde{k_{y}}}, \\tilde{k}^2\\right] \\psi = \\frac{\\partial}{\\partial \\tilde{k_{y}}}((\\tilde{k_{x}}^2 + \\tilde{k_{y}}^2))\\psi - (\\tilde{k_{x}}^2 + \\tilde{k_{y}}^2)\\frac{\\partial \\psi}{\\partial \\tilde{k_{y}}} = 2\\tilde{k_{y}}\\psi$$ \n",
    "\n",
    "$\\Rightarrow [X,Y]=\\pm i \\tau^2 B' \\tilde{k_{y}}$"
   ]
  },
  {
   "cell_type": "markdown",
   "metadata": {},
   "source": [
    "$\\Rightarrow \\left[X, [X,Y]\\right] = -i \\tau^3 B'^2$\n",
    "\n",
    "other commutators occuring in the Zassenhaus formula will vanish."
   ]
  },
  {
   "cell_type": "markdown",
   "metadata": {},
   "source": [
    "Thus, we finally obtain the propagation operators:\n",
    "\\begin{equation}\n",
    "exp\\left(-i \\tau H_{\\pm}\\right) = exp\\left(\\pm i \\tau \\frac{B_{0}}{2} - \\frac{i \\tau^3 B'^2}{6}\\right) \\times exp\\left(\\mp \\tau B' \\frac{\\partial}{\\partial \\tilde{k_{y}}}\\right) \\times exp\\left(-i \\tau \\frac{\\tilde{k}^2}{2} \\mp \\frac{1}{2} i \\tau^2 B'\\tilde{k_{y}}\\right)\n",
    "\\end{equation}"
   ]
  },
  {
   "cell_type": "markdown",
   "metadata": {},
   "source": [
    "## Visualizing the SG Deflection"
   ]
  },
  {
   "cell_type": "markdown",
   "metadata": {},
   "source": [
    "We can see why a mutual beam of $|\\omega_+\\rangle$ and $|\\omega_-\\rangle$ states should deflect in two opposite directions from the structure of the propagation operator."
   ]
  },
  {
   "cell_type": "markdown",
   "metadata": {},
   "source": [
    "The propagation operator has a term of the form:\n",
    "\\begin{equation}\n",
    "\\tilde{D}(\\tilde{k_{0}}) = exp\\left(\\mp \\tilde{k_{0}}\\frac{\\partial}{\\partial \\tilde{k_{y}}}\\right)\n",
    "\\end{equation}\n",
    "\n",
    "This is the momentum translation operator, whose action is:\n",
    "\n",
    "\\begin{equation}\n",
    "\\tilde{D}(\\tilde{k_{0}})|\\tilde{k_{y}}\\rangle = |\\tilde{k_{y}} \\mp \\tilde{k_{0}}\\rangle\n",
    "\\end{equation}\n",
    "\n",
    "This indicates that the two states will be deflected in opposite directions."
   ]
  },
  {
   "cell_type": "markdown",
   "metadata": {},
   "source": [
    "We also have the fourier transform of position translation operator as one of the terms in the propagator:\n",
    "\n",
    "\\begin{equation}\n",
    "exp\\left(\\mp i y_{0} \\tilde{k_y} \\right) \\rightarrow exp\\left(\\mp y_{0} \\frac{\\partial}{\\partial \\tilde{y}}\\right)\n",
    "\\end{equation}\n",
    "\n",
    "where $y_{0}(\\tau) = \\frac{B'\\tau^2}{2}$\n",
    "\n",
    "This indicates the joint beam of $|\\omega_+\\rangle$ and $|\\omega_-\\rangle$ states \"accelerate\" in the $\\mp y$ directions, with \"acceleration\" proportional to $B'$."
   ]
  },
  {
   "cell_type": "markdown",
   "metadata": {},
   "source": [
    "Thus, the deflection angle will be proportional to $\\tau B'$"
   ]
  },
  {
   "cell_type": "markdown",
   "metadata": {},
   "source": [
    "# Evolution of Gaussian Idler Beam"
   ]
  },
  {
   "cell_type": "markdown",
   "metadata": {},
   "source": [
    "We find how a Gaussian idler beam evolves under the SG Hamiltonian. Note that even though $\\tau$ is analogous to time in the quantum mechanical Pauli equation, here its actually the dimensionless $z$ coordinate. But since we have already established the analogy with quantum mechanical Pauli equation and developed the notations, we will use the words like \"time evolution\", \"propagator\", \"state vector\" freely."
   ]
  },
  {
   "cell_type": "markdown",
   "metadata": {},
   "source": [
    "Initially, there is no signal beam, thus the initial state is constituted by the idler beam, which in the diagonal basis can be written as:\n",
    "\n",
    "\\begin{equation}\n",
    "    |\\psi(0) \\rangle = |\\omega_i\\rangle = \\frac{1}{\\sqrt{2}} \\left(|\\omega_+\\rangle + |\\omega_- \\rangle \\right) \\otimes \\int a_i(\\tilde{\\mathbf{k_T}}) |\\tilde{\\mathbf{k_T}}\\rangle  d^2 \\tilde{\\mathbf{k}} \n",
    "\\end{equation}\n",
    "\n",
    "Where, $\\tilde{\\mathbf{k_T}} = (\\tilde{k_x}, \\tilde{k_y})$ is the transverse dimensionless wave vector. Since the fourier transform of a Gaussian is a gaussian, a gaussian beam in the position space will be a gaussian in k-space as well. Thus, take:\n",
    "\n",
    "\\begin{equation}\n",
    "    a_i(\\tilde{\\mathbf{k_T}}) = \\frac{A_o}{\\sqrt{\\pi \\Delta \\tilde{k}^2}} exp\\left(\\frac{-\\tilde{k}^2}{2\\Delta \\tilde{k}^2}  \\right)\n",
    "\\end{equation}\n",
    "\n",
    "where $\\Delta \\tilde{k}$ is the standard deviation in the momentum space, which is related to the standard deviation in the position space by the uncertainty principle. We will fix this later."
   ]
  },
  {
   "cell_type": "markdown",
   "metadata": {},
   "source": [
    "Thus the state of the system at any $\\tau$ is given as:"
   ]
  },
  {
   "cell_type": "markdown",
   "metadata": {},
   "source": [
    "\\begin{equation}\n",
    "    |\\psi(\\tau)\\rangle = \\left[exp(-i\\tau H_+)|\\omega_+\\rangle \\langle \\omega_+ |  +  exp(-i\\tau H_-)|\\omega_-\\rangle \\langle \\omega_- | \\right]|\\psi(0) \\rangle\n",
    "\\end{equation}"
   ]
  },
  {
   "cell_type": "markdown",
   "metadata": {},
   "source": [
    "We insert the identity operator for k-space in the propagation operator and thus obtain:\n",
    "\n",
    "\\begin{equation}\n",
    "    U_\\pm  = \\int  exp(-i\\tau H_\\pm) |\\tilde{\\mathbf{k_T}}\\rangle \\langle \\tilde{\\mathbf{k_T}}|   d^2 \\tilde{\\mathbf{k}} \n",
    "\\end{equation}"
   ]
  },
  {
   "cell_type": "markdown",
   "metadata": {},
   "source": [
    "In order to find the evolution of the initial state, we have to apply $U_\\pm$ on the momentum-space part of the initial state:\n",
    "\n",
    "\\begin{equation}\n",
    "  U_{\\pm} \\int a_i(\\tilde{\\mathbf{k'_T}}) |\\tilde{\\mathbf{k'_T}}\\rangle  d^2 \\tilde{\\mathbf{k'}}  = \\int \\int exp(-i\\tau H_\\pm) a_i(\\tilde{\\mathbf{k'_T}}) |\\tilde{\\mathbf{k_T}}\\rangle \\langle \\tilde{\\mathbf{k_T}}| \\tilde{\\mathbf{k'_T}} \\rangle   d^2 \\tilde{\\mathbf{k}} d^2 \\tilde{\\mathbf{k'}}\n",
    "\\end{equation}"
   ]
  },
  {
   "cell_type": "markdown",
   "metadata": {},
   "source": [
    "We have:\n",
    "\n",
    "\\begin{equation}\n",
    "exp\\left(-\\imath \\tau H_{\\pm}\\right) = exp\\left(\\pm i \\tau \\frac{B_{0}}{2} - \\frac{i \\tau^3 B'^2}{6}\\right) \\times exp\\left(\\mp \\tau B' \\frac{\\partial}{\\partial \\tilde{k_{y}}}\\right) \\times exp\\left(-i \\tau \\frac{\\tilde{k}^2}{2} \\mp \\frac{1}{2} i \\tau^2 B'\\tilde{k_{y}}\\right)\n",
    "\\end{equation}"
   ]
  },
  {
   "cell_type": "markdown",
   "metadata": {},
   "source": [
    "And the action of the momentum translation operator is:\n",
    "\n",
    "\\begin{equation}\n",
    "    exp\\left(\\mp \\tau B' \\frac{\\partial}{\\partial \\tilde{k_{y}}}\\right)f\\left(\\tilde{k_y}\\right) = f\\left(\\tilde{k_y} \\mp \\tau B'\\right)\n",
    "\\end{equation}\n",
    "\n",
    "where $f$ is any function."
   ]
  },
  {
   "cell_type": "markdown",
   "metadata": {},
   "source": [
    "The initial idler state would evolve into a mutual beam of signal and idler waves. After a messy calculation, we obtain:\n",
    "\n",
    "\\begin{equation}\n",
    "|\\psi(\\tau)\\rangle = \\frac{A_o}{\\sqrt{2 \\pi \\Delta \\tilde{k}^2}} \\left[ \\int exp(\\beta - a \\tilde{k}^2 + b \\tilde{k_y})  |\\tilde{\\mathbf{k_T}}\\rangle d^2 \\tilde{\\mathbf{k}} \\otimes |\\omega_+\\rangle  +  \\int exp(\\beta - a \\tilde{k}^2 - b \\tilde{k_y})  |\\tilde{\\mathbf{k_T}}\\rangle d^2 \\tilde{\\mathbf{k}} \\otimes |\\omega_-\\rangle  \\right]\n",
    "\\end{equation}\n",
    "\n",
    "where,\n",
    "\n",
    "\\begin{equation}\n",
    "    \\beta = \\pm \\frac{i \\tau B_o}{2} - \\frac{i \\tau^3 B'^2}{6} - \\frac{\\tau^2 B'}{2 \\Delta \\tilde{k}^2}\n",
    "\\end{equation}\n",
    "\n",
    "\\begin{equation}\n",
    "    a = \\frac{1}{2} \\left(i\\tau + \\frac{1}{\\Delta \\tilde{k}^2} \\right)\n",
    "\\end{equation}\n",
    "\n",
    "\\begin{equation}\n",
    "    b = \\tau B' \\left(\\frac{i\\tau}{2} + \\frac{1}{\\Delta \\tilde{k}^2} \\right)\n",
    "\\end{equation}"
   ]
  },
  {
   "cell_type": "markdown",
   "metadata": {},
   "source": [
    "## Position Space Amplitude"
   ]
  },
  {
   "cell_type": "markdown",
   "metadata": {},
   "source": [
    "In the previous section, we found the state of the system:\n",
    "\n",
    "\\begin{equation}\n",
    "    |\\psi(\\tau)\\rangle = \\frac{A_o}{\\sqrt{2 \\pi \\Delta \\tilde{k}^2}} \\sum_{s=\\pm}^{} \\left[ \\int exp(\\beta - a \\tilde{k}^2 + s b \\tilde{k_y})  |\\tilde{\\mathbf{k_T}}\\rangle d^2 \\tilde{\\mathbf{k}} \\otimes |\\omega_s\\rangle \\right]\n",
    "\\end{equation}"
   ]
  },
  {
   "cell_type": "markdown",
   "metadata": {},
   "source": [
    "We would like to calculate \n",
    "$$ \\left(\\langle \\tilde{\\mathbf{r}}| \\otimes  \\langle \\omega_s | \\right) |\\psi(\\tau)\\rangle \\equiv  \\psi_s(\\tilde{\\mathbf{r}})$$\n",
    "\n",
    ", i.e. the position space amplitude of the mutual beam of signal and idler waves."
   ]
  },
  {
   "cell_type": "markdown",
   "metadata": {},
   "source": [
    "We have:\n",
    "\n",
    "$$ \\langle \\omega_s | \\omega_s \\rangle = 1$$\n",
    "\n",
    "$$ \\langle \\tilde{\\mathbf{r}}|\\tilde{\\mathbf{k_T}}\\rangle = exp\\left(i \\tilde{\\mathbf{r}} \\cdot \\tilde{\\mathbf{k_T}}\\right) $$"
   ]
  },
  {
   "cell_type": "markdown",
   "metadata": {},
   "source": [
    "Thus, we obtain:\n",
    "\n",
    "\\begin{equation}\n",
    "    \\psi_s(\\tilde{\\mathbf{r}}) = \\frac{A_o}{\\sqrt{2 \\pi \\Delta \\tilde{k}^2}} \\int_{-\\infty}^{+\\infty} exp\\left(\\beta\\right) exp\\left(-a \\tilde{k_x}^2 + i \\tilde{x} \\tilde{k_x} \\right) exp\\left( -a \\tilde{k_y}^2 + (s b + i \\tilde{y}) \\tilde{k_y}   \\right) d\\tilde{k_x}d\\tilde{k_y}\n",
    "\\end{equation}"
   ]
  },
  {
   "cell_type": "markdown",
   "metadata": {},
   "source": [
    "After a long calculation, we obtain:\n",
    "\n",
    "\\begin{equation}\n",
    "    \\psi_s(\\tilde{\\mathbf{r}}) = \\frac{\\pi A_o}{a \\sqrt{2\\pi \\Delta \\tilde{k}^2}} exp\\left(\\beta + \\frac{b^2}{4a}  \\right) exp\\left( \\frac{-\\tilde{\\mathbf{r}}^2}{4a} + \\frac{s i b}{2a} \\tilde{y} \\right)\n",
    "\\end{equation}"
   ]
  },
  {
   "cell_type": "markdown",
   "metadata": {},
   "source": [
    "Since the intensity is related to the square of the position space amplitude, we would like to calculate:\n",
    "\n",
    "\\begin{equation}\n",
    "     |\\psi_s(\\tilde{\\mathbf{r}})|^2 = \\psi_s(\\tilde{\\mathbf{r}})^* \\psi_s(\\tilde{\\mathbf{r}})\n",
    "\\end{equation}"
   ]
  },
  {
   "cell_type": "markdown",
   "metadata": {},
   "source": [
    "We obtain:\n",
    "\n",
    "\\begin{equation}\n",
    "    |\\psi_s(\\tilde{\\mathbf{r}})|^2 = Q exp\\left(-\\xi \\tilde{\\mathbf{r}}^2 - s \\epsilon \\tilde{y} \\right)\n",
    "\\end{equation}"
   ]
  },
  {
   "cell_type": "markdown",
   "metadata": {},
   "source": [
    "Where, $Q \\equiv Q(\\tau)$, $\\xi \\equiv \\xi(\\tau)$, $\\epsilon \\equiv \\epsilon(\\tau)$"
   ]
  },
  {
   "cell_type": "markdown",
   "metadata": {},
   "source": [
    "After another round of messy calculations, we get:\n",
    "\n",
    "\\begin{equation}\n",
    "    Q = \\frac{\\pi A_o^2}{2 |a|^2 \\Delta \\tilde{k}^2} exp\\left(2 Re \\left( \\beta + \\frac{b^2}{4a} \\right) \\right) = \n",
    "    \\frac{2 \\pi A_o^2}{\\Delta \\tilde{k}^2 \\left(\\tau^2 + \\frac{1}{\\Delta \\tilde{k}^4}\\right)} exp\\left(\\frac{- \\tau^4 B'^2}{4 \\Delta \\tilde{k}^2 \\left(\\tau^2 + \\frac{1}{\\Delta \\tilde{k}^4}\\right)} \\right)\n",
    "\\end{equation}\n",
    "\n",
    "\\begin{equation}\n",
    " \\epsilon = 2 Im\\left(\\frac{b}{2a} \\right) = \\frac{-\\tau^2 B'}{\\Delta \\tilde{k}^2 \\left(\\tau^2 + \\frac{1}{\\Delta \\tilde{k}^4}\\right)}\n",
    "\\end{equation}\n",
    "\n",
    "\\begin{equation}\n",
    "    \\xi = Re\\left(\\frac{1}{2a} \\right) = \\frac{\\frac{1}{\\Delta \\tilde{k}^2}}{\\tau^2 + \\frac{1}{\\Delta \\tilde{k}^4}}\n",
    "\\end{equation}"
   ]
  },
  {
   "cell_type": "markdown",
   "metadata": {},
   "source": [
    "# Graphical Demonstration of Results"
   ]
  },
  {
   "cell_type": "markdown",
   "metadata": {},
   "source": [
    "Below is the first plot which demonstrates the deflection of the source into two distinct beams having identical intensities. Please note that the intensities have been normalised so that all values are on a scale of 0-1. We have used the values of constants provided in the supplementary paper and have tried to replicate the obtained results."
   ]
  },
  {
   "cell_type": "markdown",
   "metadata": {},
   "source": [
    "We first calculate the values of constants used in the expression of position space amplitude $|\\psi_s(\\tilde{\\mathbf{r}})|^2$\n"
   ]
  },
  {
   "cell_type": "code",
   "execution_count": 1,
   "metadata": {},
   "outputs": [],
   "source": [
    "import plotly.graph_objects as go\n",
    "'''\n",
    "You would have to install plotly. For users with Anaconda distribution of Python, \"conda install plotly\" should work.\n",
    "For linux users, \"pip3 install plotly\" should work.\n",
    "'''\n",
    "import numpy as np\n",
    "import matplotlib.pyplot as plt\n",
    "import plotly.express as px"
   ]
  },
  {
   "cell_type": "markdown",
   "metadata": {},
   "source": [
    "Firstly, we need the convert dimensionless spatial coordinates into dimension-full coordinates by multiplying the dimensionless coordinates by a factor of $\\sqrt{k_ik_s}$. We use variable 'K' to denote this factor. The values of the idler and signal wavelengths are given to be $\\lambda_i = 532nm, \\lambda_s = 452.2nm$. Using this data, we obtaing the value of variable 'K' as $1.28*10^7$"
   ]
  },
  {
   "cell_type": "code",
   "execution_count": 2,
   "metadata": {},
   "outputs": [],
   "source": [
    "K = 1.28e7 #sqrt(k_{i}k_{s})"
   ]
  },
  {
   "cell_type": "markdown",
   "metadata": {},
   "source": [
    "Next, we declare the range of values of the spatial dimension-full coordinates. The value of $L_z = 5cm$ and the transverse coordinates are of the order of a few $100\\mu m$."
   ]
  },
  {
   "cell_type": "code",
   "execution_count": 3,
   "metadata": {},
   "outputs": [],
   "source": [
    "feature_z1 = np.arange(0,0.050,0.000050)\n",
    "feature_y1 = np.arange(-5e-4,5e-4,5e-6)\n",
    "feature_x1 = np.arange(-2e-4, 2e-4, 2e-6)"
   ]
  },
  {
   "cell_type": "code",
   "execution_count": 4,
   "metadata": {},
   "outputs": [],
   "source": [
    "[z, y] = np.meshgrid(feature_z1, feature_y1)"
   ]
  },
  {
   "cell_type": "markdown",
   "metadata": {},
   "source": [
    "Finally, we calculate the value of $\\Delta \\tilde{k}^2$ (variable 'k')and field $B'$ (variable 'B'). The idler beam waist is given to be $50\\mu m$. This is the uncertainty in position, $\\Delta x$. Using the uncertainty principle, we know that $\\Delta x\\Delta k = 1$. Using this and rescaling to adjust for dimensionless $\\Delta k$, we obtain $\\Delta \\tilde{k}^2 = 6.1*10^{-6}$.<br>\n",
    "We calculate the $B'$ by first calculating $B_0 = \\frac{2d_{eff}A_p}{n_in_s}$ and then using $B' = \\frac{B_0}{\\tilde{L}_y}$. The value of $d_{eff} = 17.2*10^{-12} m/V$, $n_{i} = 2.34, n_s$ can be calculated from the SFG relations and finally, the intensity of the pump field is ~ $160 MW / cm^2$, so the amplitude is proportional to the square root of this quantity. We obtain $B' = 1.5*10^{-8}$."
   ]
  },
  {
   "cell_type": "code",
   "execution_count": 16,
   "metadata": {},
   "outputs": [],
   "source": [
    "k = 6.1e-7\n",
    "B = 1.5e-8"
   ]
  },
  {
   "cell_type": "code",
   "execution_count": 6,
   "metadata": {},
   "outputs": [],
   "source": [
    "a1 = -1*(K**2)*(y**2)*(k)\n",
    "b1 = (K**3)*y*k*B*(z**2)\n",
    "c = (K**2)*(k**2)*(z**2) + 1\n",
    "d = -0.25*(K**4)*(z**4)*(B**2)*k"
   ]
  },
  {
   "cell_type": "code",
   "execution_count": 7,
   "metadata": {},
   "outputs": [],
   "source": [
    "Z1 = ((np.exp((a1 + b1+d)/c) + np.exp((a1 - b1+d)/c))/c)\n",
    "Z1 = Z1/np.max(Z1)"
   ]
  },
  {
   "cell_type": "code",
   "execution_count": 8,
   "metadata": {},
   "outputs": [],
   "source": [
    "[x, y] = np.meshgrid(feature_x1, feature_y1)"
   ]
  },
  {
   "cell_type": "code",
   "execution_count": 12,
   "metadata": {},
   "outputs": [],
   "source": [
    "row_arr = np.array([])\n",
    "for z in feature_z1:\n",
    "    a1 = -1*(K**2)*(x**2 + y**2)*(k)\n",
    "    b1 = (K**3)*y*k*B*(z**2)\n",
    "    c = (K**2)*(k**2)*(z**2) + 1\n",
    "    d = -0.25*(K**4)*(z**4)*(B**2)*k\n",
    "    \n",
    "    Z3 = (np.exp((a1 + b1+d)/c) + np.exp((a1 - b1+d)/c))/c\n",
    "    Z3 = Z3/np.max(Z3)\n",
    "    \n",
    "    #print(np.argmax(Z3, axis = 0))\n",
    "    row_arr = np.abs(np.append(row_arr, feature_y1[np.unique(np.argmax(Z3, axis = 0))[0]]))\n",
    "    #print(np.unique(np.argmax(Z3, axis = 0))[0])\n",
    "    \n",
    "row_arr1 = -1*row_arr\n",
    "\n",
    "#print(len(row_arr))  \n",
    "#print(len(feature_z1))"
   ]
  },
  {
   "cell_type": "markdown",
   "metadata": {},
   "source": [
    "***Note: uncomment the code below.***"
   ]
  },
  {
   "cell_type": "code",
   "execution_count": 14,
   "metadata": {},
   "outputs": [
    {
     "data": {
      "text/plain": [
       "'\\nfig = go.Figure()\\nfig.add_trace(\\n     go.Heatmap(x = feature_z1, y = feature_y1, z = Z1, \\n               colorscale=\\'jet\\'\\n               )) \\n\\nfig.add_trace(go.Scatter(x = feature_z1, y = row_arr, line = dict(color = \\'white\\', width = 4, dash = \\'dot\\'), showlegend = False))\\nfig.add_trace(go.Scatter(x = feature_z1, y = row_arr1, line = dict(color = \\'white\\', width = 4, dash = \\'dot\\'), showlegend = False))\\nfig.update_layout(title = \"Propogation Pattern of Incident Gaussian Idler Beam\",\\n                     legend_title = \"Intensity\" , xaxis_title = \"$z[m]$\", yaxis_title = \"$y [\\\\mu m]$\")\\nfig.show()\\n'"
      ]
     },
     "execution_count": 14,
     "metadata": {},
     "output_type": "execute_result"
    }
   ],
   "source": [
    "\"\"\"\n",
    "fig = go.Figure()\n",
    "fig.add_trace(\n",
    "     go.Heatmap(x = feature_z1, y = feature_y1, z = Z1, \n",
    "               colorscale='jet'\n",
    "               )) \n",
    "\n",
    "fig.add_trace(go.Scatter(x = feature_z1, y = row_arr, line = dict(color = 'white', width = 4, dash = 'dot'), showlegend = False))\n",
    "fig.add_trace(go.Scatter(x = feature_z1, y = row_arr1, line = dict(color = 'white', width = 4, dash = 'dot'), showlegend = False))\n",
    "fig.update_layout(title = \"Propogation Pattern of Incident Gaussian Idler Beam\",\n",
    "                     legend_title = \"Intensity\" , xaxis_title = \"$z[m]$\", yaxis_title = \"$y [\\mu m]$\")\n",
    "fig.show()\n",
    "\"\"\""
   ]
  },
  {
   "cell_type": "markdown",
   "metadata": {},
   "source": [
    "Below is the transverse intensity plot, demonstrating the intensity of the screen"
   ]
  },
  {
   "cell_type": "code",
   "execution_count": 9,
   "metadata": {},
   "outputs": [],
   "source": [
    "z = 0.050\n",
    "a1 = -1*(K**2)*(x**2 + y**2)*(k)\n",
    "b1 = (K**3)*y*k*B*(z**2)\n",
    "c = (K**2)*(k**2)*(z**2) + 1\n",
    "d = -0.25*(K**4)*(z**4)*(B**2)*k"
   ]
  },
  {
   "cell_type": "code",
   "execution_count": 10,
   "metadata": {},
   "outputs": [],
   "source": [
    "Z3 = ((np.exp((a1 + b1+d)/c) + np.exp((a1 - b1+d)/c))/c)"
   ]
  },
  {
   "cell_type": "markdown",
   "metadata": {},
   "source": [
    "***Note: uncomment the code below.***"
   ]
  },
  {
   "cell_type": "code",
   "execution_count": 15,
   "metadata": {},
   "outputs": [
    {
     "data": {
      "text/plain": [
       "'\\nZ3 = Z3/np.max(Z3)\\nfig2 = go.Figure(data =\\n     go.Heatmap(x = feature_x1, y = feature_y1, z = Z3, \\n               colorscale=\\'jet\\'\\n               )) \\nfig2.update_layout(width = 800, height = 800, title = \"Intensity Pattern on Screen\", \\n                   xaxis_title = \"$x [\\\\mu m]$\", yaxis_title = \"$y [\\\\mu m]$\")\\nfig2.show()\\n'"
      ]
     },
     "execution_count": 15,
     "metadata": {},
     "output_type": "execute_result"
    }
   ],
   "source": [
    "\"\"\"\n",
    "Z3 = Z3/np.max(Z3)\n",
    "fig2 = go.Figure(data =\n",
    "     go.Heatmap(x = feature_x1, y = feature_y1, z = Z3, \n",
    "               colorscale='jet'\n",
    "               )) \n",
    "fig2.update_layout(width = 800, height = 800, title = \"Intensity Pattern on Screen\", \n",
    "                   xaxis_title = \"$x [\\mu m]$\", yaxis_title = \"$y [\\mu m]$\")\n",
    "fig2.show()\n",
    "\"\"\""
   ]
  },
  {
   "cell_type": "markdown",
   "metadata": {},
   "source": [
    "## Table 1 (From the main paper)"
   ]
  },
  {
   "cell_type": "markdown",
   "metadata": {},
   "source": [
    " <h2 style='padding: 10px'>Summary of the physical parameters of the spin-1/2\n",
    "dynamics and the equivalent system in nonlinear optics.\n",
    "</h2><table class='table table-striped'> <thead> <tr> <th>Parameter</th> <th>Spin-1/2</th> <th>SFG equivalent</th>  </tr> </thead> <tbody> <tr> <th scope='row'>Spin (z basis)</th> <td>$|\\uparrow_z\\rangle$ ,$|\\downarrow_z\\rangle$</td> <td>$|\\omega_i\\rangle$, $|\\omega_s\\rangle$</td> <td></td> </tr> <tr> <th scope='row'>Wave functions</th> <td>$\\psi_\\uparrow$ ,$\\psi_\\downarrow$</td> <td>$\\tilde A_i$ ,$\\tilde A_s$</td> <td></td> </tr> <tr> <th scope='row'>Magnetic field</th> <td>$\\textbf{B}$</td> <td> $B(\\tilde r)$ = $2|d_qA_p|/n_in_s (\\hat{x}cos\\phi + \\hat{y}sin\\phi) +(\\Delta k-q)\\big/2\\sqrt{k_ik_s}\\hat z $</td> <td></td> </tr> \n",
    "<tr> <th scope='row'>Space and time</th> <td>(x,y,t)</td> <td>$(\\tilde x,\\tilde y,\\tau)=\\sqrt{k_ik_s}(x,y,z)$</td> <td></td> </tr> <tr> <th scope='row'>Mass</th> <td>m</td> <td>$m_\\uparrow=\\sqrt{k_i/k_s}=m^{-1}_\\downarrow$</td> <td></td> </tr><tr> <th scope='row'>Magnetic moment</th> <td>$\\mu=eh/4m\\pi$</td> <td>$\\mu=1$</td> <td></td> </tr> <tr> <th scope='row'>Transverse spin</th> <td>$\\frac{(|\\uparrow_z\\rangle\\pm e^{i\\phi}|\\downarrow_z\\rangle)}{\\sqrt 2}$</td> <td>$|\\omega_\\pm\\rangle$=$\\frac{(|\\omega_i\\rangle\\pm e^{i\\phi}|\\omega_s\\rangle)}{\\sqrt 2}$</td> <td></td> </tr> </tbody> </table>"
   ]
  },
  {
   "cell_type": "markdown",
   "metadata": {},
   "source": [
    "# Applications "
   ]
  },
  {
   "cell_type": "markdown",
   "metadata": {},
   "source": [
    "We list out some more situations where we can use the same kind of analogies with the formalism of quantum mechanics to solve classical problems:"
   ]
  },
  {
   "cell_type": "markdown",
   "metadata": {},
   "source": [
    "1) $\\textbf{Berry's Phase and the problem of π\n",
    "phase shift upon a 2π rotation of the state :}$<br>\n",
    "\n",
    "$\\textbf{Berry's Phase:}$<br>\n",
    "An intuitive classic example of parallel transport  is the displacement of a vector along a loop drawn on a sphere (you may think of a compass needle carried in a ship or car traveling on the surface of the planet). In the figure below, both vectors stay tangential to the curved surface at all times. They start from the \"north pole\" , and get transported along the path, remaining as parallel as possible to the direction they were pointing at before each infinitesimal displacement (the long vector points \"South\" and the short one points \"East\" all the time). After completing the closed path, or loop, the vectors go back to the original point, but they find themselves rotated with respect to the directions they were pointing at when the journey started. Note that the vectors \"rotate\" despite the fact we have been careful to keep them parallel during transport.In our example, where the loop surrounds one eighth of the sphere, the rotation angle amounts to $90^0$. A larger path surrounding for example one quarter of the sphere, would rotate the parallel-transported vectors by $180^0$. An even larger loop, a diameter, surrounding (on both sides) half the sphere gives a rotation angle of $360^0$, i.e. no rotation at all."
   ]
  },
  {
   "cell_type": "markdown",
   "metadata": {},
   "source": [
    "The reason for this rotation is purely geometrical-topological. In fact, it is connected to the intrinsic curvature of the sphere. No such phenomenon would appear if vectors are parallel-transported along a flat manifold, such as a plane or a cylinder. The rotation angle is in fact related to the integral of the curvature on the surface bounded by the loop."
   ]
  },
  {
   "cell_type": "markdown",
   "metadata": {},
   "source": [
    "Such rotation angles of geometrical origin are known as Berry phases.In classical and quantum mechanics, Berry phase (also known as geometric phase or Pancharatnam phase ) is a phase difference acquired over the course of a cycle, when a system is subjected to cyclic adiabatic processes, which results from the geometrical properties of the parameter space of the Hamiltonian. \n",
    "Please see the figure below: (In case the figure is not accessible, use the following google drive link: [https://drive.google.com/file/d/1HXH06VXGCglpMeIZqIAYNuV0LjJtpr6O/view?usp=sharing])"
   ]
  },
  {
   "cell_type": "markdown",
   "metadata": {},
   "source": [
    "![Fig](paralleltransport.jpg) $$Source: \\: Google\\:images$$"
   ]
  },
  {
   "cell_type": "markdown",
   "metadata": {},
   "source": [
    "$\\textbf{Quantum Adiabatic Theorem}$:<br>\n",
    "It says that if a system begins a time t, in an instantaneous eigenstate $\\psi_n(x,t)$\n",
    ", then all later times will remain in that same eigenstate, but develop phase factors if taken along an adiabatic path\n",
    "\n",
    "$\\textbf{Quantum Adiabatic Theorem and the Berry phase problem}$:<br>\n",
    "Berry demonstrated that an eigenstate of a quantum-mechanical (QM) Hamiltonian, following an adiabatic closed trajectory in the parameter space(an abstract space) , accumulates a berry phase $\\gamma=\\frac{-1}{2}\\Omega$ for spin-1/2 particles in an adiabatically rotating magnetic field.  $\\Omega$ is the solid angle"
   ]
  },
  {
   "cell_type": "markdown",
   "metadata": {},
   "source": [
    "$\\textbf{Similarity with the polarization problem by Pancharatnam}$:<br>\n",
    "\n",
    "An Indian scientist , Pancharatnam, pointed out that polarized light can accumulate a phase, in addition to that associated with propagation, when the polarization state is changed over a non-closed trajectory between two points on the Poincare sphere(A tool we used in course-I where any state of polarisation can be represented on or inside a unit sphere with the origin as the centre,the coordinates being the normalised stokes parameters that describe your polarized state ). This geometric phase was shown to be calculated via the so called Pancharatnam connection, demonstrating an intrinsic dependence on the geometric properties of the path taken in polarization space. A special case is when the polarization state undergoes a closed trajectory over several points and returns to its original value. The resulting geometric phase, $\\gamma$, is then associated with the solid angle, $\\Omega$ enclosed by the geodesic polygon on the Poincare sphere, namely  $\\gamma=\\frac{-1}{2}\\Omega$\n"
   ]
  },
  {
   "cell_type": "markdown",
   "metadata": {},
   "source": [
    "Reference: M. V. Berry, The adiabatic phase and Pancharatnam’s phase\n",
    "for polarized light, J. Mod. Opt. 34, 1401 (1987).\n"
   ]
  },
  {
   "cell_type": "markdown",
   "metadata": {},
   "source": [
    "Thus, we could see an interesting analogy between a classical and quantum mechanical problem,the above problem was solved in a similar way to that we did in this paper"
   ]
  },
  {
   "cell_type": "markdown",
   "metadata": {},
   "source": [
    "$\\textbf{In Photonic qubits}$:<br>\n",
    "\n",
    "We have learnt in  quantum physics,that we describe  monochromatic light, such as the light emitted by a laser, being composed of photons of energy E=h$\\nu$ the photons have a specific frequency $\\nu$, whereas Polychromatic light ,such as the light emitted by the Sun, contains photons of many different frequencies. However, each individual photon usually has a well-defined frequency and energy. Interestingly, the superposition principle of quantum physics allows for yet another version of polychromatic light: a single photon in a superposition of two discrete frequencies $ν_A$ and $ν_B$. In this case, neither the frequency nor the energy of the photon is well defined. In some sense, such a “bichromatic” photon can be thought of as having two different colors at the same time, only one of which would be revealed if the photon were measured by a spectrometer or detected by eye.<br>\n",
    "However, the creation and manipulation of \"bichromatic photons\" is quite challenging. The difficulty is that such processes require an interaction between photons of different frequencies, and in most media, light beams do not interact. We know that the situation changes if light propagates in a nonlinear medium, where the optical properties vary with the intensity of light. The nonlinear response results in an interaction between photons, providing a means with which to convert them to a different frequency. To make this process efficient, however, the medium must be pumped with separate high-power laser beams. Several experiments have succeeded in creating suitable single-photon nonlinearities of which the issue dealt in the paper could also be modified such that it falls under this catergory.<br>\n",
    "The input idler wave can be viewed as existing in a single photon state. On application of the optical Stern-Gerlach deflector the result will be a single-photon 2-qubit state in both frequency, i.e., either the signal or the idler frequencies, as well as in direction, in one of the two output angles.Thus ,a Stern-Gerlach deflector for single photons may, play an important role in the realization of quantum mechanical applications based on photonic qubits."
   ]
  },
  {
   "cell_type": "markdown",
   "metadata": {},
   "source": [
    "Reference: P. Treutlein, Viewpoint: Photon qubit is made of two colors,\n",
    "Physics 9, 135 (2016)"
   ]
  },
  {
   "cell_type": "markdown",
   "metadata": {},
   "source": [
    "To summarise on the applications, we have seen that the all-optical SG effect has an interesting analogy with quantum formalism. These kind of ideas might shed some light on some dealing with classical problems to solve quantum mechanical questions. The formalism developed in the paper leaves us into thinking how far can the limits of analogies between classical and quantum-mechanical systems be stretched as we have achieved quite a lot of analogies in this paper."
   ]
  },
  {
   "cell_type": "markdown",
   "metadata": {},
   "source": [
    "# Potential Endsem Problem"
   ]
  },
  {
   "cell_type": "markdown",
   "metadata": {},
   "source": [
    "In the analysis so far, we have considered a plane wave pump and a gaussian idler. One might wonder, why start with a gaussian idler? Why not do the same analysis with a plane wave idler, which is expected to be less cumbersome..."
   ]
  },
  {
   "cell_type": "markdown",
   "metadata": {},
   "source": [
    "### Repeat the analysis so far with a plane wave idler instead of a gaussian idler (assume the pump to be undepleted plane wave and other approximations that we have used throughout). Assume the idler to be of the form $1 \\times exp(-i\\omega_i t + k_i z)$  for simplicity. Answering the following sub-questions will help in tackling the actual problem: "
   ]
  },
  {
   "cell_type": "markdown",
   "metadata": {},
   "source": [
    "***What will be the envelope of such a plane wave in the transverse k-space?***"
   ]
  },
  {
   "cell_type": "markdown",
   "metadata": {},
   "source": [
    "$Solution:$\n",
    "\n",
    "Fourier transform of a constant is a delta function. Thus, if $A_i(\\tilde{\\mathbf{r}}) = 1$, then $a_i(\\tilde{\\mathbf{k_T}}) = \\delta\\left(\\tilde{k_x}\\right)\\delta\\left(\\tilde{k_y}\\right)$"
   ]
  },
  {
   "cell_type": "markdown",
   "metadata": {},
   "source": [
    "***Write down the initial state of the system.***"
   ]
  },
  {
   "cell_type": "markdown",
   "metadata": {},
   "source": [
    "$Solution :$\n",
    "\n",
    "\\begin{equation}\n",
    "    |\\psi(0) \\rangle = |\\omega_i\\rangle = \\frac{1}{\\sqrt{2}} \\left(|\\omega_+\\rangle + |\\omega_- \\rangle \\right) \\otimes \\int a_i(\\tilde{\\mathbf{k_T}}) |\\tilde{\\mathbf{k_T}}\\rangle  d^2 \\tilde{\\mathbf{k}} = \\frac{1}{\\sqrt{2}} \\left(|\\omega_+\\rangle + |\\omega_- \\rangle \\right) \\otimes \\int \\delta\\left(\\tilde{k_x}\\right)\\delta\\left(\\tilde{k_y}\\right) |\\tilde{\\mathbf{k_T}}\\rangle  d^2 \\tilde{\\mathbf{k}}\n",
    "\\end{equation}"
   ]
  },
  {
   "cell_type": "markdown",
   "metadata": {},
   "source": [
    "***Find out the evolved state at any $\\tau$ by applying the propagation operator $U_\\pm  = \\int  exp(-i\\tau H_\\pm) |\\tilde{\\mathbf{k_T}}\\rangle \\langle \\tilde{\\mathbf{k_T}}|   d^2 \\tilde{\\mathbf{k}}$ on the initial state.***"
   ]
  },
  {
   "cell_type": "markdown",
   "metadata": {},
   "source": [
    "$Solution :$\n",
    "\n",
    "\\begin{equation}\n",
    "  U_{\\pm} \\int a_i(\\tilde{\\mathbf{k'_T}}) |\\tilde{\\mathbf{k'_T}}\\rangle  d^2 \\tilde{\\mathbf{k'}}  = \\int \\int exp(-i\\tau H_\\pm) a_i(\\tilde{\\mathbf{k'_T}}) |\\tilde{\\mathbf{k_T}}\\rangle \\langle \\tilde{\\mathbf{k_T}}| \\tilde{\\mathbf{k'_T}} \\rangle   d^2 \\tilde{\\mathbf{k}} d^2 \\tilde{\\mathbf{k'}}\n",
    "\\end{equation}\n",
    "\n",
    "We have:\n",
    "\n",
    "\\begin{equation}\n",
    "exp\\left(-\\imath \\tau H_{\\pm}\\right) = exp\\left(\\pm i \\tau \\frac{B_{0}}{2} - \\frac{i \\tau^3 B'^2}{6}\\right) \\times exp\\left(\\mp \\tau B' \\frac{\\partial}{\\partial \\tilde{k_{y}}}\\right) \\times exp\\left(-i \\tau \\frac{\\tilde{k}^2}{2} \\mp \\frac{1}{2} i \\tau^2 B'\\tilde{k_{y}}\\right)\n",
    "\\end{equation}\n",
    "\n",
    "and,\n",
    "\n",
    "\\begin{equation}\n",
    "\\langle \\tilde{\\mathbf{k_T}}| \\tilde{\\mathbf{k'_T}} \\rangle = \\delta^2\\left(\\tilde{\\mathbf{k_T}} -  \\tilde{\\mathbf{k'_T}} \\right)\n",
    "\\end{equation}\n",
    "\n",
    "After some calculations, you would obtain:\n",
    "\n",
    "\\begin{equation}\n",
    "    |\\psi(\\tau)\\rangle = \\sum_{s=\\pm}^{} \\left[ \\int exp(\\beta - a \\tilde{k}^2 + s b \\tilde{k_y}) \\delta\\left(\\tilde{k_x}\\right)\\delta\\left(\\tilde{k_y} \\mp \\tau B'\\right) |\\tilde{\\mathbf{k_T}}\\rangle d^2 \\tilde{\\mathbf{k}} \\otimes |\\omega_s\\rangle \\right]\n",
    "\\end{equation}\n",
    "\n",
    "Where,\n",
    "\n",
    "\\begin{equation}\n",
    "    \\beta = \\pm \\frac{i \\tau B_o}{2} - \\frac{i \\tau^3 B'^2}{6}\n",
    "\\end{equation}\n",
    "\n",
    "\\begin{equation}\n",
    "    a = \\frac{i\\tau}{2}\n",
    "\\end{equation}\n",
    "\n",
    "\\begin{equation}\n",
    "    b = \\frac{i\\tau^2 B'}{2}\n",
    "\\end{equation}"
   ]
  },
  {
   "cell_type": "markdown",
   "metadata": {},
   "source": [
    "***Find out the probability amplitude in the position space, i.e. $ \\left(\\langle \\tilde{\\mathbf{r}}| \\otimes  \\langle \\omega_s | \\right) |\\psi(\\tau)\\rangle \\equiv  \\psi_s(\\tilde{\\mathbf{r}})$***"
   ]
  },
  {
   "cell_type": "markdown",
   "metadata": {},
   "source": [
    "$Solution :$\n",
    "\n",
    "We have:\n",
    "\n",
    "$$ \\langle \\omega_s | \\omega_s \\rangle = 1$$\n",
    "\n",
    "$$ \\langle \\tilde{\\mathbf{r}}|\\tilde{\\mathbf{k_T}}\\rangle = exp\\left(i \\tilde{\\mathbf{r}} \\cdot \\tilde{\\mathbf{k_T}}\\right) $$\n",
    "\n",
    "Thus, we obtain:\n",
    "\n",
    "\\begin{equation}\n",
    "\\psi_s(\\tilde{\\mathbf{r}}) = \\int_{-\\infty}^{+\\infty} exp\\left(\\beta\\right) exp\\left(-a \\tilde{k_x}^2 + i \\tilde{x} \\tilde{k_x} \\right) exp\\left( -a \\tilde{k_y}^2 + (s b + i \\tilde{y}) \\tilde{k_y}   \\right) \\delta\\left(\\tilde{k_x}\\right)\\delta\\left(\\tilde{k_y} \\mp \\tau B'\\right) d\\tilde{k_x}d\\tilde{k_y}\n",
    "\\end{equation}\n",
    "\n",
    "The delta functions kill the integral, and we obtain:\n",
    "\n",
    "\\begin{equation}\n",
    "    \\psi_s(\\tilde{\\mathbf{r}}) = exp\\left(\\beta - a\\tau^2B'^2 - b\\tau B' - s i \\tau B' \\tilde{y} \\right)\n",
    "\\end{equation}"
   ]
  },
  {
   "cell_type": "markdown",
   "metadata": {},
   "source": [
    "### Do you expect the mutual evolved beam to deflect into two? Could you have reasoned your answer without resorting to the above calculations and using the results that we derived for the gaussian idler?"
   ]
  },
  {
   "cell_type": "markdown",
   "metadata": {},
   "source": [
    "There will not be any deflection. One can see this directly from the expression of the position space amplitude squared for the gaussian idler analysis, by letting $\\Delta \\tilde{k} \\rightarrow 0$"
   ]
  },
  {
   "cell_type": "markdown",
   "metadata": {},
   "source": [
    "# Individual Contributions"
   ]
  },
  {
   "cell_type": "markdown",
   "metadata": {},
   "source": [
    "This course project was implemented due to the collective efforts of all the group members. All of us have put in efforts to understand the paper as a whole, but each of us has dwelved deeper into certain aspects which we mention here:"
   ]
  },
  {
   "cell_type": "markdown",
   "metadata": {},
   "source": [
    "***Himansh Rathore***\n",
    "<br>\n",
    "Developing analogous Dirac notation, developing the propagation operators, evolution of gaussian idler in the SG Hamiltonian and the intensity pattern, deriving the general quantum mechanical Pauli equation, deriving the CWEs for SFG process, design of simulations, endsem problem."
   ]
  },
  {
   "cell_type": "markdown",
   "metadata": {},
   "source": [
    "***Bhavya Jain***\n",
    "<br>\n",
    "Transformation of CWEs to analogous transverse Pauli equation, identifying analogous quantities in the quantum mechanical and SFG pictures, experimental implementation of the setup, design of simulations, code for simulations, overall presentation of the executable paper. "
   ]
  },
  {
   "cell_type": "markdown",
   "metadata": {},
   "source": [
    "***Aniruddha Latkar***\n",
    "<br>\n",
    "Introduction and motivation to the problem, transformation from the general quantum mechanical Pauli equation to the transverse Pauli equation, transformation to the diagonal basis, transformation to the transverse k-space, construction of the diagonalized Hamiltonian. "
   ]
  },
  {
   "cell_type": "markdown",
   "metadata": {},
   "source": [
    "***Priyatham Manohar***\n",
    "<br>\n",
    "Developing analogous Dirac notation, simplifying assumptions and approximations for solving the analogous transverse Pauli equation, Quasi Phase Matching implementation, experimental implementation of the setup, applications involving Berry phase and photonic qubits."
   ]
  }
 ],
 "metadata": {
  "kernelspec": {
   "display_name": "Python 3",
   "language": "python",
   "name": "python3"
  },
  "language_info": {
   "codemirror_mode": {
    "name": "ipython",
    "version": 3
   },
   "file_extension": ".py",
   "mimetype": "text/x-python",
   "name": "python",
   "nbconvert_exporter": "python",
   "pygments_lexer": "ipython3",
   "version": "3.8.3"
  }
 },
 "nbformat": 4,
 "nbformat_minor": 4
}
